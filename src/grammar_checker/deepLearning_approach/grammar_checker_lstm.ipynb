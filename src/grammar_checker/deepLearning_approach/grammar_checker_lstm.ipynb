{
 "cells": [
  {
   "cell_type": "code",
<<<<<<< HEAD
   "execution_count": 1,
=======
   "execution_count": 56,
>>>>>>> 757cc1cd0403d1336e16bf1c11653bd4c71efbc8
   "metadata": {},
   "outputs": [],
   "source": [
    "from tensorflow.keras.preprocessing.text import Tokenizer\n",
    "from tensorflow.keras.preprocessing.sequence import pad_sequences\n",
    "from sklearn.model_selection import train_test_split\n",
    "from tensorflow.keras.models import Model\n",
    "from tensorflow.keras.layers import Input, LSTM, Embedding, Dense\n",
    "from tensorflow.keras.utils import plot_model\n",
    "import numpy as np\n",
    "import random\n",
    "import pandas as pd\n",
    "from PIL import Image\n",
    "import matplotlib.pyplot as plt\n",
    "import pickle\n",
<<<<<<< HEAD
    "from tensorflow.keras.preprocessing.sequence import pad_sequences\n",
    "from tensorflow.keras.optimizers import Adam"
=======
    "from tensorflow.keras.preprocessing.sequence import pad_sequences"
>>>>>>> 757cc1cd0403d1336e16bf1c11653bd4c71efbc8
   ]
  },
  {
   "cell_type": "code",
<<<<<<< HEAD
   "execution_count": 2,
=======
   "execution_count": 15,
>>>>>>> 757cc1cd0403d1336e16bf1c11653bd4c71efbc8
   "metadata": {},
   "outputs": [
    {
     "data": {
      "text/html": [
       "<div>\n",
       "<style scoped>\n",
       "    .dataframe tbody tr th:only-of-type {\n",
       "        vertical-align: middle;\n",
       "    }\n",
       "\n",
       "    .dataframe tbody tr th {\n",
       "        vertical-align: top;\n",
       "    }\n",
       "\n",
       "    .dataframe thead th {\n",
       "        text-align: right;\n",
       "    }\n",
       "</style>\n",
       "<table border=\"1\" class=\"dataframe\">\n",
       "  <thead>\n",
       "    <tr style=\"text-align: right;\">\n",
       "      <th></th>\n",
       "      <th>Error Sentence</th>\n",
       "      <th>Error Type</th>\n",
       "      <th>Corrected Sentence</th>\n",
       "    </tr>\n",
       "  </thead>\n",
       "  <tbody>\n",
       "    <tr>\n",
       "      <th>0</th>\n",
       "      <td>அவள் பாடல்கள் பாடுகிறான்.</td>\n",
       "      <td>Subject-Verb Agreement</td>\n",
       "      <td>அவள் பாடல்கள் பாடுகிறாள்.</td>\n",
       "    </tr>\n",
       "    <tr>\n",
       "      <th>1</th>\n",
       "      <td>நாங்கள் நேரம் பழகுகிறேன்.</td>\n",
       "      <td>Subject-Verb Agreement</td>\n",
       "      <td>நாங்கள் நேரம் பழகுகிறோம்.</td>\n",
       "    </tr>\n",
       "    <tr>\n",
       "      <th>2</th>\n",
       "      <td>அவன் புத்தகத்தை படிக்கிறார்கள்.</td>\n",
       "      <td>Subject-Verb Agreement</td>\n",
       "      <td>அவன் புத்தகத்தை படிக்கிறான்.</td>\n",
       "    </tr>\n",
       "    <tr>\n",
       "      <th>3</th>\n",
       "      <td>அவர்கள் விளையாட்டு விளையாடுகிறேன்.</td>\n",
       "      <td>Subject-Verb Agreement</td>\n",
       "      <td>அவர்கள் விளையாட்டு விளையாடுகிறார்கள்.</td>\n",
       "    </tr>\n",
       "    <tr>\n",
       "      <th>4</th>\n",
       "      <td>நான் வீட்டில் வேலை செய்கிறார்கள்.</td>\n",
       "      <td>Subject-Verb Agreement</td>\n",
       "      <td>நான் வீட்டில் வேலை செய்கிறேன்.</td>\n",
       "    </tr>\n",
       "  </tbody>\n",
       "</table>\n",
       "</div>"
      ],
      "text/plain": [
       "                       Error Sentence              Error Type  \\\n",
       "0           அவள் பாடல்கள் பாடுகிறான்.  Subject-Verb Agreement   \n",
       "1           நாங்கள் நேரம் பழகுகிறேன்.  Subject-Verb Agreement   \n",
       "2     அவன் புத்தகத்தை படிக்கிறார்கள்.  Subject-Verb Agreement   \n",
       "3  அவர்கள் விளையாட்டு விளையாடுகிறேன்.  Subject-Verb Agreement   \n",
       "4   நான் வீட்டில் வேலை செய்கிறார்கள்.  Subject-Verb Agreement   \n",
       "\n",
       "                      Corrected Sentence  \n",
       "0              அவள் பாடல்கள் பாடுகிறாள்.  \n",
       "1              நாங்கள் நேரம் பழகுகிறோம்.  \n",
       "2           அவன் புத்தகத்தை படிக்கிறான்.  \n",
       "3  அவர்கள் விளையாட்டு விளையாடுகிறார்கள்.  \n",
       "4         நான் வீட்டில் வேலை செய்கிறேன்.  "
      ]
     },
<<<<<<< HEAD
     "execution_count": 2,
=======
     "execution_count": 15,
>>>>>>> 757cc1cd0403d1336e16bf1c11653bd4c71efbc8
     "metadata": {},
     "output_type": "execute_result"
    }
   ],
   "source": [
    "# Load the dataset\n",
    "file_path = r\"D:\\7th Semester\\AI\\Tamil-SpellGrammar-Checker\\data\\grammar_checker_dataset\\final_dataset.csv\"\n",
<<<<<<< HEAD
    "file_path2 = r\"D:\\7th Semester\\AI\\Tamil-SpellGrammar-Checker\\data\\grammar_checker_dataset\\tamildataset.xlsx\"\n",
    "df = pd.read_csv(file_path)\n",
    "df2 = pd.read_excel(file_path2)\n",
=======
    "df = pd.read_csv(file_path)\n",
    "\n",
>>>>>>> 757cc1cd0403d1336e16bf1c11653bd4c71efbc8
    "# Display the first few rows of the dataset to understand its structure\n",
    "df.head()"
   ]
  },
  {
   "cell_type": "markdown",
   "metadata": {},
   "source": [
    "### Data Preprocessing"
   ]
  },
  {
   "cell_type": "code",
<<<<<<< HEAD
   "execution_count": 3,
=======
   "execution_count": 16,
>>>>>>> 757cc1cd0403d1336e16bf1c11653bd4c71efbc8
   "metadata": {},
   "outputs": [],
   "source": [
    "df = df.dropna(subset=['Error Sentence', 'Corrected Sentence'])\n",
    "\n",
    "df['Error Sentence'] = df['Error Sentence'].astype(str)\n",
    "df['Corrected Sentence'] = df['Corrected Sentence'].astype(str)\n",
    "\n",
    "# Separate the ungrammatical sentences (input) and corrected Sentence sentences (target)\n",
    "input_sentences = df['Error Sentence'].values\n",
    "target_sentences = ['<start> ' + sentence + ' <end>' for sentence in df['Corrected Sentence'].values]"
   ]
  },
  {
   "cell_type": "code",
<<<<<<< HEAD
   "execution_count": 4,
=======
   "execution_count": 18,
>>>>>>> 757cc1cd0403d1336e16bf1c11653bd4c71efbc8
   "metadata": {},
   "outputs": [
    {
     "data": {
      "text/plain": [
       "array(['அவள் பாடல்கள் பாடுகிறான்.', 'நாங்கள் நேரம் பழகுகிறேன்.'],\n",
       "      dtype=object)"
      ]
     },
<<<<<<< HEAD
     "execution_count": 4,
=======
     "execution_count": 18,
>>>>>>> 757cc1cd0403d1336e16bf1c11653bd4c71efbc8
     "metadata": {},
     "output_type": "execute_result"
    }
   ],
   "source": [
    "input_sentences[0:2]"
   ]
  },
  {
   "cell_type": "code",
<<<<<<< HEAD
   "execution_count": 5,
=======
   "execution_count": 19,
>>>>>>> 757cc1cd0403d1336e16bf1c11653bd4c71efbc8
   "metadata": {},
   "outputs": [
    {
     "data": {
      "text/plain": [
       "['<start> அவள் பாடல்கள் பாடுகிறாள். <end>',\n",
       " '<start> நாங்கள் நேரம் பழகுகிறோம். <end>']"
      ]
     },
<<<<<<< HEAD
     "execution_count": 5,
=======
     "execution_count": 19,
>>>>>>> 757cc1cd0403d1336e16bf1c11653bd4c71efbc8
     "metadata": {},
     "output_type": "execute_result"
    }
   ],
   "source": [
    "target_sentences[0:2]"
   ]
  },
  {
   "cell_type": "markdown",
   "metadata": {},
   "source": [
    "### Tokenization"
   ]
  },
  {
   "cell_type": "code",
<<<<<<< HEAD
   "execution_count": 6,
=======
   "execution_count": 21,
>>>>>>> 757cc1cd0403d1336e16bf1c11653bd4c71efbc8
   "metadata": {},
   "outputs": [],
   "source": [
    "# Tokenize the input sentences \n",
<<<<<<< HEAD
    "input_tokenizer = Tokenizer()\n",
=======
    "input_tokenizer = Tokenizer(filters='')\n",
>>>>>>> 757cc1cd0403d1336e16bf1c11653bd4c71efbc8
    "input_tokenizer.fit_on_texts(input_sentences)\n",
    "input_sequences = input_tokenizer.texts_to_sequences(input_sentences)\n",
    "\n",
    "# Tokenize the target sentences\n",
<<<<<<< HEAD
    "output_tokenizer = Tokenizer()\n",
=======
    "output_tokenizer = Tokenizer(filters='')\n",
>>>>>>> 757cc1cd0403d1336e16bf1c11653bd4c71efbc8
    "output_tokenizer.fit_on_texts(target_sentences)\n",
    "target_sequences = output_tokenizer.texts_to_sequences(target_sentences)"
   ]
  },
  {
   "cell_type": "code",
<<<<<<< HEAD
   "execution_count": 7,
=======
   "execution_count": 22,
>>>>>>> 757cc1cd0403d1336e16bf1c11653bd4c71efbc8
   "metadata": {},
   "outputs": [
    {
     "data": {
      "text/plain": [
       "[[5, 21, 13], [4, 19, 22]]"
      ]
     },
<<<<<<< HEAD
     "execution_count": 7,
=======
     "execution_count": 22,
>>>>>>> 757cc1cd0403d1336e16bf1c11653bd4c71efbc8
     "metadata": {},
     "output_type": "execute_result"
    }
   ],
   "source": [
    "input_sequences[0:2]"
   ]
  },
  {
   "cell_type": "code",
<<<<<<< HEAD
   "execution_count": 8,
=======
   "execution_count": 23,
>>>>>>> 757cc1cd0403d1336e16bf1c11653bd4c71efbc8
   "metadata": {},
   "outputs": [
    {
     "data": {
      "text/plain": [
       "[[1, 7, 26, 20, 2], [1, 6, 21, 24, 2]]"
      ]
     },
<<<<<<< HEAD
     "execution_count": 8,
=======
     "execution_count": 23,
>>>>>>> 757cc1cd0403d1336e16bf1c11653bd4c71efbc8
     "metadata": {},
     "output_type": "execute_result"
    }
   ],
   "source": [
    "target_sequences[0:2]"
   ]
  },
  {
   "cell_type": "code",
<<<<<<< HEAD
   "execution_count": 9,
=======
   "execution_count": 45,
>>>>>>> 757cc1cd0403d1336e16bf1c11653bd4c71efbc8
   "metadata": {},
   "outputs": [],
   "source": [
    "# Save input tokenizer\n",
    "with open('input_tokenizer.pkl', 'wb') as f:\n",
    "    pickle.dump(input_tokenizer, f)\n",
    "\n",
    "# Save output tokenizer\n",
    "with open('output_tokenizer.pkl', 'wb') as f:\n",
    "    pickle.dump(output_tokenizer, f)"
   ]
  },
  {
   "cell_type": "code",
<<<<<<< HEAD
   "execution_count": 10,
=======
   "execution_count": 105,
>>>>>>> 757cc1cd0403d1336e16bf1c11653bd4c71efbc8
   "metadata": {},
   "outputs": [
    {
     "data": {
      "text/plain": [
<<<<<<< HEAD
       "(660, 664)"
      ]
     },
     "execution_count": 10,
=======
       "(1, 2)"
      ]
     },
     "execution_count": 105,
>>>>>>> 757cc1cd0403d1336e16bf1c11653bd4c71efbc8
     "metadata": {},
     "output_type": "execute_result"
    }
   ],
   "source": [
<<<<<<< HEAD
    "len(input_tokenizer.word_index), len(output_tokenizer.word_index)"
   ]
  },
  {
   "cell_type": "code",
   "execution_count": 11,
   "metadata": {},
   "outputs": [
    {
     "name": "stdout",
     "output_type": "stream",
     "text": [
      "{1: 'நான்', 2: 'அவர்கள்', 3: 'அவன்', 4: 'நாங்கள்', 5: 'அவள்', 6: 'படிக்கிறார்கள்', 7: 'வீட்டில்', 8: 'தினமும்', 9: 'நீங்கள்', 10: 'வேலை'}\n",
      "{1: 'start', 2: 'end', 3: 'நான்', 4: 'அவர்கள்', 5: 'அவன்', 6: 'நாங்கள்', 7: 'அவள்', 8: 'வீட்டில்', 9: 'தினமும்', 10: 'நீங்கள்'}\n"
     ]
    }
   ],
   "source": [
    "print({index: input_tokenizer.index_word[index] for index in range(1, 11)})\n",
    "print({index: output_tokenizer.index_word[index] for index in range(1, 11)})"
   ]
  },
  {
   "cell_type": "code",
   "execution_count": 12,
   "metadata": {},
   "outputs": [
    {
     "data": {
      "text/plain": [
       "661"
      ]
     },
     "execution_count": 12,
     "metadata": {},
     "output_type": "execute_result"
    }
   ],
   "source": [
    "len(input_tokenizer.word_index)+1"
=======
    "output_tokenizer.word_index['<start>'], output_tokenizer.word_index['<end>']"
>>>>>>> 757cc1cd0403d1336e16bf1c11653bd4c71efbc8
   ]
  },
  {
   "cell_type": "markdown",
   "metadata": {},
   "source": [
    "### Find Maximum Sequence Lengths and Padding"
   ]
  },
  {
   "cell_type": "code",
<<<<<<< HEAD
   "execution_count": 13,
=======
   "execution_count": 24,
>>>>>>> 757cc1cd0403d1336e16bf1c11653bd4c71efbc8
   "metadata": {},
   "outputs": [],
   "source": [
    "# Find the maximum sequence lengths\n",
    "max_input_length = max(len(seq) for seq in input_sequences)\n",
    "max_target_length = max(len(seq) for seq in target_sequences)\n",
    "\n",
    "# Pad sequences to ensure equal length\n",
    "encoder_input_data = pad_sequences(input_sequences, maxlen=max_input_length, padding='post')\n",
    "decoder_input_data = pad_sequences(target_sequences, maxlen=max_target_length, padding='post')"
   ]
  },
  {
   "cell_type": "code",
<<<<<<< HEAD
   "execution_count": 14,
=======
   "execution_count": 25,
>>>>>>> 757cc1cd0403d1336e16bf1c11653bd4c71efbc8
   "metadata": {},
   "outputs": [
    {
     "name": "stdout",
     "output_type": "stream",
     "text": [
      "max_input_length: 8\n",
      "max_target_length: 10\n",
      "encoder_input_data.shape: (999, 8)\n",
      "decoder_input_data.shape: (999, 10)\n"
     ]
    }
   ],
   "source": [
    "print(f\"max_input_length: {max_input_length}\")\n",
    "print(f\"max_target_length: {max_target_length}\")\n",
    "print(f\"encoder_input_data.shape: {encoder_input_data.shape}\")\n",
    "print(f\"decoder_input_data.shape: {decoder_input_data.shape}\")"
   ]
  },
  {
   "cell_type": "code",
<<<<<<< HEAD
   "execution_count": 15,
=======
   "execution_count": 96,
>>>>>>> 757cc1cd0403d1336e16bf1c11653bd4c71efbc8
   "metadata": {},
   "outputs": [
    {
     "data": {
      "text/plain": [
       "array([[ 1,  7, 26, ...,  0,  0,  0],\n",
       "       [ 1,  6, 21, ...,  0,  0,  0],\n",
       "       [ 1,  5, 15, ...,  0,  0,  0],\n",
       "       ...,\n",
       "       [ 1,  4, 80, ...,  0,  0,  0],\n",
       "       [ 1,  5, 56, ...,  0,  0,  0],\n",
       "       [ 1,  3, 19, ...,  0,  0,  0]])"
      ]
     },
<<<<<<< HEAD
     "execution_count": 15,
=======
     "execution_count": 96,
>>>>>>> 757cc1cd0403d1336e16bf1c11653bd4c71efbc8
     "metadata": {},
     "output_type": "execute_result"
    }
   ],
   "source": [
    "decoder_input_data"
   ]
  },
  {
   "cell_type": "markdown",
   "metadata": {},
   "source": [
    "### Prepare Decoder Output Data (One-hot Encoding)"
   ]
  },
  {
   "cell_type": "code",
<<<<<<< HEAD
   "execution_count": 16,
=======
   "execution_count": 26,
>>>>>>> 757cc1cd0403d1336e16bf1c11653bd4c71efbc8
   "metadata": {},
   "outputs": [],
   "source": [
    "# Prepare decoder output data (shifted by 1 position for teacher forcing)\n",
    "decoder_output_data = np.zeros((len(target_sequences), max_target_length, len(output_tokenizer.word_index) + 1), dtype='float32')\n",
    "for i, seq in enumerate(target_sequences):\n",
    "    for t, word_id in enumerate(seq):\n",
    "        if t > 0:  # Skip the first token (start token)\n",
    "            decoder_output_data[i, t - 1, word_id] = 1.0"
   ]
  },
  {
   "cell_type": "code",
<<<<<<< HEAD
   "execution_count": 17,
=======
   "execution_count": 94,
>>>>>>> 757cc1cd0403d1336e16bf1c11653bd4c71efbc8
   "metadata": {},
   "outputs": [
    {
     "data": {
      "text/plain": [
<<<<<<< HEAD
       "(999, 10, 665)"
      ]
     },
     "execution_count": 17,
=======
       "(999, 10, 667)"
      ]
     },
     "execution_count": 94,
>>>>>>> 757cc1cd0403d1336e16bf1c11653bd4c71efbc8
     "metadata": {},
     "output_type": "execute_result"
    }
   ],
   "source": [
    "decoder_output_data.shape"
   ]
  },
  {
<<<<<<< HEAD
   "cell_type": "code",
   "execution_count": 18,
   "metadata": {},
   "outputs": [
    {
     "data": {
      "text/plain": [
       "array([[0., 0., 0., ..., 0., 0., 0.],\n",
       "       [0., 0., 0., ..., 0., 0., 0.],\n",
       "       [0., 0., 0., ..., 0., 0., 0.],\n",
       "       ...,\n",
       "       [0., 0., 0., ..., 0., 0., 0.],\n",
       "       [0., 0., 0., ..., 0., 0., 0.],\n",
       "       [0., 0., 0., ..., 0., 0., 0.]], dtype=float32)"
      ]
     },
     "execution_count": 18,
     "metadata": {},
     "output_type": "execute_result"
    }
   ],
   "source": [
    "decoder_output_data[0]"
   ]
  },
  {
=======
>>>>>>> 757cc1cd0403d1336e16bf1c11653bd4c71efbc8
   "cell_type": "markdown",
   "metadata": {},
   "source": [
    "### Train-Test Split"
   ]
  },
  {
   "cell_type": "code",
<<<<<<< HEAD
   "execution_count": 19,
=======
   "execution_count": 30,
>>>>>>> 757cc1cd0403d1336e16bf1c11653bd4c71efbc8
   "metadata": {},
   "outputs": [],
   "source": [
    "# Train-Test Split\n",
    "encoder_input_train, encoder_input_val, decoder_input_train, decoder_input_val, decoder_output_train, decoder_output_val = train_test_split(\n",
    "                                                                                                                                        encoder_input_data, decoder_input_data, decoder_output_data, \n",
    "                                                                                                                                        test_size=0.2, random_state=42)\n"
   ]
  },
  {
   "cell_type": "code",
<<<<<<< HEAD
   "execution_count": 20,
=======
   "execution_count": 31,
>>>>>>> 757cc1cd0403d1336e16bf1c11653bd4c71efbc8
   "metadata": {},
   "outputs": [
    {
     "name": "stdout",
     "output_type": "stream",
     "text": [
      "encoder_input_train.shape: (799, 8)\n",
      "encoder_input_val.shape: (200, 8)\n",
      "decoder_input_train.shape: (799, 10)\n",
      "decoder_input_val.shape: (200, 10)\n",
<<<<<<< HEAD
      "decoder_output_train.shape: (799, 10, 665)\n",
      "decoder_output_val.shape: (200, 10, 665)\n"
=======
      "decoder_output_train.shape: (799, 10, 667)\n",
      "decoder_output_val.shape: (200, 10, 667)\n"
>>>>>>> 757cc1cd0403d1336e16bf1c11653bd4c71efbc8
     ]
    }
   ],
   "source": [
    "print(f\"encoder_input_train.shape: {encoder_input_train.shape}\")\n",
    "print(f\"encoder_input_val.shape: {encoder_input_val.shape}\")\n",
    "print(f\"decoder_input_train.shape: {decoder_input_train.shape}\")\n",
    "print(f\"decoder_input_val.shape: {decoder_input_val.shape}\")\n",
    "print(f\"decoder_output_train.shape: {decoder_output_train.shape}\")\n",
    "print(f\"decoder_output_val.shape: {decoder_output_val.shape}\")"
   ]
  },
  {
   "cell_type": "markdown",
   "metadata": {},
   "source": [
    "### Build the Seq2Seq Model"
   ]
  },
  {
   "cell_type": "code",
<<<<<<< HEAD
   "execution_count": 21,
=======
   "execution_count": 33,
   "metadata": {},
   "outputs": [],
   "source": [
    "# Set model parameters\n",
    "embedding_dim = 256\n",
    "hidden_units = 512\n",
    "\n",
    "# Encoder\n",
    "encoder_inputs = Input(shape=(max_input_length,))\n",
    "encoder_embedding = Embedding(input_dim=len(input_tokenizer.word_index) + 1, output_dim=embedding_dim)(encoder_inputs)\n",
    "encoder_lstm = LSTM(hidden_units, return_state=True)\n",
    "_, state_h, state_c = encoder_lstm(encoder_embedding)\n",
    "encoder_states = [state_h, state_c]\n",
    "\n",
    "# Decoder\n",
    "decoder_inputs = Input(shape=(max_target_length,))\n",
    "decoder_embedding = Embedding(input_dim=len(output_tokenizer.word_index) + 1, output_dim=embedding_dim)(decoder_inputs)\n",
    "decoder_lstm = LSTM(hidden_units, return_sequences=True, return_state=True)\n",
    "decoder_outputs, _, _ = decoder_lstm(decoder_embedding, initial_state=encoder_states)\n",
    "decoder_dense = Dense(len(output_tokenizer.word_index) + 1, activation='softmax')\n",
    "decoder_outputs = decoder_dense(decoder_outputs)\n",
    "\n",
    "# Define the model\n",
    "model = Model([encoder_inputs, decoder_inputs], decoder_outputs)\n",
    "model.compile(optimizer='adam', loss='categorical_crossentropy', metrics=['accuracy'])"
   ]
  },
  {
   "cell_type": "code",
   "execution_count": 37,
>>>>>>> 757cc1cd0403d1336e16bf1c11653bd4c71efbc8
   "metadata": {},
   "outputs": [
    {
     "data": {
      "text/html": [
       "<pre style=\"white-space:pre;overflow-x:auto;line-height:normal;font-family:Menlo,'DejaVu Sans Mono',consolas,'Courier New',monospace\"><span style=\"font-weight: bold\">Model: \"functional\"</span>\n",
       "</pre>\n"
      ],
      "text/plain": [
       "\u001b[1mModel: \"functional\"\u001b[0m\n"
      ]
     },
     "metadata": {},
     "output_type": "display_data"
    },
    {
     "data": {
      "text/html": [
       "<pre style=\"white-space:pre;overflow-x:auto;line-height:normal;font-family:Menlo,'DejaVu Sans Mono',consolas,'Courier New',monospace\">┏━━━━━━━━━━━━━━━━━━━━━┳━━━━━━━━━━━━━━━━━━━┳━━━━━━━━━━━━┳━━━━━━━━━━━━━━━━━━━┓\n",
       "┃<span style=\"font-weight: bold\"> Layer (type)        </span>┃<span style=\"font-weight: bold\"> Output Shape      </span>┃<span style=\"font-weight: bold\">    Param # </span>┃<span style=\"font-weight: bold\"> Connected to      </span>┃\n",
       "┡━━━━━━━━━━━━━━━━━━━━━╇━━━━━━━━━━━━━━━━━━━╇━━━━━━━━━━━━╇━━━━━━━━━━━━━━━━━━━┩\n",
       "│ input_layer         │ (<span style=\"color: #00d7ff; text-decoration-color: #00d7ff\">None</span>, <span style=\"color: #00af00; text-decoration-color: #00af00\">8</span>)         │          <span style=\"color: #00af00; text-decoration-color: #00af00\">0</span> │ -                 │\n",
       "│ (<span style=\"color: #0087ff; text-decoration-color: #0087ff\">InputLayer</span>)        │                   │            │                   │\n",
       "├─────────────────────┼───────────────────┼────────────┼───────────────────┤\n",
       "│ input_layer_1       │ (<span style=\"color: #00d7ff; text-decoration-color: #00d7ff\">None</span>, <span style=\"color: #00af00; text-decoration-color: #00af00\">10</span>)        │          <span style=\"color: #00af00; text-decoration-color: #00af00\">0</span> │ -                 │\n",
       "│ (<span style=\"color: #0087ff; text-decoration-color: #0087ff\">InputLayer</span>)        │                   │            │                   │\n",
       "├─────────────────────┼───────────────────┼────────────┼───────────────────┤\n",
       "│ embedding           │ (<span style=\"color: #00d7ff; text-decoration-color: #00d7ff\">None</span>, <span style=\"color: #00af00; text-decoration-color: #00af00\">8</span>, <span style=\"color: #00af00; text-decoration-color: #00af00\">256</span>)    │    <span style=\"color: #00af00; text-decoration-color: #00af00\">169,216</span> │ input_layer[<span style=\"color: #00af00; text-decoration-color: #00af00\">0</span>][<span style=\"color: #00af00; text-decoration-color: #00af00\">0</span>] │\n",
       "│ (<span style=\"color: #0087ff; text-decoration-color: #0087ff\">Embedding</span>)         │                   │            │                   │\n",
       "├─────────────────────┼───────────────────┼────────────┼───────────────────┤\n",
<<<<<<< HEAD
       "│ embedding_1         │ (<span style=\"color: #00d7ff; text-decoration-color: #00d7ff\">None</span>, <span style=\"color: #00af00; text-decoration-color: #00af00\">10</span>, <span style=\"color: #00af00; text-decoration-color: #00af00\">256</span>)   │    <span style=\"color: #00af00; text-decoration-color: #00af00\">170,240</span> │ input_layer_1[<span style=\"color: #00af00; text-decoration-color: #00af00\">0</span>]… │\n",
       "│ (<span style=\"color: #0087ff; text-decoration-color: #0087ff\">Embedding</span>)         │                   │            │                   │\n",
       "├─────────────────────┼───────────────────┼────────────┼───────────────────┤\n",
       "│ lstm (<span style=\"color: #0087ff; text-decoration-color: #0087ff\">LSTM</span>)         │ [(<span style=\"color: #00d7ff; text-decoration-color: #00d7ff\">None</span>, <span style=\"color: #00af00; text-decoration-color: #00af00\">1024</span>),    │  <span style=\"color: #00af00; text-decoration-color: #00af00\">5,246,976</span> │ embedding[<span style=\"color: #00af00; text-decoration-color: #00af00\">0</span>][<span style=\"color: #00af00; text-decoration-color: #00af00\">0</span>]   │\n",
       "│                     │ (<span style=\"color: #00d7ff; text-decoration-color: #00d7ff\">None</span>, <span style=\"color: #00af00; text-decoration-color: #00af00\">1024</span>),     │            │                   │\n",
       "│                     │ (<span style=\"color: #00d7ff; text-decoration-color: #00d7ff\">None</span>, <span style=\"color: #00af00; text-decoration-color: #00af00\">1024</span>)]     │            │                   │\n",
       "├─────────────────────┼───────────────────┼────────────┼───────────────────┤\n",
       "│ lstm_1 (<span style=\"color: #0087ff; text-decoration-color: #0087ff\">LSTM</span>)       │ [(<span style=\"color: #00d7ff; text-decoration-color: #00d7ff\">None</span>, <span style=\"color: #00af00; text-decoration-color: #00af00\">10</span>,       │  <span style=\"color: #00af00; text-decoration-color: #00af00\">5,246,976</span> │ embedding_1[<span style=\"color: #00af00; text-decoration-color: #00af00\">0</span>][<span style=\"color: #00af00; text-decoration-color: #00af00\">0</span>… │\n",
       "│                     │ <span style=\"color: #00af00; text-decoration-color: #00af00\">1024</span>), (<span style=\"color: #00d7ff; text-decoration-color: #00d7ff\">None</span>,     │            │ lstm[<span style=\"color: #00af00; text-decoration-color: #00af00\">0</span>][<span style=\"color: #00af00; text-decoration-color: #00af00\">1</span>],       │\n",
       "│                     │ <span style=\"color: #00af00; text-decoration-color: #00af00\">1024</span>), (<span style=\"color: #00d7ff; text-decoration-color: #00d7ff\">None</span>,     │            │ lstm[<span style=\"color: #00af00; text-decoration-color: #00af00\">0</span>][<span style=\"color: #00af00; text-decoration-color: #00af00\">2</span>]        │\n",
       "│                     │ <span style=\"color: #00af00; text-decoration-color: #00af00\">1024</span>)]            │            │                   │\n",
       "├─────────────────────┼───────────────────┼────────────┼───────────────────┤\n",
       "│ dense (<span style=\"color: #0087ff; text-decoration-color: #0087ff\">Dense</span>)       │ (<span style=\"color: #00d7ff; text-decoration-color: #00d7ff\">None</span>, <span style=\"color: #00af00; text-decoration-color: #00af00\">10</span>, <span style=\"color: #00af00; text-decoration-color: #00af00\">665</span>)   │    <span style=\"color: #00af00; text-decoration-color: #00af00\">681,625</span> │ lstm_1[<span style=\"color: #00af00; text-decoration-color: #00af00\">0</span>][<span style=\"color: #00af00; text-decoration-color: #00af00\">0</span>]      │\n",
=======
       "│ embedding_1         │ (<span style=\"color: #00d7ff; text-decoration-color: #00d7ff\">None</span>, <span style=\"color: #00af00; text-decoration-color: #00af00\">10</span>, <span style=\"color: #00af00; text-decoration-color: #00af00\">256</span>)   │    <span style=\"color: #00af00; text-decoration-color: #00af00\">170,752</span> │ input_layer_1[<span style=\"color: #00af00; text-decoration-color: #00af00\">0</span>]… │\n",
       "│ (<span style=\"color: #0087ff; text-decoration-color: #0087ff\">Embedding</span>)         │                   │            │                   │\n",
       "├─────────────────────┼───────────────────┼────────────┼───────────────────┤\n",
       "│ lstm (<span style=\"color: #0087ff; text-decoration-color: #0087ff\">LSTM</span>)         │ [(<span style=\"color: #00d7ff; text-decoration-color: #00d7ff\">None</span>, <span style=\"color: #00af00; text-decoration-color: #00af00\">512</span>),     │  <span style=\"color: #00af00; text-decoration-color: #00af00\">1,574,912</span> │ embedding[<span style=\"color: #00af00; text-decoration-color: #00af00\">0</span>][<span style=\"color: #00af00; text-decoration-color: #00af00\">0</span>]   │\n",
       "│                     │ (<span style=\"color: #00d7ff; text-decoration-color: #00d7ff\">None</span>, <span style=\"color: #00af00; text-decoration-color: #00af00\">512</span>),      │            │                   │\n",
       "│                     │ (<span style=\"color: #00d7ff; text-decoration-color: #00d7ff\">None</span>, <span style=\"color: #00af00; text-decoration-color: #00af00\">512</span>)]      │            │                   │\n",
       "├─────────────────────┼───────────────────┼────────────┼───────────────────┤\n",
       "│ lstm_1 (<span style=\"color: #0087ff; text-decoration-color: #0087ff\">LSTM</span>)       │ [(<span style=\"color: #00d7ff; text-decoration-color: #00d7ff\">None</span>, <span style=\"color: #00af00; text-decoration-color: #00af00\">10</span>, <span style=\"color: #00af00; text-decoration-color: #00af00\">512</span>), │  <span style=\"color: #00af00; text-decoration-color: #00af00\">1,574,912</span> │ embedding_1[<span style=\"color: #00af00; text-decoration-color: #00af00\">0</span>][<span style=\"color: #00af00; text-decoration-color: #00af00\">0</span>… │\n",
       "│                     │ (<span style=\"color: #00d7ff; text-decoration-color: #00d7ff\">None</span>, <span style=\"color: #00af00; text-decoration-color: #00af00\">512</span>),      │            │ lstm[<span style=\"color: #00af00; text-decoration-color: #00af00\">0</span>][<span style=\"color: #00af00; text-decoration-color: #00af00\">1</span>],       │\n",
       "│                     │ (<span style=\"color: #00d7ff; text-decoration-color: #00d7ff\">None</span>, <span style=\"color: #00af00; text-decoration-color: #00af00\">512</span>)]      │            │ lstm[<span style=\"color: #00af00; text-decoration-color: #00af00\">0</span>][<span style=\"color: #00af00; text-decoration-color: #00af00\">2</span>]        │\n",
       "├─────────────────────┼───────────────────┼────────────┼───────────────────┤\n",
       "│ dense (<span style=\"color: #0087ff; text-decoration-color: #0087ff\">Dense</span>)       │ (<span style=\"color: #00d7ff; text-decoration-color: #00d7ff\">None</span>, <span style=\"color: #00af00; text-decoration-color: #00af00\">10</span>, <span style=\"color: #00af00; text-decoration-color: #00af00\">667</span>)   │    <span style=\"color: #00af00; text-decoration-color: #00af00\">342,171</span> │ lstm_1[<span style=\"color: #00af00; text-decoration-color: #00af00\">0</span>][<span style=\"color: #00af00; text-decoration-color: #00af00\">0</span>]      │\n",
>>>>>>> 757cc1cd0403d1336e16bf1c11653bd4c71efbc8
       "└─────────────────────┴───────────────────┴────────────┴───────────────────┘\n",
       "</pre>\n"
      ],
      "text/plain": [
       "┏━━━━━━━━━━━━━━━━━━━━━┳━━━━━━━━━━━━━━━━━━━┳━━━━━━━━━━━━┳━━━━━━━━━━━━━━━━━━━┓\n",
       "┃\u001b[1m \u001b[0m\u001b[1mLayer (type)       \u001b[0m\u001b[1m \u001b[0m┃\u001b[1m \u001b[0m\u001b[1mOutput Shape     \u001b[0m\u001b[1m \u001b[0m┃\u001b[1m \u001b[0m\u001b[1m   Param #\u001b[0m\u001b[1m \u001b[0m┃\u001b[1m \u001b[0m\u001b[1mConnected to     \u001b[0m\u001b[1m \u001b[0m┃\n",
       "┡━━━━━━━━━━━━━━━━━━━━━╇━━━━━━━━━━━━━━━━━━━╇━━━━━━━━━━━━╇━━━━━━━━━━━━━━━━━━━┩\n",
       "│ input_layer         │ (\u001b[38;5;45mNone\u001b[0m, \u001b[38;5;34m8\u001b[0m)         │          \u001b[38;5;34m0\u001b[0m │ -                 │\n",
       "│ (\u001b[38;5;33mInputLayer\u001b[0m)        │                   │            │                   │\n",
       "├─────────────────────┼───────────────────┼────────────┼───────────────────┤\n",
       "│ input_layer_1       │ (\u001b[38;5;45mNone\u001b[0m, \u001b[38;5;34m10\u001b[0m)        │          \u001b[38;5;34m0\u001b[0m │ -                 │\n",
       "│ (\u001b[38;5;33mInputLayer\u001b[0m)        │                   │            │                   │\n",
       "├─────────────────────┼───────────────────┼────────────┼───────────────────┤\n",
       "│ embedding           │ (\u001b[38;5;45mNone\u001b[0m, \u001b[38;5;34m8\u001b[0m, \u001b[38;5;34m256\u001b[0m)    │    \u001b[38;5;34m169,216\u001b[0m │ input_layer[\u001b[38;5;34m0\u001b[0m][\u001b[38;5;34m0\u001b[0m] │\n",
       "│ (\u001b[38;5;33mEmbedding\u001b[0m)         │                   │            │                   │\n",
       "├─────────────────────┼───────────────────┼────────────┼───────────────────┤\n",
<<<<<<< HEAD
       "│ embedding_1         │ (\u001b[38;5;45mNone\u001b[0m, \u001b[38;5;34m10\u001b[0m, \u001b[38;5;34m256\u001b[0m)   │    \u001b[38;5;34m170,240\u001b[0m │ input_layer_1[\u001b[38;5;34m0\u001b[0m]… │\n",
       "│ (\u001b[38;5;33mEmbedding\u001b[0m)         │                   │            │                   │\n",
       "├─────────────────────┼───────────────────┼────────────┼───────────────────┤\n",
       "│ lstm (\u001b[38;5;33mLSTM\u001b[0m)         │ [(\u001b[38;5;45mNone\u001b[0m, \u001b[38;5;34m1024\u001b[0m),    │  \u001b[38;5;34m5,246,976\u001b[0m │ embedding[\u001b[38;5;34m0\u001b[0m][\u001b[38;5;34m0\u001b[0m]   │\n",
       "│                     │ (\u001b[38;5;45mNone\u001b[0m, \u001b[38;5;34m1024\u001b[0m),     │            │                   │\n",
       "│                     │ (\u001b[38;5;45mNone\u001b[0m, \u001b[38;5;34m1024\u001b[0m)]     │            │                   │\n",
       "├─────────────────────┼───────────────────┼────────────┼───────────────────┤\n",
       "│ lstm_1 (\u001b[38;5;33mLSTM\u001b[0m)       │ [(\u001b[38;5;45mNone\u001b[0m, \u001b[38;5;34m10\u001b[0m,       │  \u001b[38;5;34m5,246,976\u001b[0m │ embedding_1[\u001b[38;5;34m0\u001b[0m][\u001b[38;5;34m0\u001b[0m… │\n",
       "│                     │ \u001b[38;5;34m1024\u001b[0m), (\u001b[38;5;45mNone\u001b[0m,     │            │ lstm[\u001b[38;5;34m0\u001b[0m][\u001b[38;5;34m1\u001b[0m],       │\n",
       "│                     │ \u001b[38;5;34m1024\u001b[0m), (\u001b[38;5;45mNone\u001b[0m,     │            │ lstm[\u001b[38;5;34m0\u001b[0m][\u001b[38;5;34m2\u001b[0m]        │\n",
       "│                     │ \u001b[38;5;34m1024\u001b[0m)]            │            │                   │\n",
       "├─────────────────────┼───────────────────┼────────────┼───────────────────┤\n",
       "│ dense (\u001b[38;5;33mDense\u001b[0m)       │ (\u001b[38;5;45mNone\u001b[0m, \u001b[38;5;34m10\u001b[0m, \u001b[38;5;34m665\u001b[0m)   │    \u001b[38;5;34m681,625\u001b[0m │ lstm_1[\u001b[38;5;34m0\u001b[0m][\u001b[38;5;34m0\u001b[0m]      │\n",
=======
       "│ embedding_1         │ (\u001b[38;5;45mNone\u001b[0m, \u001b[38;5;34m10\u001b[0m, \u001b[38;5;34m256\u001b[0m)   │    \u001b[38;5;34m170,752\u001b[0m │ input_layer_1[\u001b[38;5;34m0\u001b[0m]… │\n",
       "│ (\u001b[38;5;33mEmbedding\u001b[0m)         │                   │            │                   │\n",
       "├─────────────────────┼───────────────────┼────────────┼───────────────────┤\n",
       "│ lstm (\u001b[38;5;33mLSTM\u001b[0m)         │ [(\u001b[38;5;45mNone\u001b[0m, \u001b[38;5;34m512\u001b[0m),     │  \u001b[38;5;34m1,574,912\u001b[0m │ embedding[\u001b[38;5;34m0\u001b[0m][\u001b[38;5;34m0\u001b[0m]   │\n",
       "│                     │ (\u001b[38;5;45mNone\u001b[0m, \u001b[38;5;34m512\u001b[0m),      │            │                   │\n",
       "│                     │ (\u001b[38;5;45mNone\u001b[0m, \u001b[38;5;34m512\u001b[0m)]      │            │                   │\n",
       "├─────────────────────┼───────────────────┼────────────┼───────────────────┤\n",
       "│ lstm_1 (\u001b[38;5;33mLSTM\u001b[0m)       │ [(\u001b[38;5;45mNone\u001b[0m, \u001b[38;5;34m10\u001b[0m, \u001b[38;5;34m512\u001b[0m), │  \u001b[38;5;34m1,574,912\u001b[0m │ embedding_1[\u001b[38;5;34m0\u001b[0m][\u001b[38;5;34m0\u001b[0m… │\n",
       "│                     │ (\u001b[38;5;45mNone\u001b[0m, \u001b[38;5;34m512\u001b[0m),      │            │ lstm[\u001b[38;5;34m0\u001b[0m][\u001b[38;5;34m1\u001b[0m],       │\n",
       "│                     │ (\u001b[38;5;45mNone\u001b[0m, \u001b[38;5;34m512\u001b[0m)]      │            │ lstm[\u001b[38;5;34m0\u001b[0m][\u001b[38;5;34m2\u001b[0m]        │\n",
       "├─────────────────────┼───────────────────┼────────────┼───────────────────┤\n",
       "│ dense (\u001b[38;5;33mDense\u001b[0m)       │ (\u001b[38;5;45mNone\u001b[0m, \u001b[38;5;34m10\u001b[0m, \u001b[38;5;34m667\u001b[0m)   │    \u001b[38;5;34m342,171\u001b[0m │ lstm_1[\u001b[38;5;34m0\u001b[0m][\u001b[38;5;34m0\u001b[0m]      │\n",
>>>>>>> 757cc1cd0403d1336e16bf1c11653bd4c71efbc8
       "└─────────────────────┴───────────────────┴────────────┴───────────────────┘\n"
      ]
     },
     "metadata": {},
     "output_type": "display_data"
    },
    {
     "data": {
      "text/html": [
<<<<<<< HEAD
       "<pre style=\"white-space:pre;overflow-x:auto;line-height:normal;font-family:Menlo,'DejaVu Sans Mono',consolas,'Courier New',monospace\"><span style=\"font-weight: bold\"> Total params: </span><span style=\"color: #00af00; text-decoration-color: #00af00\">11,515,033</span> (43.93 MB)\n",
       "</pre>\n"
      ],
      "text/plain": [
       "\u001b[1m Total params: \u001b[0m\u001b[38;5;34m11,515,033\u001b[0m (43.93 MB)\n"
=======
       "<pre style=\"white-space:pre;overflow-x:auto;line-height:normal;font-family:Menlo,'DejaVu Sans Mono',consolas,'Courier New',monospace\"><span style=\"font-weight: bold\"> Total params: </span><span style=\"color: #00af00; text-decoration-color: #00af00\">3,831,963</span> (14.62 MB)\n",
       "</pre>\n"
      ],
      "text/plain": [
       "\u001b[1m Total params: \u001b[0m\u001b[38;5;34m3,831,963\u001b[0m (14.62 MB)\n"
>>>>>>> 757cc1cd0403d1336e16bf1c11653bd4c71efbc8
      ]
     },
     "metadata": {},
     "output_type": "display_data"
    },
    {
     "data": {
      "text/html": [
<<<<<<< HEAD
       "<pre style=\"white-space:pre;overflow-x:auto;line-height:normal;font-family:Menlo,'DejaVu Sans Mono',consolas,'Courier New',monospace\"><span style=\"font-weight: bold\"> Trainable params: </span><span style=\"color: #00af00; text-decoration-color: #00af00\">11,515,033</span> (43.93 MB)\n",
       "</pre>\n"
      ],
      "text/plain": [
       "\u001b[1m Trainable params: \u001b[0m\u001b[38;5;34m11,515,033\u001b[0m (43.93 MB)\n"
=======
       "<pre style=\"white-space:pre;overflow-x:auto;line-height:normal;font-family:Menlo,'DejaVu Sans Mono',consolas,'Courier New',monospace\"><span style=\"font-weight: bold\"> Trainable params: </span><span style=\"color: #00af00; text-decoration-color: #00af00\">3,831,963</span> (14.62 MB)\n",
       "</pre>\n"
      ],
      "text/plain": [
       "\u001b[1m Trainable params: \u001b[0m\u001b[38;5;34m3,831,963\u001b[0m (14.62 MB)\n"
>>>>>>> 757cc1cd0403d1336e16bf1c11653bd4c71efbc8
      ]
     },
     "metadata": {},
     "output_type": "display_data"
    },
    {
     "data": {
      "text/html": [
       "<pre style=\"white-space:pre;overflow-x:auto;line-height:normal;font-family:Menlo,'DejaVu Sans Mono',consolas,'Courier New',monospace\"><span style=\"font-weight: bold\"> Non-trainable params: </span><span style=\"color: #00af00; text-decoration-color: #00af00\">0</span> (0.00 B)\n",
       "</pre>\n"
      ],
      "text/plain": [
       "\u001b[1m Non-trainable params: \u001b[0m\u001b[38;5;34m0\u001b[0m (0.00 B)\n"
      ]
     },
     "metadata": {},
     "output_type": "display_data"
    }
   ],
   "source": [
<<<<<<< HEAD
    "# Set model parameters (modified)\n",
    "embedding_dim = 256 \n",
    "hidden_units = 1024 \n",
    "dropout_rate = 0.5  \n",
    "batch_size = 32  \n",
    "learning_rate = 0.0005\n",
    "\n",
    "# Encoder\n",
    "encoder_inputs = Input(shape=(max_input_length,))\n",
    "encoder_embedding = Embedding(input_dim=len(input_tokenizer.word_index) + 1, output_dim=embedding_dim)(encoder_inputs)\n",
    "encoder_lstm = LSTM(hidden_units, return_state=True, dropout=dropout_rate, recurrent_dropout=dropout_rate)\n",
    "_, state_h, state_c = encoder_lstm(encoder_embedding)\n",
    "encoder_states = [state_h, state_c]\n",
    "\n",
    "# Decoder\n",
    "decoder_inputs = Input(shape=(max_target_length,))\n",
    "decoder_embedding = Embedding(input_dim=len(output_tokenizer.word_index) + 1, output_dim=embedding_dim)(decoder_inputs)\n",
    "decoder_lstm = LSTM(hidden_units, return_sequences=True, return_state=True, dropout=dropout_rate, recurrent_dropout=dropout_rate)\n",
    "decoder_outputs, _, _ = decoder_lstm(decoder_embedding, initial_state=encoder_states)\n",
    "decoder_dense = Dense(len(output_tokenizer.word_index) + 1, activation='softmax')\n",
    "decoder_outputs = decoder_dense(decoder_outputs)\n",
    "\n",
    "# Define the model\n",
    "model = Model([encoder_inputs, decoder_inputs], decoder_outputs)\n",
    "\n",
    "# Compile the model with the modified learning rate\n",
    "optimizer = Adam(learning_rate=learning_rate)\n",
    "model.compile(optimizer=optimizer, loss='categorical_crossentropy', metrics=['accuracy'])\n",
    "\n",
    "# Print model summary to confirm the architecture\n",
=======
    "# Display the model summary\n",
>>>>>>> 757cc1cd0403d1336e16bf1c11653bd4c71efbc8
    "model.summary()"
   ]
  },
  {
   "cell_type": "markdown",
   "metadata": {},
   "source": [
    "### Train the Model"
   ]
  },
  {
   "cell_type": "code",
<<<<<<< HEAD
   "execution_count": 22,
=======
   "execution_count": 43,
>>>>>>> 757cc1cd0403d1336e16bf1c11653bd4c71efbc8
   "metadata": {},
   "outputs": [
    {
     "name": "stdout",
     "output_type": "stream",
     "text": [
<<<<<<< HEAD
      "Epoch 1/25\n"
=======
      "Epoch 1/50\n"
>>>>>>> 757cc1cd0403d1336e16bf1c11653bd4c71efbc8
     ]
    },
    {
     "name": "stderr",
     "output_type": "stream",
     "text": [
      "c:\\Users\\Hp\\anaconda3\\Lib\\site-packages\\keras\\src\\models\\functional.py:225: UserWarning: The structure of `inputs` doesn't match the expected structure: ['keras_tensor', 'keras_tensor_5']. Received: the structure of inputs=('*', '*')\n",
      "  warnings.warn(\n"
     ]
    },
    {
     "name": "stdout",
     "output_type": "stream",
     "text": [
<<<<<<< HEAD
      "\u001b[1m25/25\u001b[0m \u001b[32m━━━━━━━━━━━━━━━━━━━━\u001b[0m\u001b[37m\u001b[0m \u001b[1m25s\u001b[0m 671ms/step - accuracy: 0.0859 - loss: 2.6473 - val_accuracy: 0.1170 - val_loss: 1.9140\n",
      "Epoch 2/25\n",
      "\u001b[1m25/25\u001b[0m \u001b[32m━━━━━━━━━━━━━━━━━━━━\u001b[0m\u001b[37m\u001b[0m \u001b[1m15s\u001b[0m 619ms/step - accuracy: 0.1200 - loss: 1.7640 - val_accuracy: 0.1285 - val_loss: 1.8141\n",
      "Epoch 3/25\n",
      "\u001b[1m25/25\u001b[0m \u001b[32m━━━━━━━━━━━━━━━━━━━━\u001b[0m\u001b[37m\u001b[0m \u001b[1m15s\u001b[0m 610ms/step - accuracy: 0.1328 - loss: 1.6102 - val_accuracy: 0.1405 - val_loss: 1.7410\n",
      "Epoch 4/25\n",
      "\u001b[1m25/25\u001b[0m \u001b[32m━━━━━━━━━━━━━━━━━━━━\u001b[0m\u001b[37m\u001b[0m \u001b[1m16s\u001b[0m 625ms/step - accuracy: 0.1432 - loss: 1.5170 - val_accuracy: 0.1435 - val_loss: 1.6787\n",
      "Epoch 5/25\n",
      "\u001b[1m25/25\u001b[0m \u001b[32m━━━━━━━━━━━━━━━━━━━━\u001b[0m\u001b[37m\u001b[0m \u001b[1m16s\u001b[0m 621ms/step - accuracy: 0.1465 - loss: 1.4017 - val_accuracy: 0.1585 - val_loss: 1.6128\n",
      "Epoch 6/25\n",
      "\u001b[1m25/25\u001b[0m \u001b[32m━━━━━━━━━━━━━━━━━━━━\u001b[0m\u001b[37m\u001b[0m \u001b[1m16s\u001b[0m 623ms/step - accuracy: 0.1639 - loss: 1.3912 - val_accuracy: 0.1745 - val_loss: 1.5411\n",
      "Epoch 7/25\n",
      "\u001b[1m25/25\u001b[0m \u001b[32m━━━━━━━━━━━━━━━━━━━━\u001b[0m\u001b[37m\u001b[0m \u001b[1m18s\u001b[0m 732ms/step - accuracy: 0.1861 - loss: 1.3266 - val_accuracy: 0.2320 - val_loss: 1.4508\n",
      "Epoch 8/25\n",
      "\u001b[1m25/25\u001b[0m \u001b[32m━━━━━━━━━━━━━━━━━━━━\u001b[0m\u001b[37m\u001b[0m \u001b[1m19s\u001b[0m 749ms/step - accuracy: 0.2283 - loss: 1.2088 - val_accuracy: 0.2355 - val_loss: 1.3838\n",
      "Epoch 9/25\n",
      "\u001b[1m25/25\u001b[0m \u001b[32m━━━━━━━━━━━━━━━━━━━━\u001b[0m\u001b[37m\u001b[0m \u001b[1m20s\u001b[0m 780ms/step - accuracy: 0.2446 - loss: 1.1212 - val_accuracy: 0.2495 - val_loss: 1.3375\n",
      "Epoch 10/25\n",
      "\u001b[1m25/25\u001b[0m \u001b[32m━━━━━━━━━━━━━━━━━━━━\u001b[0m\u001b[37m\u001b[0m \u001b[1m19s\u001b[0m 754ms/step - accuracy: 0.2559 - loss: 1.0172 - val_accuracy: 0.2685 - val_loss: 1.2981\n",
      "Epoch 11/25\n",
      "\u001b[1m25/25\u001b[0m \u001b[32m━━━━━━━━━━━━━━━━━━━━\u001b[0m\u001b[37m\u001b[0m \u001b[1m19s\u001b[0m 755ms/step - accuracy: 0.2688 - loss: 0.9870 - val_accuracy: 0.2720 - val_loss: 1.2704\n",
      "Epoch 12/25\n",
      "\u001b[1m25/25\u001b[0m \u001b[32m━━━━━━━━━━━━━━━━━━━━\u001b[0m\u001b[37m\u001b[0m \u001b[1m19s\u001b[0m 753ms/step - accuracy: 0.2792 - loss: 0.9857 - val_accuracy: 0.2885 - val_loss: 1.2415\n",
      "Epoch 13/25\n",
      "\u001b[1m25/25\u001b[0m \u001b[32m━━━━━━━━━━━━━━━━━━━━\u001b[0m\u001b[37m\u001b[0m \u001b[1m19s\u001b[0m 769ms/step - accuracy: 0.2902 - loss: 0.9236 - val_accuracy: 0.2970 - val_loss: 1.2286\n",
      "Epoch 14/25\n",
      "\u001b[1m25/25\u001b[0m \u001b[32m━━━━━━━━━━━━━━━━━━━━\u001b[0m\u001b[37m\u001b[0m \u001b[1m19s\u001b[0m 762ms/step - accuracy: 0.2984 - loss: 0.9037 - val_accuracy: 0.2945 - val_loss: 1.2080\n",
      "Epoch 15/25\n",
      "\u001b[1m25/25\u001b[0m \u001b[32m━━━━━━━━━━━━━━━━━━━━\u001b[0m\u001b[37m\u001b[0m \u001b[1m19s\u001b[0m 753ms/step - accuracy: 0.3037 - loss: 0.7854 - val_accuracy: 0.2995 - val_loss: 1.2108\n",
      "Epoch 16/25\n",
      "\u001b[1m25/25\u001b[0m \u001b[32m━━━━━━━━━━━━━━━━━━━━\u001b[0m\u001b[37m\u001b[0m \u001b[1m16s\u001b[0m 628ms/step - accuracy: 0.3040 - loss: 0.7865 - val_accuracy: 0.2990 - val_loss: 1.1986\n",
      "Epoch 17/25\n",
      "\u001b[1m25/25\u001b[0m \u001b[32m━━━━━━━━━━━━━━━━━━━━\u001b[0m\u001b[37m\u001b[0m \u001b[1m16s\u001b[0m 624ms/step - accuracy: 0.2989 - loss: 0.8360 - val_accuracy: 0.2990 - val_loss: 1.1883\n",
      "Epoch 18/25\n",
      "\u001b[1m25/25\u001b[0m \u001b[32m━━━━━━━━━━━━━━━━━━━━\u001b[0m\u001b[37m\u001b[0m \u001b[1m15s\u001b[0m 612ms/step - accuracy: 0.3144 - loss: 0.7515 - val_accuracy: 0.3030 - val_loss: 1.1917\n",
      "Epoch 19/25\n",
      "\u001b[1m25/25\u001b[0m \u001b[32m━━━━━━━━━━━━━━━━━━━━\u001b[0m\u001b[37m\u001b[0m \u001b[1m15s\u001b[0m 603ms/step - accuracy: 0.3106 - loss: 0.7678 - val_accuracy: 0.3025 - val_loss: 1.1841\n",
      "Epoch 20/25\n",
      "\u001b[1m25/25\u001b[0m \u001b[32m━━━━━━━━━━━━━━━━━━━━\u001b[0m\u001b[37m\u001b[0m \u001b[1m15s\u001b[0m 599ms/step - accuracy: 0.3160 - loss: 0.7024 - val_accuracy: 0.3040 - val_loss: 1.1902\n",
      "Epoch 21/25\n",
      "\u001b[1m25/25\u001b[0m \u001b[32m━━━━━━━━━━━━━━━━━━━━\u001b[0m\u001b[37m\u001b[0m \u001b[1m15s\u001b[0m 613ms/step - accuracy: 0.3151 - loss: 0.7434 - val_accuracy: 0.3005 - val_loss: 1.1809\n",
      "Epoch 22/25\n",
      "\u001b[1m25/25\u001b[0m \u001b[32m━━━━━━━━━━━━━━━━━━━━\u001b[0m\u001b[37m\u001b[0m \u001b[1m15s\u001b[0m 599ms/step - accuracy: 0.3171 - loss: 0.6856 - val_accuracy: 0.3060 - val_loss: 1.1873\n",
      "Epoch 23/25\n",
      "\u001b[1m25/25\u001b[0m \u001b[32m━━━━━━━━━━━━━━━━━━━━\u001b[0m\u001b[37m\u001b[0m \u001b[1m15s\u001b[0m 595ms/step - accuracy: 0.3214 - loss: 0.6601 - val_accuracy: 0.3040 - val_loss: 1.1812\n",
      "Epoch 24/25\n",
      "\u001b[1m25/25\u001b[0m \u001b[32m━━━━━━━━━━━━━━━━━━━━\u001b[0m\u001b[37m\u001b[0m \u001b[1m15s\u001b[0m 594ms/step - accuracy: 0.3204 - loss: 0.6464 - val_accuracy: 0.3060 - val_loss: 1.1752\n",
      "Epoch 25/25\n",
      "\u001b[1m25/25\u001b[0m \u001b[32m━━━━━━━━━━━━━━━━━━━━\u001b[0m\u001b[37m\u001b[0m \u001b[1m15s\u001b[0m 596ms/step - accuracy: 0.3274 - loss: 0.6035 - val_accuracy: 0.3060 - val_loss: 1.1681\n"
=======
      "\u001b[1m13/13\u001b[0m \u001b[32m━━━━━━━━━━━━━━━━━━━━\u001b[0m\u001b[37m\u001b[0m \u001b[1m13s\u001b[0m 376ms/step - accuracy: 0.0775 - loss: 2.6286 - val_accuracy: 0.1170 - val_loss: 1.9418\n",
      "Epoch 2/50\n",
      "\u001b[1m13/13\u001b[0m \u001b[32m━━━━━━━━━━━━━━━━━━━━\u001b[0m\u001b[37m\u001b[0m \u001b[1m4s\u001b[0m 292ms/step - accuracy: 0.1198 - loss: 1.8512 - val_accuracy: 0.1170 - val_loss: 1.8398\n",
      "Epoch 3/50\n",
      "\u001b[1m13/13\u001b[0m \u001b[32m━━━━━━━━━━━━━━━━━━━━\u001b[0m\u001b[37m\u001b[0m \u001b[1m4s\u001b[0m 307ms/step - accuracy: 0.1201 - loss: 1.6932 - val_accuracy: 0.1255 - val_loss: 1.7699\n",
      "Epoch 4/50\n",
      "\u001b[1m13/13\u001b[0m \u001b[32m━━━━━━━━━━━━━━━━━━━━\u001b[0m\u001b[37m\u001b[0m \u001b[1m4s\u001b[0m 330ms/step - accuracy: 0.1287 - loss: 1.5869 - val_accuracy: 0.1235 - val_loss: 1.7110\n",
      "Epoch 5/50\n",
      "\u001b[1m13/13\u001b[0m \u001b[32m━━━━━━━━━━━━━━━━━━━━\u001b[0m\u001b[37m\u001b[0m \u001b[1m4s\u001b[0m 299ms/step - accuracy: 0.1320 - loss: 1.5017 - val_accuracy: 0.1315 - val_loss: 1.6520\n",
      "Epoch 6/50\n",
      "\u001b[1m13/13\u001b[0m \u001b[32m━━━━━━━━━━━━━━━━━━━━\u001b[0m\u001b[37m\u001b[0m \u001b[1m5s\u001b[0m 375ms/step - accuracy: 0.1439 - loss: 1.4162 - val_accuracy: 0.1660 - val_loss: 1.5735\n",
      "Epoch 7/50\n",
      "\u001b[1m13/13\u001b[0m \u001b[32m━━━━━━━━━━━━━━━━━━━━\u001b[0m\u001b[37m\u001b[0m \u001b[1m5s\u001b[0m 387ms/step - accuracy: 0.1827 - loss: 1.3347 - val_accuracy: 0.1945 - val_loss: 1.4869\n",
      "Epoch 8/50\n",
      "\u001b[1m13/13\u001b[0m \u001b[32m━━━━━━━━━━━━━━━━━━━━\u001b[0m\u001b[37m\u001b[0m \u001b[1m5s\u001b[0m 383ms/step - accuracy: 0.2088 - loss: 1.2636 - val_accuracy: 0.2050 - val_loss: 1.4027\n",
      "Epoch 9/50\n",
      "\u001b[1m13/13\u001b[0m \u001b[32m━━━━━━━━━━━━━━━━━━━━\u001b[0m\u001b[37m\u001b[0m \u001b[1m5s\u001b[0m 390ms/step - accuracy: 0.2252 - loss: 1.1181 - val_accuracy: 0.2330 - val_loss: 1.3331\n",
      "Epoch 10/50\n",
      "\u001b[1m13/13\u001b[0m \u001b[32m━━━━━━━━━━━━━━━━━━━━\u001b[0m\u001b[37m\u001b[0m \u001b[1m5s\u001b[0m 399ms/step - accuracy: 0.2575 - loss: 1.0940 - val_accuracy: 0.2530 - val_loss: 1.2717\n",
      "Epoch 11/50\n",
      "\u001b[1m13/13\u001b[0m \u001b[32m━━━━━━━━━━━━━━━━━━━━\u001b[0m\u001b[37m\u001b[0m \u001b[1m6s\u001b[0m 445ms/step - accuracy: 0.2753 - loss: 0.9617 - val_accuracy: 0.2620 - val_loss: 1.2290\n",
      "Epoch 12/50\n",
      "\u001b[1m13/13\u001b[0m \u001b[32m━━━━━━━━━━━━━━━━━━━━\u001b[0m\u001b[37m\u001b[0m \u001b[1m6s\u001b[0m 439ms/step - accuracy: 0.2779 - loss: 0.9069 - val_accuracy: 0.2675 - val_loss: 1.1953\n",
      "Epoch 13/50\n",
      "\u001b[1m13/13\u001b[0m \u001b[32m━━━━━━━━━━━━━━━━━━━━\u001b[0m\u001b[37m\u001b[0m \u001b[1m5s\u001b[0m 394ms/step - accuracy: 0.2947 - loss: 0.8660 - val_accuracy: 0.2780 - val_loss: 1.1599\n",
      "Epoch 14/50\n",
      "\u001b[1m13/13\u001b[0m \u001b[32m━━━━━━━━━━━━━━━━━━━━\u001b[0m\u001b[37m\u001b[0m \u001b[1m6s\u001b[0m 430ms/step - accuracy: 0.2994 - loss: 0.7753 - val_accuracy: 0.2970 - val_loss: 1.1218\n",
      "Epoch 15/50\n",
      "\u001b[1m13/13\u001b[0m \u001b[32m━━━━━━━━━━━━━━━━━━━━\u001b[0m\u001b[37m\u001b[0m \u001b[1m5s\u001b[0m 385ms/step - accuracy: 0.3125 - loss: 0.7637 - val_accuracy: 0.3030 - val_loss: 1.0990\n",
      "Epoch 16/50\n",
      "\u001b[1m13/13\u001b[0m \u001b[32m━━━━━━━━━━━━━━━━━━━━\u001b[0m\u001b[37m\u001b[0m \u001b[1m4s\u001b[0m 300ms/step - accuracy: 0.3162 - loss: 0.7436 - val_accuracy: 0.3035 - val_loss: 1.0768\n",
      "Epoch 17/50\n",
      "\u001b[1m13/13\u001b[0m \u001b[32m━━━━━━━━━━━━━━━━━━━━\u001b[0m\u001b[37m\u001b[0m \u001b[1m4s\u001b[0m 311ms/step - accuracy: 0.3210 - loss: 0.6737 - val_accuracy: 0.3055 - val_loss: 1.0616\n",
      "Epoch 18/50\n",
      "\u001b[1m13/13\u001b[0m \u001b[32m━━━━━━━━━━━━━━━━━━━━\u001b[0m\u001b[37m\u001b[0m \u001b[1m4s\u001b[0m 269ms/step - accuracy: 0.3243 - loss: 0.6877 - val_accuracy: 0.3060 - val_loss: 1.0470\n",
      "Epoch 19/50\n",
      "\u001b[1m13/13\u001b[0m \u001b[32m━━━━━━━━━━━━━━━━━━━━\u001b[0m\u001b[37m\u001b[0m \u001b[1m4s\u001b[0m 315ms/step - accuracy: 0.3285 - loss: 0.6610 - val_accuracy: 0.3065 - val_loss: 1.0359\n",
      "Epoch 20/50\n",
      "\u001b[1m13/13\u001b[0m \u001b[32m━━━━━━━━━━━━━━━━━━━━\u001b[0m\u001b[37m\u001b[0m \u001b[1m4s\u001b[0m 325ms/step - accuracy: 0.3282 - loss: 0.6102 - val_accuracy: 0.3065 - val_loss: 1.0306\n",
      "Epoch 21/50\n",
      "\u001b[1m13/13\u001b[0m \u001b[32m━━━━━━━━━━━━━━━━━━━━\u001b[0m\u001b[37m\u001b[0m \u001b[1m4s\u001b[0m 336ms/step - accuracy: 0.3324 - loss: 0.5777 - val_accuracy: 0.3100 - val_loss: 1.0238\n",
      "Epoch 22/50\n",
      "\u001b[1m13/13\u001b[0m \u001b[32m━━━━━━━━━━━━━━━━━━━━\u001b[0m\u001b[37m\u001b[0m \u001b[1m4s\u001b[0m 289ms/step - accuracy: 0.3347 - loss: 0.5676 - val_accuracy: 0.3120 - val_loss: 1.0157\n",
      "Epoch 23/50\n",
      "\u001b[1m13/13\u001b[0m \u001b[32m━━━━━━━━━━━━━━━━━━━━\u001b[0m\u001b[37m\u001b[0m \u001b[1m4s\u001b[0m 288ms/step - accuracy: 0.3336 - loss: 0.5453 - val_accuracy: 0.3110 - val_loss: 1.0078\n",
      "Epoch 24/50\n",
      "\u001b[1m13/13\u001b[0m \u001b[32m━━━━━━━━━━━━━━━━━━━━\u001b[0m\u001b[37m\u001b[0m \u001b[1m4s\u001b[0m 309ms/step - accuracy: 0.3366 - loss: 0.5465 - val_accuracy: 0.3150 - val_loss: 0.9993\n",
      "Epoch 25/50\n",
      "\u001b[1m13/13\u001b[0m \u001b[32m━━━━━━━━━━━━━━━━━━━━\u001b[0m\u001b[37m\u001b[0m \u001b[1m4s\u001b[0m 299ms/step - accuracy: 0.3391 - loss: 0.5426 - val_accuracy: 0.3185 - val_loss: 0.9925\n",
      "Epoch 26/50\n",
      "\u001b[1m13/13\u001b[0m \u001b[32m━━━━━━━━━━━━━━━━━━━━\u001b[0m\u001b[37m\u001b[0m \u001b[1m7s\u001b[0m 447ms/step - accuracy: 0.3481 - loss: 0.4984 - val_accuracy: 0.3180 - val_loss: 0.9919\n",
      "Epoch 27/50\n",
      "\u001b[1m13/13\u001b[0m \u001b[32m━━━━━━━━━━━━━━━━━━━━\u001b[0m\u001b[37m\u001b[0m \u001b[1m5s\u001b[0m 342ms/step - accuracy: 0.3468 - loss: 0.4813 - val_accuracy: 0.3225 - val_loss: 0.9818\n",
      "Epoch 28/50\n",
      "\u001b[1m13/13\u001b[0m \u001b[32m━━━━━━━━━━━━━━━━━━━━\u001b[0m\u001b[37m\u001b[0m \u001b[1m4s\u001b[0m 293ms/step - accuracy: 0.3519 - loss: 0.4871 - val_accuracy: 0.3215 - val_loss: 0.9786\n",
      "Epoch 29/50\n",
      "\u001b[1m13/13\u001b[0m \u001b[32m━━━━━━━━━━━━━━━━━━━━\u001b[0m\u001b[37m\u001b[0m \u001b[1m4s\u001b[0m 292ms/step - accuracy: 0.3582 - loss: 0.4467 - val_accuracy: 0.3245 - val_loss: 0.9780\n",
      "Epoch 30/50\n",
      "\u001b[1m13/13\u001b[0m \u001b[32m━━━━━━━━━━━━━━━━━━━━\u001b[0m\u001b[37m\u001b[0m \u001b[1m4s\u001b[0m 308ms/step - accuracy: 0.3651 - loss: 0.4102 - val_accuracy: 0.3290 - val_loss: 0.9671\n",
      "Epoch 31/50\n",
      "\u001b[1m13/13\u001b[0m \u001b[32m━━━━━━━━━━━━━━━━━━━━\u001b[0m\u001b[37m\u001b[0m \u001b[1m4s\u001b[0m 290ms/step - accuracy: 0.3689 - loss: 0.3916 - val_accuracy: 0.3260 - val_loss: 0.9728\n",
      "Epoch 32/50\n",
      "\u001b[1m13/13\u001b[0m \u001b[32m━━━━━━━━━━━━━━━━━━━━\u001b[0m\u001b[37m\u001b[0m \u001b[1m4s\u001b[0m 315ms/step - accuracy: 0.3711 - loss: 0.3907 - val_accuracy: 0.3290 - val_loss: 0.9670\n",
      "Epoch 33/50\n",
      "\u001b[1m13/13\u001b[0m \u001b[32m━━━━━━━━━━━━━━━━━━━━\u001b[0m\u001b[37m\u001b[0m \u001b[1m4s\u001b[0m 334ms/step - accuracy: 0.3720 - loss: 0.3913 - val_accuracy: 0.3300 - val_loss: 0.9646\n",
      "Epoch 34/50\n",
      "\u001b[1m13/13\u001b[0m \u001b[32m━━━━━━━━━━━━━━━━━━━━\u001b[0m\u001b[37m\u001b[0m \u001b[1m4s\u001b[0m 301ms/step - accuracy: 0.3743 - loss: 0.3926 - val_accuracy: 0.3295 - val_loss: 0.9633\n",
      "Epoch 35/50\n",
      "\u001b[1m13/13\u001b[0m \u001b[32m━━━━━━━━━━━━━━━━━━━━\u001b[0m\u001b[37m\u001b[0m \u001b[1m5s\u001b[0m 354ms/step - accuracy: 0.3769 - loss: 0.3843 - val_accuracy: 0.3305 - val_loss: 0.9572\n",
      "Epoch 36/50\n",
      "\u001b[1m13/13\u001b[0m \u001b[32m━━━━━━━━━━━━━━━━━━━━\u001b[0m\u001b[37m\u001b[0m \u001b[1m5s\u001b[0m 349ms/step - accuracy: 0.3864 - loss: 0.3543 - val_accuracy: 0.3340 - val_loss: 0.9577\n",
      "Epoch 37/50\n",
      "\u001b[1m13/13\u001b[0m \u001b[32m━━━━━━━━━━━━━━━━━━━━\u001b[0m\u001b[37m\u001b[0m \u001b[1m4s\u001b[0m 333ms/step - accuracy: 0.3847 - loss: 0.3221 - val_accuracy: 0.3315 - val_loss: 0.9508\n",
      "Epoch 38/50\n",
      "\u001b[1m13/13\u001b[0m \u001b[32m━━━━━━━━━━━━━━━━━━━━\u001b[0m\u001b[37m\u001b[0m \u001b[1m3s\u001b[0m 259ms/step - accuracy: 0.3917 - loss: 0.3063 - val_accuracy: 0.3335 - val_loss: 0.9496\n",
      "Epoch 39/50\n",
      "\u001b[1m13/13\u001b[0m \u001b[32m━━━━━━━━━━━━━━━━━━━━\u001b[0m\u001b[37m\u001b[0m \u001b[1m4s\u001b[0m 297ms/step - accuracy: 0.3960 - loss: 0.2856 - val_accuracy: 0.3345 - val_loss: 0.9506\n",
      "Epoch 40/50\n",
      "\u001b[1m13/13\u001b[0m \u001b[32m━━━━━━━━━━━━━━━━━━━━\u001b[0m\u001b[37m\u001b[0m \u001b[1m4s\u001b[0m 326ms/step - accuracy: 0.4011 - loss: 0.2894 - val_accuracy: 0.3345 - val_loss: 0.9435\n",
      "Epoch 41/50\n",
      "\u001b[1m13/13\u001b[0m \u001b[32m━━━━━━━━━━━━━━━━━━━━\u001b[0m\u001b[37m\u001b[0m \u001b[1m5s\u001b[0m 355ms/step - accuracy: 0.4063 - loss: 0.2784 - val_accuracy: 0.3340 - val_loss: 0.9505\n",
      "Epoch 42/50\n",
      "\u001b[1m13/13\u001b[0m \u001b[32m━━━━━━━━━━━━━━━━━━━━\u001b[0m\u001b[37m\u001b[0m \u001b[1m5s\u001b[0m 356ms/step - accuracy: 0.4051 - loss: 0.2763 - val_accuracy: 0.3335 - val_loss: 0.9453\n",
      "Epoch 43/50\n",
      "\u001b[1m13/13\u001b[0m \u001b[32m━━━━━━━━━━━━━━━━━━━━\u001b[0m\u001b[37m\u001b[0m \u001b[1m5s\u001b[0m 367ms/step - accuracy: 0.4064 - loss: 0.2528 - val_accuracy: 0.3345 - val_loss: 0.9427\n",
      "Epoch 44/50\n",
      "\u001b[1m13/13\u001b[0m \u001b[32m━━━━━━━━━━━━━━━━━━━━\u001b[0m\u001b[37m\u001b[0m \u001b[1m5s\u001b[0m 375ms/step - accuracy: 0.4075 - loss: 0.2544 - val_accuracy: 0.3345 - val_loss: 0.9420\n",
      "Epoch 45/50\n",
      "\u001b[1m13/13\u001b[0m \u001b[32m━━━━━━━━━━━━━━━━━━━━\u001b[0m\u001b[37m\u001b[0m \u001b[1m5s\u001b[0m 355ms/step - accuracy: 0.4124 - loss: 0.2493 - val_accuracy: 0.3350 - val_loss: 0.9413\n",
      "Epoch 46/50\n",
      "\u001b[1m13/13\u001b[0m \u001b[32m━━━━━━━━━━━━━━━━━━━━\u001b[0m\u001b[37m\u001b[0m \u001b[1m5s\u001b[0m 348ms/step - accuracy: 0.4193 - loss: 0.2542 - val_accuracy: 0.3380 - val_loss: 0.9365\n",
      "Epoch 47/50\n",
      "\u001b[1m13/13\u001b[0m \u001b[32m━━━━━━━━━━━━━━━━━━━━\u001b[0m\u001b[37m\u001b[0m \u001b[1m5s\u001b[0m 360ms/step - accuracy: 0.4163 - loss: 0.2280 - val_accuracy: 0.3365 - val_loss: 0.9430\n",
      "Epoch 48/50\n",
      "\u001b[1m13/13\u001b[0m \u001b[32m━━━━━━━━━━━━━━━━━━━━\u001b[0m\u001b[37m\u001b[0m \u001b[1m5s\u001b[0m 366ms/step - accuracy: 0.4161 - loss: 0.2184 - val_accuracy: 0.3355 - val_loss: 0.9329\n",
      "Epoch 49/50\n",
      "\u001b[1m13/13\u001b[0m \u001b[32m━━━━━━━━━━━━━━━━━━━━\u001b[0m\u001b[37m\u001b[0m \u001b[1m5s\u001b[0m 359ms/step - accuracy: 0.4196 - loss: 0.2161 - val_accuracy: 0.3380 - val_loss: 0.9389\n",
      "Epoch 50/50\n",
      "\u001b[1m13/13\u001b[0m \u001b[32m━━━━━━━━━━━━━━━━━━━━\u001b[0m\u001b[37m\u001b[0m \u001b[1m5s\u001b[0m 367ms/step - accuracy: 0.4224 - loss: 0.1937 - val_accuracy: 0.3370 - val_loss: 0.9338\n"
>>>>>>> 757cc1cd0403d1336e16bf1c11653bd4c71efbc8
     ]
    }
   ],
   "source": [
<<<<<<< HEAD
    "epochs = 25\n",
=======
    "batch_size = 64\n",
    "epochs = 50\n",
>>>>>>> 757cc1cd0403d1336e16bf1c11653bd4c71efbc8
    "history = model.fit(\n",
    "    [encoder_input_train, decoder_input_train],\n",
    "    decoder_output_train,\n",
    "    batch_size=batch_size,\n",
    "    epochs=epochs,\n",
    "    validation_data=([encoder_input_val, decoder_input_val], decoder_output_val)\n",
    ")\n"
   ]
  },
  {
   "cell_type": "code",
<<<<<<< HEAD
   "execution_count": 23,
=======
   "execution_count": 46,
>>>>>>> 757cc1cd0403d1336e16bf1c11653bd4c71efbc8
   "metadata": {},
   "outputs": [
    {
     "data": {
<<<<<<< HEAD
      "image/png": "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",
=======
      "image/png": "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",
>>>>>>> 757cc1cd0403d1336e16bf1c11653bd4c71efbc8
      "text/plain": [
       "<Figure size 1200x600 with 2 Axes>"
      ]
     },
     "metadata": {},
     "output_type": "display_data"
    }
   ],
   "source": [
    "# Extracting the history data\n",
    "train_loss = history.history['loss']\n",
    "val_loss = history.history['val_loss']\n",
    "train_accuracy = history.history['accuracy']\n",
    "val_accuracy = history.history['val_accuracy']\n",
    "\n",
    "# Plotting the loss curves\n",
    "plt.figure(figsize=(12, 6))\n",
    "\n",
    "# Plotting Training and Validation Loss\n",
    "plt.subplot(1, 2, 1)\n",
    "plt.plot(train_loss, label='Training Loss')\n",
    "plt.plot(val_loss, label='Validation Loss')\n",
    "plt.title('Training and Validation Loss')\n",
    "plt.xlabel('Epochs')\n",
    "plt.ylabel('Loss')\n",
    "plt.legend()\n",
    "\n",
    "# Plotting Training and Validation Accuracy\n",
    "plt.subplot(1, 2, 2)\n",
    "plt.plot(train_accuracy, label='Training Accuracy')\n",
    "plt.plot(val_accuracy, label='Validation Accuracy')\n",
    "plt.title('Training and Validation Accuracy')\n",
    "plt.xlabel('Epochs')\n",
    "plt.ylabel('Accuracy')\n",
    "plt.legend()\n",
    "\n",
    "# Display the plots\n",
    "plt.tight_layout()\n",
    "plt.show()"
   ]
  },
  {
   "cell_type": "code",
<<<<<<< HEAD
   "execution_count": 24,
=======
   "execution_count": 47,
>>>>>>> 757cc1cd0403d1336e16bf1c11653bd4c71efbc8
   "metadata": {},
   "outputs": [
    {
     "name": "stderr",
     "output_type": "stream",
     "text": [
      "WARNING:absl:You are saving your model as an HDF5 file via `model.save()` or `keras.saving.save_model(model)`. This file format is considered legacy. We recommend using instead the native Keras format, e.g. `model.save('my_model.keras')` or `keras.saving.save_model(model, 'my_model.keras')`. \n"
     ]
    }
   ],
   "source": [
    "# Save the model\n",
    "model.save('./Models/grammar_checker_model.h5')"
   ]
  },
  {
   "cell_type": "markdown",
   "metadata": {},
   "source": [
    "### Evaluate the Model"
   ]
  },
  {
   "cell_type": "code",
<<<<<<< HEAD
   "execution_count": 41,
=======
   "execution_count": 48,
>>>>>>> 757cc1cd0403d1336e16bf1c11653bd4c71efbc8
   "metadata": {},
   "outputs": [
    {
     "name": "stdout",
     "output_type": "stream",
     "text": [
<<<<<<< HEAD
      "\u001b[1m7/7\u001b[0m \u001b[32m━━━━━━━━━━━━━━━━━━━━\u001b[0m\u001b[37m\u001b[0m \u001b[1m1s\u001b[0m 101ms/step - accuracy: 0.2993 - loss: 1.2174\n",
      "\u001b[1m25/25\u001b[0m \u001b[32m━━━━━━━━━━━━━━━━━━━━\u001b[0m\u001b[37m\u001b[0m \u001b[1m3s\u001b[0m 110ms/step - accuracy: 0.3387 - loss: 0.5766\n",
      "Training Accuracy: 33.34%\n",
      "Validation Accuracy: 30.60%\n"
=======
      "\u001b[1m7/7\u001b[0m \u001b[32m━━━━━━━━━━━━━━━━━━━━\u001b[0m\u001b[37m\u001b[0m \u001b[1m0s\u001b[0m 35ms/step - accuracy: 0.3379 - loss: 0.9756\n",
      "Validation Loss: 0.9337894320487976\n",
      "Validation Accuracy: 0.3369999825954437\n"
>>>>>>> 757cc1cd0403d1336e16bf1c11653bd4c71efbc8
     ]
    }
   ],
   "source": [
    "# Evaluate the model on the validation data\n",
    "validation_loss, validation_accuracy = model.evaluate([encoder_input_val, decoder_input_val], decoder_output_val)\n",
<<<<<<< HEAD
    "train_loss, train_accuracy = model.evaluate([encoder_input_train, decoder_input_train], decoder_output_train)\n",
    "\n",
    "# print(f\"Training Loss: {train_loss * 100:.2f}%\")\n",
    "print(f\"Training Accuracy: {train_accuracy * 100:.2f}%\")\n",
    "# print(f\"Validation Loss: {validation_loss * 100:.2f}%\")\n",
    "print(f\"Validation Accuracy: {validation_accuracy * 100:.2f}%\")"
=======
    "print(f\"Validation Loss: {validation_loss}\")\n",
    "print(f\"Validation Accuracy: {validation_accuracy}\")"
>>>>>>> 757cc1cd0403d1336e16bf1c11653bd4c71efbc8
   ]
  },
  {
   "cell_type": "markdown",
   "metadata": {},
   "source": [
    "### Create Inference Models (for Prediction)"
   ]
  },
  {
   "cell_type": "code",
<<<<<<< HEAD
   "execution_count": 26,
   "metadata": {},
   "outputs": [],
   "source": [
    "# Inference\n",
    "encoder_model = Model(encoder_inputs, encoder_states)\n",
    "decoder_state_input_h = Input(shape=(hidden_units,))\n",
    "decoder_state_input_c = Input(shape=(hidden_units,))\n",
    "decoder_states_inputs = [decoder_state_input_h, decoder_state_input_c]\n",
    "decoder_embedding_inf = Embedding(input_dim=len(output_tokenizer.word_index) + 1, output_dim=embedding_dim)(decoder_inputs)\n",
    "decoder_outputs, state_h, state_c = decoder_lstm(decoder_embedding_inf, initial_state=decoder_states_inputs)\n",
    "decoder_states = [state_h, state_c]\n",
    "decoder_outputs = decoder_dense(decoder_outputs)\n",
    "decoder_model = Model([decoder_inputs] + decoder_states_inputs, [decoder_outputs] + decoder_states)"
=======
   "execution_count": 75,
   "metadata": {},
   "outputs": [],
   "source": [
    "# Create encoder inference model\n",
    "encoder_model = Model(encoder_inputs, encoder_states)\n",
    "\n",
    "# Create decoder inference model\n",
    "decoder_state_input_h = Input(shape=(hidden_units,))\n",
    "decoder_state_input_c = Input(shape=(hidden_units,))\n",
    "decoder_states_inputs = [decoder_state_input_h, decoder_state_input_c]\n",
    "decoder_embedding_inf = Embedding(input_dim=len(output_tokenizer.word_index) + 1, output_dim=embedding_dim)\n",
    "decoder_lstm_inf = LSTM(hidden_units, return_sequences=True, return_state=True)\n",
    "decoder_outputs_inf, state_h_inf, state_c_inf = decoder_lstm_inf(decoder_embedding_inf(decoder_inputs), initial_state=decoder_states_inputs)\n",
    "decoder_dense_inf = Dense(len(output_tokenizer.word_index) + 1, activation='softmax')\n",
    "decoder_outputs_inf = decoder_dense_inf(decoder_outputs_inf)\n",
    "\n",
    "decoder_model = Model([decoder_inputs] + decoder_states_inputs, [decoder_outputs_inf] + [state_h_inf, state_c_inf])"
>>>>>>> 757cc1cd0403d1336e16bf1c11653bd4c71efbc8
   ]
  },
  {
   "cell_type": "markdown",
   "metadata": {},
   "source": [
    "### Test the Model with Grammatical Error Sentences"
   ]
  },
  {
   "cell_type": "code",
<<<<<<< HEAD
   "execution_count": 27,
=======
   "execution_count": 76,
>>>>>>> 757cc1cd0403d1336e16bf1c11653bd4c71efbc8
   "metadata": {},
   "outputs": [],
   "source": [
    "error_sentences = [\n",
    "    \"நான் நேற்று பாடம் படிக்கிறேன்.\",\n",
    "    \"அவள் பாடம் படித்தான்.\"\n",
    "]\n",
    "\n",
    "correct_sentences = [\n",
    "    \"நான் நேற்று பாடம் படித்தேன்.\",\n",
    "    \"அவள் பாடம் படித்தாள்.\"\n",
    "]\n"
   ]
  },
  {
   "cell_type": "code",
<<<<<<< HEAD
   "execution_count": 28,
   "metadata": {},
   "outputs": [],
   "source": [
    "def decode_sequence(input_seq):\n",
    "    states_value = encoder_model.predict(input_seq)\n",
    "    target_seq = np.zeros((1, 1))\n",
    "    target_seq[0, 0] = output_tokenizer.word_index['start']\n",
=======
   "execution_count": 99,
   "metadata": {},
   "outputs": [],
   "source": [
    "# Define the function to decode the output sequence from the model\n",
    "def decode_sequence(input_seq):\n",
    "    states_value = encoder_model.predict(input_seq)\n",
    "    target_seq = np.zeros((1, 1))\n",
    "    target_seq[0, 0] = output_tokenizer.word_index['<start>']\n",
>>>>>>> 757cc1cd0403d1336e16bf1c11653bd4c71efbc8
    "    stop_condition = False\n",
    "    decoded_sentence = ''\n",
    "    while not stop_condition:\n",
    "        output_tokens, h, c = decoder_model.predict([target_seq] + states_value)\n",
    "        sampled_token_index = np.argmax(output_tokens[0, -1, :])\n",
    "        sampled_word = None\n",
    "        for word, index in output_tokenizer.word_index.items():\n",
    "            if index == sampled_token_index:\n",
    "                sampled_word = word\n",
    "                break\n",
<<<<<<< HEAD
    "        if sampled_word == 'end' or len(decoded_sentence.split()) > max_target_length:\n",
=======
    "        if sampled_word == '<end>' or len(decoded_sentence.split()) > max_target_length:\n",
>>>>>>> 757cc1cd0403d1336e16bf1c11653bd4c71efbc8
    "            stop_condition = True\n",
    "        else:\n",
    "            decoded_sentence += ' ' + sampled_word\n",
    "        target_seq = np.zeros((1, 1))\n",
    "        target_seq[0, 0] = sampled_token_index\n",
    "        states_value = [h, c]\n",
<<<<<<< HEAD
    "    return decoded_sentence.strip()"
=======
    "    return decoded_sentence.strip()\n"
>>>>>>> 757cc1cd0403d1336e16bf1c11653bd4c71efbc8
   ]
  },
  {
   "cell_type": "code",
<<<<<<< HEAD
   "execution_count": 29,
=======
   "execution_count": 79,
>>>>>>> 757cc1cd0403d1336e16bf1c11653bd4c71efbc8
   "metadata": {},
   "outputs": [
    {
     "name": "stdout",
     "output_type": "stream",
     "text": [
<<<<<<< HEAD
      "\u001b[1m1/1\u001b[0m \u001b[32m━━━━━━━━━━━━━━━━━━━━\u001b[0m\u001b[37m\u001b[0m \u001b[1m0s\u001b[0m 378ms/step\n"
=======
      "\u001b[1m1/1\u001b[0m \u001b[32m━━━━━━━━━━━━━━━━━━━━\u001b[0m\u001b[37m\u001b[0m \u001b[1m0s\u001b[0m 278ms/step\n",
      "\u001b[1m1/1\u001b[0m \u001b[32m━━━━━━━━━━━━━━━━━━━━\u001b[0m\u001b[37m\u001b[0m \u001b[1m0s\u001b[0m 227ms/step"
>>>>>>> 757cc1cd0403d1336e16bf1c11653bd4c71efbc8
     ]
    },
    {
     "name": "stderr",
     "output_type": "stream",
     "text": [
<<<<<<< HEAD
      "c:\\Users\\Hp\\anaconda3\\Lib\\site-packages\\keras\\src\\models\\functional.py:225: UserWarning: The structure of `inputs` doesn't match the expected structure: ['keras_tensor_5', 'keras_tensor_11', 'keras_tensor_12']. Received: the structure of inputs=('*', '*', '*')\n",
=======
      "c:\\Users\\Hp\\anaconda3\\Lib\\site-packages\\keras\\src\\models\\functional.py:225: UserWarning: The structure of `inputs` doesn't match the expected structure: ['keras_tensor_5', 'keras_tensor_39', 'keras_tensor_40']. Received: the structure of inputs=('*', '*', '*')\n",
>>>>>>> 757cc1cd0403d1336e16bf1c11653bd4c71efbc8
      "  warnings.warn(\n"
     ]
    },
    {
     "name": "stdout",
     "output_type": "stream",
     "text": [
<<<<<<< HEAD
      "\u001b[1m1/1\u001b[0m \u001b[32m━━━━━━━━━━━━━━━━━━━━\u001b[0m\u001b[37m\u001b[0m \u001b[1m0s\u001b[0m 380ms/step\n",
      "\u001b[1m1/1\u001b[0m \u001b[32m━━━━━━━━━━━━━━━━━━━━\u001b[0m\u001b[37m\u001b[0m \u001b[1m0s\u001b[0m 35ms/step\n",
      "\u001b[1m1/1\u001b[0m \u001b[32m━━━━━━━━━━━━━━━━━━━━\u001b[0m\u001b[37m\u001b[0m \u001b[1m0s\u001b[0m 33ms/step\n",
      "\u001b[1m1/1\u001b[0m \u001b[32m━━━━━━━━━━━━━━━━━━━━\u001b[0m\u001b[37m\u001b[0m \u001b[1m0s\u001b[0m 39ms/step\n",
      "\u001b[1m1/1\u001b[0m \u001b[32m━━━━━━━━━━━━━━━━━━━━\u001b[0m\u001b[37m\u001b[0m \u001b[1m0s\u001b[0m 50ms/step\n",
      "\u001b[1m1/1\u001b[0m \u001b[32m━━━━━━━━━━━━━━━━━━━━\u001b[0m\u001b[37m\u001b[0m \u001b[1m0s\u001b[0m 34ms/step\n",
      "\u001b[1m1/1\u001b[0m \u001b[32m━━━━━━━━━━━━━━━━━━━━\u001b[0m\u001b[37m\u001b[0m \u001b[1m0s\u001b[0m 42ms/step\n",
      "\u001b[1m1/1\u001b[0m \u001b[32m━━━━━━━━━━━━━━━━━━━━\u001b[0m\u001b[37m\u001b[0m \u001b[1m0s\u001b[0m 48ms/step\n",
      "\u001b[1m1/1\u001b[0m \u001b[32m━━━━━━━━━━━━━━━━━━━━\u001b[0m\u001b[37m\u001b[0m \u001b[1m0s\u001b[0m 49ms/step\n",
      "\u001b[1m1/1\u001b[0m \u001b[32m━━━━━━━━━━━━━━━━━━━━\u001b[0m\u001b[37m\u001b[0m \u001b[1m0s\u001b[0m 56ms/step\n",
      "\u001b[1m1/1\u001b[0m \u001b[32m━━━━━━━━━━━━━━━━━━━━\u001b[0m\u001b[37m\u001b[0m \u001b[1m0s\u001b[0m 47ms/step\n",
      "\u001b[1m1/1\u001b[0m \u001b[32m━━━━━━━━━━━━━━━━━━━━\u001b[0m\u001b[37m\u001b[0m \u001b[1m0s\u001b[0m 36ms/step\n",
      "\u001b[1m1/1\u001b[0m \u001b[32m━━━━━━━━━━━━━━━━━━━━\u001b[0m\u001b[37m\u001b[0m \u001b[1m0s\u001b[0m 32ms/step\n",
      "\u001b[1m1/1\u001b[0m \u001b[32m━━━━━━━━━━━━━━━━━━━━\u001b[0m\u001b[37m\u001b[0m \u001b[1m0s\u001b[0m 25ms/step\n",
      "\u001b[1m1/1\u001b[0m \u001b[32m━━━━━━━━━━━━━━━━━━━━\u001b[0m\u001b[37m\u001b[0m \u001b[1m0s\u001b[0m 36ms/step\n",
      "\u001b[1m1/1\u001b[0m \u001b[32m━━━━━━━━━━━━━━━━━━━━\u001b[0m\u001b[37m\u001b[0m \u001b[1m0s\u001b[0m 25ms/step\n",
      "\u001b[1m1/1\u001b[0m \u001b[32m━━━━━━━━━━━━━━━━━━━━\u001b[0m\u001b[37m\u001b[0m \u001b[1m0s\u001b[0m 34ms/step\n",
      "\u001b[1m1/1\u001b[0m \u001b[32m━━━━━━━━━━━━━━━━━━━━\u001b[0m\u001b[37m\u001b[0m \u001b[1m0s\u001b[0m 28ms/step\n",
      "\u001b[1m1/1\u001b[0m \u001b[32m━━━━━━━━━━━━━━━━━━━━\u001b[0m\u001b[37m\u001b[0m \u001b[1m0s\u001b[0m 33ms/step\n",
      "\u001b[1m1/1\u001b[0m \u001b[32m━━━━━━━━━━━━━━━━━━━━\u001b[0m\u001b[37m\u001b[0m \u001b[1m0s\u001b[0m 58ms/step\n",
      "\u001b[1m1/1\u001b[0m \u001b[32m━━━━━━━━━━━━━━━━━━━━\u001b[0m\u001b[37m\u001b[0m \u001b[1m0s\u001b[0m 40ms/step\n",
      "\u001b[1m1/1\u001b[0m \u001b[32m━━━━━━━━━━━━━━━━━━━━\u001b[0m\u001b[37m\u001b[0m \u001b[1m0s\u001b[0m 68ms/step\n",
      "\u001b[1m1/1\u001b[0m \u001b[32m━━━━━━━━━━━━━━━━━━━━\u001b[0m\u001b[37m\u001b[0m \u001b[1m0s\u001b[0m 66ms/step\n",
      "\u001b[1m1/1\u001b[0m \u001b[32m━━━━━━━━━━━━━━━━━━━━\u001b[0m\u001b[37m\u001b[0m \u001b[1m0s\u001b[0m 51ms/step\n"
     ]
    }
   ],
   "source": [
    "# Test the model with random sentences\n",
    "random_indices = random.sample(range(len(input_sentences)), 5)\n",
    "selected_test_inputs = [input_sentences[i] for i in random_indices]\n",
    "selected_test_targets = [target_sentences[i] for i in random_indices]\n",
    "predictions = []\n",
    "references = []\n",
    "for input_sentence, target_sentence in zip(selected_test_inputs, selected_test_targets):\n",
    "    input_seq = pad_sequences(input_tokenizer.texts_to_sequences([input_sentence]), maxlen=8, padding='post')\n",
    "    predicted_sentence = decode_sequence(input_seq)\n",
    "    predictions.append(predicted_sentence.split())\n",
    "    references.append([target_sentence.split()])"
   ]
  },
  {
   "cell_type": "code",
   "execution_count": 30,
   "metadata": {},
   "outputs": [
    {
     "name": "stdout",
     "output_type": "stream",
     "text": [
      "\u001b[1m1/1\u001b[0m \u001b[32m━━━━━━━━━━━━━━━━━━━━\u001b[0m\u001b[37m\u001b[0m \u001b[1m0s\u001b[0m 52ms/step\n",
      "\u001b[1m1/1\u001b[0m \u001b[32m━━━━━━━━━━━━━━━━━━━━\u001b[0m\u001b[37m\u001b[0m \u001b[1m0s\u001b[0m 36ms/step\n",
      "\u001b[1m1/1\u001b[0m \u001b[32m━━━━━━━━━━━━━━━━━━━━\u001b[0m\u001b[37m\u001b[0m \u001b[1m0s\u001b[0m 30ms/step\n",
      "\u001b[1m1/1\u001b[0m \u001b[32m━━━━━━━━━━━━━━━━━━━━\u001b[0m\u001b[37m\u001b[0m \u001b[1m0s\u001b[0m 39ms/step\n",
      "\u001b[1m1/1\u001b[0m \u001b[32m━━━━━━━━━━━━━━━━━━━━\u001b[0m\u001b[37m\u001b[0m \u001b[1m0s\u001b[0m 32ms/step\n",
      "Input Sentence (Ungrammatical): நான் நேற்று பாடம் படிக்கிறேன்.\n",
      "Predicted Sentence (Grammatical): நான் நகரத்தில் படிக்கிறேன்\n"
     ]
    }
   ],
   "source": [
    "# Define the ungrammatical input sentence\n",
    "input_sentence = \"நான் நேற்று பாடம் படிக்கிறேன்.\"  # Example ungrammatical sentence\n",
    "\n",
    "# Preprocess the input sentence\n",
    "input_seq = pad_sequences(input_tokenizer.texts_to_sequences([input_sentence]), maxlen=max_input_length, padding='post')\n",
    "\n",
    "# Get the predicted sentence using the model\n",
    "predicted_sentence = decode_sequence(input_seq)\n",
    "\n",
    "# Output the result\n",
    "print(\"Input Sentence (Ungrammatical):\", input_sentence)\n",
    "print(\"Predicted Sentence (Grammatical):\", predicted_sentence)\n"
   ]
  },
  {
   "cell_type": "code",
   "execution_count": 31,
   "metadata": {},
   "outputs": [
    {
     "name": "stdout",
     "output_type": "stream",
     "text": [
      "\u001b[1m1/1\u001b[0m \u001b[32m━━━━━━━━━━━━━━━━━━━━\u001b[0m\u001b[37m\u001b[0m \u001b[1m0s\u001b[0m 49ms/step\n",
      "\u001b[1m1/1\u001b[0m \u001b[32m━━━━━━━━━━━━━━━━━━━━\u001b[0m\u001b[37m\u001b[0m \u001b[1m0s\u001b[0m 34ms/step\n",
      "\u001b[1m1/1\u001b[0m \u001b[32m━━━━━━━━━━━━━━━━━━━━\u001b[0m\u001b[37m\u001b[0m \u001b[1m0s\u001b[0m 47ms/step\n",
      "\u001b[1m1/1\u001b[0m \u001b[32m━━━━━━━━━━━━━━━━━━━━\u001b[0m\u001b[37m\u001b[0m \u001b[1m0s\u001b[0m 38ms/step\n",
      "\u001b[1m1/1\u001b[0m \u001b[32m━━━━━━━━━━━━━━━━━━━━\u001b[0m\u001b[37m\u001b[0m \u001b[1m0s\u001b[0m 23ms/step\n",
      "Input Sentence (Ungrammatical): அவள் பாடம் படித்தான்.\n",
      "Predicted Sentence (Grammatical): அவள் நகரத்தில் கடந்து\n"
     ]
    }
   ],
   "source": [
    "# Define the ungrammatical input sentence\n",
    "input_sentence = \"அவள் பாடம் படித்தான்.\"  # Example ungrammatical sentence\n",
    "\n",
    "# Preprocess the input sentence\n",
    "input_seq = pad_sequences(input_tokenizer.texts_to_sequences([input_sentence]), maxlen=max_input_length, padding='post')\n",
    "\n",
    "# Get the predicted sentence using the model\n",
    "predicted_sentence = decode_sequence(input_seq)\n",
    "\n",
    "# Output the result\n",
    "print(\"Input Sentence (Ungrammatical):\", input_sentence)\n",
    "print(\"Predicted Sentence (Grammatical):\", predicted_sentence)\n"
   ]
  },
  {
   "cell_type": "code",
   "execution_count": 32,
   "metadata": {},
   "outputs": [
    {
     "name": "stdout",
     "output_type": "stream",
     "text": [
      "\u001b[1m1/1\u001b[0m \u001b[32m━━━━━━━━━━━━━━━━━━━━\u001b[0m\u001b[37m\u001b[0m \u001b[1m1s\u001b[0m 612ms/step\n",
      "\u001b[1m1/1\u001b[0m \u001b[32m━━━━━━━━━━━━━━━━━━━━\u001b[0m\u001b[37m\u001b[0m \u001b[1m0s\u001b[0m 60ms/step\n",
      "\u001b[1m1/1\u001b[0m \u001b[32m━━━━━━━━━━━━━━━━━━━━\u001b[0m\u001b[37m\u001b[0m \u001b[1m0s\u001b[0m 41ms/step\n",
      "\u001b[1m1/1\u001b[0m \u001b[32m━━━━━━━━━━━━━━━━━━━━\u001b[0m\u001b[37m\u001b[0m \u001b[1m0s\u001b[0m 43ms/step\n",
      "\u001b[1m1/1\u001b[0m \u001b[32m━━━━━━━━━━━━━━━━━━━━\u001b[0m\u001b[37m\u001b[0m \u001b[1m0s\u001b[0m 42ms/step\n",
      "\u001b[1m1/1\u001b[0m \u001b[32m━━━━━━━━━━━━━━━━━━━━\u001b[0m\u001b[37m\u001b[0m \u001b[1m0s\u001b[0m 59ms/step\n",
      "\u001b[1m1/1\u001b[0m \u001b[32m━━━━━━━━━━━━━━━━━━━━\u001b[0m\u001b[37m\u001b[0m \u001b[1m0s\u001b[0m 46ms/step\n",
      "\u001b[1m1/1\u001b[0m \u001b[32m━━━━━━━━━━━━━━━━━━━━\u001b[0m\u001b[37m\u001b[0m \u001b[1m0s\u001b[0m 26ms/step\n",
      "\u001b[1m1/1\u001b[0m \u001b[32m━━━━━━━━━━━━━━━━━━━━\u001b[0m\u001b[37m\u001b[0m \u001b[1m0s\u001b[0m 41ms/step\n",
      "\u001b[1m1/1\u001b[0m \u001b[32m━━━━━━━━━━━━━━━━━━━━\u001b[0m\u001b[37m\u001b[0m \u001b[1m0s\u001b[0m 60ms/step\n",
      "\u001b[1m1/1\u001b[0m \u001b[32m━━━━━━━━━━━━━━━━━━━━\u001b[0m\u001b[37m\u001b[0m \u001b[1m0s\u001b[0m 39ms/step\n",
      "\u001b[1m1/1\u001b[0m \u001b[32m━━━━━━━━━━━━━━━━━━━━\u001b[0m\u001b[37m\u001b[0m \u001b[1m0s\u001b[0m 28ms/step\n",
      "\u001b[1m1/1\u001b[0m \u001b[32m━━━━━━━━━━━━━━━━━━━━\u001b[0m\u001b[37m\u001b[0m \u001b[1m0s\u001b[0m 61ms/step\n",
      "\u001b[1m1/1\u001b[0m \u001b[32m━━━━━━━━━━━━━━━━━━━━\u001b[0m\u001b[37m\u001b[0m \u001b[1m0s\u001b[0m 35ms/step\n",
      "\u001b[1m1/1\u001b[0m \u001b[32m━━━━━━━━━━━━━━━━━━━━\u001b[0m\u001b[37m\u001b[0m \u001b[1m0s\u001b[0m 35ms/step\n",
      "\u001b[1m1/1\u001b[0m \u001b[32m━━━━━━━━━━━━━━━━━━━━\u001b[0m\u001b[37m\u001b[0m \u001b[1m0s\u001b[0m 43ms/step\n",
      "\u001b[1m1/1\u001b[0m \u001b[32m━━━━━━━━━━━━━━━━━━━━\u001b[0m\u001b[37m\u001b[0m \u001b[1m0s\u001b[0m 26ms/step\n",
      "\u001b[1m1/1\u001b[0m \u001b[32m━━━━━━━━━━━━━━━━━━━━\u001b[0m\u001b[37m\u001b[0m \u001b[1m0s\u001b[0m 32ms/step\n",
      "\u001b[1m1/1\u001b[0m \u001b[32m━━━━━━━━━━━━━━━━━━━━\u001b[0m\u001b[37m\u001b[0m \u001b[1m0s\u001b[0m 31ms/step\n",
      "\u001b[1m1/1\u001b[0m \u001b[32m━━━━━━━━━━━━━━━━━━━━\u001b[0m\u001b[37m\u001b[0m \u001b[1m0s\u001b[0m 48ms/step\n"
=======
      "\u001b[1m1/1\u001b[0m \u001b[32m━━━━━━━━━━━━━━━━━━━━\u001b[0m\u001b[37m\u001b[0m \u001b[1m0s\u001b[0m 227ms/step\n",
      "\u001b[1m1/1\u001b[0m \u001b[32m━━━━━━━━━━━━━━━━━━━━\u001b[0m\u001b[37m\u001b[0m \u001b[1m0s\u001b[0m 33ms/step\n",
      "\u001b[1m1/1\u001b[0m \u001b[32m━━━━━━━━━━━━━━━━━━━━\u001b[0m\u001b[37m\u001b[0m \u001b[1m0s\u001b[0m 28ms/step\n",
      "\u001b[1m1/1\u001b[0m \u001b[32m━━━━━━━━━━━━━━━━━━━━\u001b[0m\u001b[37m\u001b[0m \u001b[1m0s\u001b[0m 34ms/step\n",
      "\u001b[1m1/1\u001b[0m \u001b[32m━━━━━━━━━━━━━━━━━━━━\u001b[0m\u001b[37m\u001b[0m \u001b[1m0s\u001b[0m 29ms/step\n",
      "\u001b[1m1/1\u001b[0m \u001b[32m━━━━━━━━━━━━━━━━━━━━\u001b[0m\u001b[37m\u001b[0m \u001b[1m0s\u001b[0m 48ms/step\n",
      "\u001b[1m1/1\u001b[0m \u001b[32m━━━━━━━━━━━━━━━━━━━━\u001b[0m\u001b[37m\u001b[0m \u001b[1m0s\u001b[0m 57ms/step\n",
      "\u001b[1m1/1\u001b[0m \u001b[32m━━━━━━━━━━━━━━━━━━━━\u001b[0m\u001b[37m\u001b[0m \u001b[1m0s\u001b[0m 35ms/step\n",
      "\u001b[1m1/1\u001b[0m \u001b[32m━━━━━━━━━━━━━━━━━━━━\u001b[0m\u001b[37m\u001b[0m \u001b[1m0s\u001b[0m 22ms/step\n",
      "\u001b[1m1/1\u001b[0m \u001b[32m━━━━━━━━━━━━━━━━━━━━\u001b[0m\u001b[37m\u001b[0m \u001b[1m0s\u001b[0m 26ms/step\n",
      "\u001b[1m1/1\u001b[0m \u001b[32m━━━━━━━━━━━━━━━━━━━━\u001b[0m\u001b[37m\u001b[0m \u001b[1m0s\u001b[0m 25ms/step\n",
      "\u001b[1m1/1\u001b[0m \u001b[32m━━━━━━━━━━━━━━━━━━━━\u001b[0m\u001b[37m\u001b[0m \u001b[1m0s\u001b[0m 30ms/step\n",
      "\u001b[1m1/1\u001b[0m \u001b[32m━━━━━━━━━━━━━━━━━━━━\u001b[0m\u001b[37m\u001b[0m \u001b[1m0s\u001b[0m 27ms/step\n",
      "\u001b[1m1/1\u001b[0m \u001b[32m━━━━━━━━━━━━━━━━━━━━\u001b[0m\u001b[37m\u001b[0m \u001b[1m0s\u001b[0m 28ms/step\n",
      "\u001b[1m1/1\u001b[0m \u001b[32m━━━━━━━━━━━━━━━━━━━━\u001b[0m\u001b[37m\u001b[0m \u001b[1m0s\u001b[0m 32ms/step\n",
      "\u001b[1m1/1\u001b[0m \u001b[32m━━━━━━━━━━━━━━━━━━━━\u001b[0m\u001b[37m\u001b[0m \u001b[1m0s\u001b[0m 31ms/step\n",
      "\u001b[1m1/1\u001b[0m \u001b[32m━━━━━━━━━━━━━━━━━━━━\u001b[0m\u001b[37m\u001b[0m \u001b[1m0s\u001b[0m 30ms/step\n",
      "\u001b[1m1/1\u001b[0m \u001b[32m━━━━━━━━━━━━━━━━━━━━\u001b[0m\u001b[37m\u001b[0m \u001b[1m0s\u001b[0m 30ms/step\n",
      "\u001b[1m1/1\u001b[0m \u001b[32m━━━━━━━━━━━━━━━━━━━━\u001b[0m\u001b[37m\u001b[0m \u001b[1m0s\u001b[0m 21ms/step\n",
      "\u001b[1m1/1\u001b[0m \u001b[32m━━━━━━━━━━━━━━━━━━━━\u001b[0m\u001b[37m\u001b[0m \u001b[1m0s\u001b[0m 28ms/step\n",
      "\u001b[1m1/1\u001b[0m \u001b[32m━━━━━━━━━━━━━━━━━━━━\u001b[0m\u001b[37m\u001b[0m \u001b[1m0s\u001b[0m 20ms/step\n",
      "\u001b[1m1/1\u001b[0m \u001b[32m━━━━━━━━━━━━━━━━━━━━\u001b[0m\u001b[37m\u001b[0m \u001b[1m0s\u001b[0m 35ms/step\n",
      "\u001b[1m1/1\u001b[0m \u001b[32m━━━━━━━━━━━━━━━━━━━━\u001b[0m\u001b[37m\u001b[0m \u001b[1m0s\u001b[0m 33ms/step\n",
      "\u001b[1m1/1\u001b[0m \u001b[32m━━━━━━━━━━━━━━━━━━━━\u001b[0m\u001b[37m\u001b[0m \u001b[1m0s\u001b[0m 34ms/step\n",
      "\u001b[1m1/1\u001b[0m \u001b[32m━━━━━━━━━━━━━━━━━━━━\u001b[0m\u001b[37m\u001b[0m \u001b[1m0s\u001b[0m 28ms/step\n",
      "\u001b[1m1/1\u001b[0m \u001b[32m━━━━━━━━━━━━━━━━━━━━\u001b[0m\u001b[37m\u001b[0m \u001b[1m0s\u001b[0m 30ms/step\n",
      "\u001b[1m1/1\u001b[0m \u001b[32m━━━━━━━━━━━━━━━━━━━━\u001b[0m\u001b[37m\u001b[0m \u001b[1m0s\u001b[0m 16ms/step\n",
      "\u001b[1m1/1\u001b[0m \u001b[32m━━━━━━━━━━━━━━━━━━━━\u001b[0m\u001b[37m\u001b[0m \u001b[1m0s\u001b[0m 39ms/step\n",
      "\u001b[1m1/1\u001b[0m \u001b[32m━━━━━━━━━━━━━━━━━━━━\u001b[0m\u001b[37m\u001b[0m \u001b[1m0s\u001b[0m 31ms/step\n",
      "\u001b[1m1/1\u001b[0m \u001b[32m━━━━━━━━━━━━━━━━━━━━\u001b[0m\u001b[37m\u001b[0m \u001b[1m0s\u001b[0m 20ms/step\n",
      "\u001b[1m1/1\u001b[0m \u001b[32m━━━━━━━━━━━━━━━━━━━━\u001b[0m\u001b[37m\u001b[0m \u001b[1m0s\u001b[0m 28ms/step\n",
      "\u001b[1m1/1\u001b[0m \u001b[32m━━━━━━━━━━━━━━━━━━━━\u001b[0m\u001b[37m\u001b[0m \u001b[1m0s\u001b[0m 30ms/step\n",
      "\u001b[1m1/1\u001b[0m \u001b[32m━━━━━━━━━━━━━━━━━━━━\u001b[0m\u001b[37m\u001b[0m \u001b[1m0s\u001b[0m 30ms/step\n",
      "\u001b[1m1/1\u001b[0m \u001b[32m━━━━━━━━━━━━━━━━━━━━\u001b[0m\u001b[37m\u001b[0m \u001b[1m0s\u001b[0m 24ms/step\n",
      "\u001b[1m1/1\u001b[0m \u001b[32m━━━━━━━━━━━━━━━━━━━━\u001b[0m\u001b[37m\u001b[0m \u001b[1m0s\u001b[0m 37ms/step\n",
      "\u001b[1m1/1\u001b[0m \u001b[32m━━━━━━━━━━━━━━━━━━━━\u001b[0m\u001b[37m\u001b[0m \u001b[1m0s\u001b[0m 38ms/step\n",
      "\u001b[1m1/1\u001b[0m \u001b[32m━━━━━━━━━━━━━━━━━━━━\u001b[0m\u001b[37m\u001b[0m \u001b[1m0s\u001b[0m 34ms/step\n",
      "\u001b[1m1/1\u001b[0m \u001b[32m━━━━━━━━━━━━━━━━━━━━\u001b[0m\u001b[37m\u001b[0m \u001b[1m0s\u001b[0m 27ms/step\n",
      "\u001b[1m1/1\u001b[0m \u001b[32m━━━━━━━━━━━━━━━━━━━━\u001b[0m\u001b[37m\u001b[0m \u001b[1m0s\u001b[0m 39ms/step\n",
      "\u001b[1m1/1\u001b[0m \u001b[32m━━━━━━━━━━━━━━━━━━━━\u001b[0m\u001b[37m\u001b[0m \u001b[1m0s\u001b[0m 28ms/step\n",
      "\u001b[1m1/1\u001b[0m \u001b[32m━━━━━━━━━━━━━━━━━━━━\u001b[0m\u001b[37m\u001b[0m \u001b[1m0s\u001b[0m 42ms/step\n",
      "\u001b[1m1/1\u001b[0m \u001b[32m━━━━━━━━━━━━━━━━━━━━\u001b[0m\u001b[37m\u001b[0m \u001b[1m0s\u001b[0m 48ms/step\n",
      "\u001b[1m1/1\u001b[0m \u001b[32m━━━━━━━━━━━━━━━━━━━━\u001b[0m\u001b[37m\u001b[0m \u001b[1m0s\u001b[0m 48ms/step\n",
      "\u001b[1m1/1\u001b[0m \u001b[32m━━━━━━━━━━━━━━━━━━━━\u001b[0m\u001b[37m\u001b[0m \u001b[1m0s\u001b[0m 47ms/step\n",
      "\u001b[1m1/1\u001b[0m \u001b[32m━━━━━━━━━━━━━━━━━━━━\u001b[0m\u001b[37m\u001b[0m \u001b[1m0s\u001b[0m 27ms/step\n",
      "\u001b[1m1/1\u001b[0m \u001b[32m━━━━━━━━━━━━━━━━━━━━\u001b[0m\u001b[37m\u001b[0m \u001b[1m0s\u001b[0m 24ms/step\n",
      "\u001b[1m1/1\u001b[0m \u001b[32m━━━━━━━━━━━━━━━━━━━━\u001b[0m\u001b[37m\u001b[0m \u001b[1m0s\u001b[0m 36ms/step\n",
      "\u001b[1m1/1\u001b[0m \u001b[32m━━━━━━━━━━━━━━━━━━━━\u001b[0m\u001b[37m\u001b[0m \u001b[1m0s\u001b[0m 54ms/step\n",
      "\u001b[1m1/1\u001b[0m \u001b[32m━━━━━━━━━━━━━━━━━━━━\u001b[0m\u001b[37m\u001b[0m \u001b[1m0s\u001b[0m 17ms/step\n",
      "\u001b[1m1/1\u001b[0m \u001b[32m━━━━━━━━━━━━━━━━━━━━\u001b[0m\u001b[37m\u001b[0m \u001b[1m0s\u001b[0m 17ms/step\n",
      "\u001b[1m1/1\u001b[0m \u001b[32m━━━━━━━━━━━━━━━━━━━━\u001b[0m\u001b[37m\u001b[0m \u001b[1m0s\u001b[0m 31ms/step\n"
>>>>>>> 757cc1cd0403d1336e16bf1c11653bd4c71efbc8
     ]
    }
   ],
   "source": [
    "# Test model on both error and correct sentences\n",
    "predictions_error = []\n",
    "predictions_correct = []\n",
    "\n",
    "# Preprocess and get predictions for error sentences\n",
    "for input_sentence in error_sentences:\n",
<<<<<<< HEAD
    "    # Apply padding and truncation based on the expected input length of the model\n",
    "    input_seq = pad_sequences(input_tokenizer.texts_to_sequences([input_sentence]), maxlen=5, padding='post', truncating='post')\n",
=======
    "    # Ensure max_input_length is consistent with the sentence length\n",
    "    max_input_length = max(max(len(input_sentence.split()) for sentence in error_sentences), 8)\n",
    "    # Apply padding and truncation based on the updated max_input_length\n",
    "    input_seq = pad_sequences(input_tokenizer.texts_to_sequences([input_sentence]), maxlen=max_input_length, padding='post', truncating='post')\n",
>>>>>>> 757cc1cd0403d1336e16bf1c11653bd4c71efbc8
    "    predicted_sentence = decode_sequence(input_seq)\n",
    "    predictions_error.append(predicted_sentence)\n",
    "\n",
    "# Preprocess and get predictions for correct sentences\n",
    "for input_sentence in correct_sentences:\n",
<<<<<<< HEAD
    "    input_seq = pad_sequences(input_tokenizer.texts_to_sequences([input_sentence]), maxlen=5, padding='post', truncating='post')\n",
=======
    "    input_seq = pad_sequences(input_tokenizer.texts_to_sequences([input_sentence]), maxlen=max_input_length, padding='post')\n",
>>>>>>> 757cc1cd0403d1336e16bf1c11653bd4c71efbc8
    "    predicted_sentence = decode_sequence(input_seq)\n",
    "    predictions_correct.append(predicted_sentence)"
   ]
  },
  {
   "cell_type": "code",
<<<<<<< HEAD
   "execution_count": 33,
=======
   "execution_count": 80,
>>>>>>> 757cc1cd0403d1336e16bf1c11653bd4c71efbc8
   "metadata": {},
   "outputs": [
    {
     "data": {
      "text/plain": [
<<<<<<< HEAD
       "['தினமும் தினமும் புதிய', 'நீங்கள் தினமும் புதிய']"
      ]
     },
     "execution_count": 33,
=======
       "['கடைக்கு கடைக்கு கடைக்கு கடைக்கு கடைக்கு கடைக்கு கடைக்கு ஆராய்ச்சி ஆராய்ச்சி ஆராய்ச்சி ஆராய்ச்சி',\n",
       " 'வந்து வந்து முயல்கிறான். முயல்கிறான். முயல்கிறான். நினைவுபடுத்துகிறீர்கள். நினைவுபடுத்துகிறீர்கள். நினைவுபடுத்துகிறீர்கள். நினைவுபடுத்துகிறீர்கள். ஆராய்ச்சி ஆராய்ச்சி']"
      ]
     },
     "execution_count": 80,
>>>>>>> 757cc1cd0403d1336e16bf1c11653bd4c71efbc8
     "metadata": {},
     "output_type": "execute_result"
    }
   ],
   "source": [
    "predictions_correct"
   ]
  },
  {
   "cell_type": "markdown",
   "metadata": {},
   "source": [
    "### Evaluating BLEU Scores"
   ]
  },
  {
   "cell_type": "code",
<<<<<<< HEAD
   "execution_count": 34,
=======
   "execution_count": 81,
>>>>>>> 757cc1cd0403d1336e16bf1c11653bd4c71efbc8
   "metadata": {},
   "outputs": [
    {
     "name": "stdout",
     "output_type": "stream",
     "text": [
      "BLEU Scores for Error Sentences:\n",
<<<<<<< HEAD
      "Sentence 1 BLEU Score: 0.2521\n",
      "Sentence 2 BLEU Score: 0.3619\n",
      "Average BLEU Score for Error Sentences: 0.3070\n",
      "\n",
      "BLEU Scores for Correct Sentences:\n",
      "Sentence 1 BLEU Score: 0.2422\n",
      "Sentence 2 BLEU Score: 0.3619\n",
      "Average BLEU Score for Correct Sentences: 0.3021\n"
=======
      "Sentence 1 BLEU Score: 0.0380\n",
      "Sentence 2 BLEU Score: 0.0713\n",
      "Average BLEU Score for Error Sentences: 0.0547\n",
      "\n",
      "BLEU Scores for Correct Sentences:\n",
      "Sentence 1 BLEU Score: 0.0396\n",
      "Sentence 2 BLEU Score: 0.0662\n",
      "Average BLEU Score for Correct Sentences: 0.0529\n"
>>>>>>> 757cc1cd0403d1336e16bf1c11653bd4c71efbc8
     ]
    }
   ],
   "source": [
    "from nltk.translate.bleu_score import sentence_bleu\n",
    "\n",
    "# Reference sentences for error sentences\n",
    "references_error = [\n",
    "    [\"நான் நேற்று பாடம் படித்தேன்.\"],  # Expected grammatical sentences\n",
    "    [\"அவள் பாடம் படித்தாள்.\"]\n",
    "]\n",
    "\n",
    "# Reference sentences for correct sentences\n",
<<<<<<< HEAD
    "\n",
=======
>>>>>>> 757cc1cd0403d1336e16bf1c11653bd4c71efbc8
    "references_correct = [\n",
    "    [\"நான் நேற்று பாடம் படித்தேன்.\"],\n",
    "    [\"அவள் பாடம் படித்தாள்.\"]\n",
    "]\n",
    "\n",
    "# Calculate BLEU scores for the error sentences\n",
    "bleu_scores_error = [sentence_bleu(ref, pred, weights=(0.5, 0.5)) for pred, ref in zip(predictions_error, references_error)]\n",
    "\n",
    "# Calculate BLEU scores for the correct sentences\n",
    "bleu_scores_correct = [sentence_bleu(ref, pred, weights=(0.5, 0.5)) for pred, ref in zip(predictions_correct, references_correct)]\n",
    "\n",
    "# Compute average BLEU score for both sets\n",
    "avg_bleu_score_error = sum(bleu_scores_error) / len(bleu_scores_error)\n",
    "avg_bleu_score_correct = sum(bleu_scores_correct) / len(bleu_scores_correct)\n",
    "\n",
    "# Display BLEU scores\n",
    "print(\"BLEU Scores for Error Sentences:\")\n",
    "for i, score in enumerate(bleu_scores_error):\n",
    "    print(f\"Sentence {i+1} BLEU Score: {score:.4f}\")\n",
    "print(f\"Average BLEU Score for Error Sentences: {avg_bleu_score_error:.4f}\")\n",
    "\n",
    "print(\"\\nBLEU Scores for Correct Sentences:\")\n",
    "for i, score in enumerate(bleu_scores_correct):\n",
    "    print(f\"Sentence {i+1} BLEU Score: {score:.4f}\")\n",
    "print(f\"Average BLEU Score for Correct Sentences: {avg_bleu_score_correct:.4f}\")"
   ]
  },
  {
   "cell_type": "code",
<<<<<<< HEAD
   "execution_count": 35,
=======
   "execution_count": 89,
>>>>>>> 757cc1cd0403d1336e16bf1c11653bd4c71efbc8
   "metadata": {},
   "outputs": [
    {
     "data": {
      "text/plain": [
<<<<<<< HEAD
       "[[2, 11, 12]]"
      ]
     },
     "execution_count": 35,
=======
       "[[5, 21, 13]]"
      ]
     },
     "execution_count": 89,
>>>>>>> 757cc1cd0403d1336e16bf1c11653bd4c71efbc8
     "metadata": {},
     "output_type": "execute_result"
    }
   ],
   "source": [
<<<<<<< HEAD
    "input_sentence = \"அவர்கள் விளையாட்டு விளையாடுகிறேன்\"\n",
=======
    "input_sentence = \"அவள் பாடல்கள் பாடுகிறான்.\"\n",
>>>>>>> 757cc1cd0403d1336e16bf1c11653bd4c71efbc8
    "input_sequence = input_tokenizer.texts_to_sequences([input_sentence])\n",
    "input_sequence"
   ]
  },
  {
   "cell_type": "code",
<<<<<<< HEAD
   "execution_count": 36,
=======
   "execution_count": 90,
>>>>>>> 757cc1cd0403d1336e16bf1c11653bd4c71efbc8
   "metadata": {},
   "outputs": [
    {
     "data": {
      "text/plain": [
<<<<<<< HEAD
       "array([[ 2, 11, 12,  0,  0,  0,  0,  0]])"
      ]
     },
     "execution_count": 36,
=======
       "array([[ 5, 21, 13,  0,  0,  0,  0,  0]])"
      ]
     },
     "execution_count": 90,
>>>>>>> 757cc1cd0403d1336e16bf1c11653bd4c71efbc8
     "metadata": {},
     "output_type": "execute_result"
    }
   ],
   "source": [
    "# Tokenizing the input paragraph\n",
    "input_seq = pad_sequences(input_sequence, maxlen=max_input_length, padding='post')\n",
    "input_seq"
   ]
  },
  {
   "cell_type": "code",
<<<<<<< HEAD
   "execution_count": 37,
=======
   "execution_count": 100,
>>>>>>> 757cc1cd0403d1336e16bf1c11653bd4c71efbc8
   "metadata": {},
   "outputs": [
    {
     "name": "stdout",
     "output_type": "stream",
     "text": [
<<<<<<< HEAD
      "\u001b[1m1/1\u001b[0m \u001b[32m━━━━━━━━━━━━━━━━━━━━\u001b[0m\u001b[37m\u001b[0m \u001b[1m0s\u001b[0m 54ms/step\n",
      "\u001b[1m1/1\u001b[0m \u001b[32m━━━━━━━━━━━━━━━━━━━━\u001b[0m\u001b[37m\u001b[0m \u001b[1m0s\u001b[0m 60ms/step\n",
      "\u001b[1m1/1\u001b[0m \u001b[32m━━━━━━━━━━━━━━━━━━━━\u001b[0m\u001b[37m\u001b[0m \u001b[1m0s\u001b[0m 36ms/step\n",
      "\u001b[1m1/1\u001b[0m \u001b[32m━━━━━━━━━━━━━━━━━━━━\u001b[0m\u001b[37m\u001b[0m \u001b[1m0s\u001b[0m 36ms/step\n",
      "\u001b[1m1/1\u001b[0m \u001b[32m━━━━━━━━━━━━━━━━━━━━\u001b[0m\u001b[37m\u001b[0m \u001b[1m0s\u001b[0m 34ms/step\n",
      "Input Paragraph (with errors):\n",
      "அவர்கள் விளையாட்டு விளையாடுகிறேன்\n",
      "\n",
      "Corrected Paragraph (Predicted by the model):\n",
      "அவர்கள் விளையாட்டு விளையாடுகிறார்கள்\n"
=======
      "\u001b[1m1/1\u001b[0m \u001b[32m━━━━━━━━━━━━━━━━━━━━\u001b[0m\u001b[37m\u001b[0m \u001b[1m0s\u001b[0m 34ms/step\n",
      "\u001b[1m1/1\u001b[0m \u001b[32m━━━━━━━━━━━━━━━━━━━━\u001b[0m\u001b[37m\u001b[0m \u001b[1m0s\u001b[0m 60ms/step\n",
      "\u001b[1m1/1\u001b[0m \u001b[32m━━━━━━━━━━━━━━━━━━━━\u001b[0m\u001b[37m\u001b[0m \u001b[1m0s\u001b[0m 30ms/step\n",
      "\u001b[1m1/1\u001b[0m \u001b[32m━━━━━━━━━━━━━━━━━━━━\u001b[0m\u001b[37m\u001b[0m \u001b[1m0s\u001b[0m 39ms/step\n",
      "\u001b[1m1/1\u001b[0m \u001b[32m━━━━━━━━━━━━━━━━━━━━\u001b[0m\u001b[37m\u001b[0m \u001b[1m0s\u001b[0m 23ms/step\n",
      "\u001b[1m1/1\u001b[0m \u001b[32m━━━━━━━━━━━━━━━━━━━━\u001b[0m\u001b[37m\u001b[0m \u001b[1m0s\u001b[0m 40ms/step\n",
      "\u001b[1m1/1\u001b[0m \u001b[32m━━━━━━━━━━━━━━━━━━━━\u001b[0m\u001b[37m\u001b[0m \u001b[1m0s\u001b[0m 20ms/step\n",
      "\u001b[1m1/1\u001b[0m \u001b[32m━━━━━━━━━━━━━━━━━━━━\u001b[0m\u001b[37m\u001b[0m \u001b[1m0s\u001b[0m 37ms/step\n",
      "\u001b[1m1/1\u001b[0m \u001b[32m━━━━━━━━━━━━━━━━━━━━\u001b[0m\u001b[37m\u001b[0m \u001b[1m0s\u001b[0m 28ms/step\n",
      "\u001b[1m1/1\u001b[0m \u001b[32m━━━━━━━━━━━━━━━━━━━━\u001b[0m\u001b[37m\u001b[0m \u001b[1m0s\u001b[0m 26ms/step\n",
      "\u001b[1m1/1\u001b[0m \u001b[32m━━━━━━━━━━━━━━━━━━━━\u001b[0m\u001b[37m\u001b[0m \u001b[1m0s\u001b[0m 15ms/step\n",
      "\u001b[1m1/1\u001b[0m \u001b[32m━━━━━━━━━━━━━━━━━━━━\u001b[0m\u001b[37m\u001b[0m \u001b[1m0s\u001b[0m 31ms/step\n",
      "\u001b[1m1/1\u001b[0m \u001b[32m━━━━━━━━━━━━━━━━━━━━\u001b[0m\u001b[37m\u001b[0m \u001b[1m0s\u001b[0m 26ms/step\n",
      "Input Paragraph (with errors):\n",
      "அவள் பாடல்கள் பாடுகிறான்.\n",
      "\n",
      "Corrected Paragraph (Predicted by the model):\n",
      "ஆராய்ச்சி ஆராய்ச்சி ஆராய்ச்சி ஆராய்ச்சி ஆராய்ச்சி ஆராய்ச்சி மணலை மணலை மணலை மணலை மணலை\n"
>>>>>>> 757cc1cd0403d1336e16bf1c11653bd4c71efbc8
     ]
    }
   ],
   "source": [
    "# Get the prediction\n",
    "corrected_paragraph = decode_sequence(input_seq)\n",
    "\n",
    "# Step 5: Display the results\n",
    "print(\"Input Paragraph (with errors):\")\n",
    "print(input_sentence)\n",
    "\n",
    "print(\"\\nCorrected Paragraph (Predicted by the model):\")\n",
    "print(corrected_paragraph)\n"
   ]
  },
  {
   "cell_type": "code",
<<<<<<< HEAD
   "execution_count": 40,
   "metadata": {},
   "outputs": [
    {
     "name": "stdout",
     "output_type": "stream",
     "text": [
      "\u001b[1m1/1\u001b[0m \u001b[32m━━━━━━━━━━━━━━━━━━━━\u001b[0m\u001b[37m\u001b[0m \u001b[1m0s\u001b[0m 121ms/step\n",
      "\u001b[1m1/1\u001b[0m \u001b[32m━━━━━━━━━━━━━━━━━━━━\u001b[0m\u001b[37m\u001b[0m \u001b[1m0s\u001b[0m 66ms/step\n",
      "\u001b[1m1/1\u001b[0m \u001b[32m━━━━━━━━━━━━━━━━━━━━\u001b[0m\u001b[37m\u001b[0m \u001b[1m0s\u001b[0m 45ms/step\n",
      "\u001b[1m1/1\u001b[0m \u001b[32m━━━━━━━━━━━━━━━━━━━━\u001b[0m\u001b[37m\u001b[0m \u001b[1m0s\u001b[0m 33ms/step\n",
      "\u001b[1m1/1\u001b[0m \u001b[32m━━━━━━━━━━━━━━━━━━━━\u001b[0m\u001b[37m\u001b[0m \u001b[1m0s\u001b[0m 33ms/step\n",
      "\u001b[1m1/1\u001b[0m \u001b[32m━━━━━━━━━━━━━━━━━━━━\u001b[0m\u001b[37m\u001b[0m \u001b[1m0s\u001b[0m 46ms/step\n",
      "\u001b[1m1/1\u001b[0m \u001b[32m━━━━━━━━━━━━━━━━━━━━\u001b[0m\u001b[37m\u001b[0m \u001b[1m0s\u001b[0m 49ms/step\n",
      "\u001b[1m1/1\u001b[0m \u001b[32m━━━━━━━━━━━━━━━━━━━━\u001b[0m\u001b[37m\u001b[0m \u001b[1m0s\u001b[0m 44ms/step\n",
      "\u001b[1m1/1\u001b[0m \u001b[32m━━━━━━━━━━━━━━━━━━━━\u001b[0m\u001b[37m\u001b[0m \u001b[1m0s\u001b[0m 40ms/step\n",
      "\u001b[1m1/1\u001b[0m \u001b[32m━━━━━━━━━━━━━━━━━━━━\u001b[0m\u001b[37m\u001b[0m \u001b[1m0s\u001b[0m 42ms/step\n",
      "\u001b[1m1/1\u001b[0m \u001b[32m━━━━━━━━━━━━━━━━━━━━\u001b[0m\u001b[37m\u001b[0m \u001b[1m0s\u001b[0m 46ms/step\n",
      "\u001b[1m1/1\u001b[0m \u001b[32m━━━━━━━━━━━━━━━━━━━━\u001b[0m\u001b[37m\u001b[0m \u001b[1m0s\u001b[0m 33ms/step\n",
      "\u001b[1m1/1\u001b[0m \u001b[32m━━━━━━━━━━━━━━━━━━━━\u001b[0m\u001b[37m\u001b[0m \u001b[1m0s\u001b[0m 35ms/step\n",
      "\u001b[1m1/1\u001b[0m \u001b[32m━━━━━━━━━━━━━━━━━━━━\u001b[0m\u001b[37m\u001b[0m \u001b[1m0s\u001b[0m 52ms/step\n",
      "\u001b[1m1/1\u001b[0m \u001b[32m━━━━━━━━━━━━━━━━━━━━\u001b[0m\u001b[37m\u001b[0m \u001b[1m0s\u001b[0m 33ms/step\n",
      "Input Paragraph (Ungrammatical):\n",
      "\n",
      "அவர்கள் விளையாட்டு விளையாடுகிறேன் \n",
      "நான் பாடல்களை படிக்கிறார்கள்.\n",
      "நாங்கள் உணவு சாப்பிடுகிறான்.\n",
      "\n",
      "\n",
      "Corrected Paragraph (Grammatical):\n",
      "அவர்கள் விளையாட்டு விளையாடுகிறார்கள். நான் பாடல்களை படிக்கிறேன். நாங்கள் உணவு சாப்பிடுகிறோம்\n"
     ]
    }
   ],
   "source": [
    "# Define the ungrammatical input paragraph\n",
    "input_paragraph = \"\"\"\n",
    "அவர்கள் விளையாட்டு விளையாடுகிறேன் \n",
    "நான் பாடல்களை படிக்கிறார்கள்.\n",
    "நாங்கள் உணவு சாப்பிடுகிறான்.\n",
    "\"\"\"\n",
    "\n",
    "input_sentences = input_paragraph.strip().split(\"\\n\")\n",
    "\n",
    "corrected_sentences = []\n",
    "\n",
    "# Process each sentence in the paragraph\n",
    "for input_sentence in input_sentences:\n",
    "    input_seq = pad_sequences(\n",
    "        input_tokenizer.texts_to_sequences([input_sentence]), \n",
    "        maxlen=max_input_length, \n",
    "        padding='post'\n",
    "    )\n",
    "\n",
    "    predicted_sentence = decode_sequence(input_seq)\n",
    "    corrected_sentences.append(predicted_sentence)\n",
    "\n",
    "corrected_paragraph = \". \".join(corrected_sentences)\n",
    "\n",
    "# Output the results\n",
    "print(\"Input Paragraph (Ungrammatical):\")\n",
    "print(input_paragraph)\n",
    "print(\"\\nCorrected Paragraph (Grammatical):\")\n",
    "print(corrected_paragraph)\n"
=======
   "execution_count": 87,
   "metadata": {},
   "outputs": [
    {
     "data": {
      "text/plain": [
       "(1, 8)"
      ]
     },
     "execution_count": 87,
     "metadata": {},
     "output_type": "execute_result"
    }
   ],
   "source": [
    "input_seq.shape"
>>>>>>> 757cc1cd0403d1336e16bf1c11653bd4c71efbc8
   ]
  }
 ],
 "metadata": {
  "kernelspec": {
   "display_name": "base",
   "language": "python",
   "name": "python3"
  },
  "language_info": {
   "codemirror_mode": {
    "name": "ipython",
    "version": 3
   },
   "file_extension": ".py",
   "mimetype": "text/x-python",
   "name": "python",
   "nbconvert_exporter": "python",
   "pygments_lexer": "ipython3",
   "version": "3.11.7"
  }
 },
 "nbformat": 4,
 "nbformat_minor": 2
}
