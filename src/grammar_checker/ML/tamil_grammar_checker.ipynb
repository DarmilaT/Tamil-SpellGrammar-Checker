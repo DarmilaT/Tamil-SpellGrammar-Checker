{
 "cells": [
  {
   "cell_type": "markdown",
   "metadata": {},
   "source": [
    "        Step 1: Import Libraries"
   ]
  },
  {
   "cell_type": "code",
   "execution_count": 1,
   "metadata": {},
   "outputs": [],
   "source": [
    "import pandas as pd\n",
    "from sklearn.feature_extraction.text import TfidfVectorizer\n",
    "from sklearn.model_selection import train_test_split\n",
    "from sklearn.ensemble import RandomForestClassifier\n",
    "from sklearn.metrics import classification_report, confusion_matrix\n",
    "import joblib\n"
   ]
  },
  {
   "cell_type": "markdown",
   "metadata": {},
   "source": [
    "        Step 2: Load and Preprocess Data"
   ]
  },
  {
   "cell_type": "code",
   "execution_count": 3,
   "metadata": {},
   "outputs": [
    {
     "name": "stdout",
     "output_type": "stream",
     "text": [
      "                       Error Sentence              Error Type  \\\n",
      "0           அவள் பாடல்கள் பாடுகிறான்.  Subject-Verb Agreement   \n",
      "1           நாங்கள் நேரம் பழகுகிறேன்.  Subject-Verb Agreement   \n",
      "2     அவன் புத்தகத்தை படிக்கிறார்கள்.  Subject-Verb Agreement   \n",
      "3  அவர்கள் விளையாட்டு விளையாடுகிறேன்.  Subject-Verb Agreement   \n",
      "4   நான் வீட்டில் வேலை செய்கிறார்கள்.  Subject-Verb Agreement   \n",
      "\n",
      "                      Corrected Sentence  \n",
      "0              அவள் பாடல்கள் பாடுகிறாள்.  \n",
      "1              நாங்கள் நேரம் பழகுகிறோம்.  \n",
      "2           அவன் புத்தகத்தை படிக்கிறான்.  \n",
      "3  அவர்கள் விளையாட்டு விளையாடுகிறார்கள்.  \n",
      "4         நான் வீட்டில் வேலை செய்கிறேன்.  \n"
     ]
    }
   ],
   "source": [
    "# Load dataset\n",
    "dataset_path = r\"H:\\Semester 7\\EC9640_Artificial Intelligence\\AI Project\\Tamil-SpellGrammar-Checker\\data\\grammar_checker_dataset\\final_dataset.csv\"\n",
    "df = pd.read_csv(dataset_path)\n",
    "\n",
    "# Display the first few rows\n",
    "print(df.head())\n",
    "\n"
   ]
  },
  {
   "cell_type": "code",
   "execution_count": 5,
   "metadata": {},
   "outputs": [
    {
     "name": "stdout",
     "output_type": "stream",
     "text": [
      "Index(['Error Sentence', 'Error Type', 'Corrected Sentence'], dtype='object')\n"
     ]
    }
   ],
   "source": [
    "print(df.columns)\n"
   ]
  },
  {
   "cell_type": "code",
   "execution_count": 6,
   "metadata": {},
   "outputs": [],
   "source": [
    "# Features and Labels\n",
    "X = df[\"Error Sentence\"]  # input sentences\n",
    "y = df[\"Error Type\"]  # Error types\n",
    "\n",
    "# Encode labels to numeric values\n",
    "y_encoded = pd.factorize(y)[0]\n"
   ]
  },
  {
   "cell_type": "code",
   "execution_count": 7,
   "metadata": {},
   "outputs": [
    {
     "name": "stdout",
     "output_type": "stream",
     "text": [
      "Training Samples: 699, Validation Samples: 150, Test Samples: 150\n"
     ]
    }
   ],
   "source": [
    "# Train-Validation-Test Split\n",
    "X_train, X_temp, y_train, y_temp = train_test_split(X, y_encoded, test_size=0.3, random_state=42)\n",
    "X_val, X_test, y_val, y_test = train_test_split(X_temp, y_temp, test_size=0.5, random_state=42)\n",
    "\n",
    "print(f\"Training Samples: {len(X_train)}, Validation Samples: {len(X_val)}, Test Samples: {len(X_test)}\")\n"
   ]
  },
  {
   "cell_type": "markdown",
   "metadata": {},
   "source": [
    "        Step 3: Convert Sentences to Features"
   ]
  },
  {
   "cell_type": "code",
   "execution_count": 8,
   "metadata": {},
   "outputs": [
    {
     "name": "stdout",
     "output_type": "stream",
     "text": [
      "TF-IDF Vectorized Shape: (699, 1288)\n"
     ]
    }
   ],
   "source": [
    "# TF-IDF Vectorization\n",
    "vectorizer = TfidfVectorizer(analyzer=\"word\", token_pattern=r'\\S+', ngram_range=(1, 2))\n",
    "\n",
    "# Transform Sentences\n",
    "X_train_vec = vectorizer.fit_transform(X_train)\n",
    "X_val_vec = vectorizer.transform(X_val)\n",
    "X_test_vec = vectorizer.transform(X_test)\n",
    "\n",
    "print(f\"TF-IDF Vectorized Shape: {X_train_vec.shape}\")\n"
   ]
  },
  {
   "cell_type": "markdown",
   "metadata": {},
   "source": [
    "        Step 4: Train the Model"
   ]
  },
  {
   "cell_type": "code",
   "execution_count": 9,
   "metadata": {},
   "outputs": [
    {
     "name": "stdout",
     "output_type": "stream",
     "text": [
      "Model training complete.\n"
     ]
    }
   ],
   "source": [
    "# Train Random Forest Model\n",
    "model = RandomForestClassifier(n_estimators=100, random_state=42)\n",
    "model.fit(X_train_vec, y_train)\n",
    "\n",
    "print(\"Model training complete.\")\n"
   ]
  },
  {
   "cell_type": "code",
   "execution_count": 10,
   "metadata": {},
   "outputs": [
    {
     "name": "stdout",
     "output_type": "stream",
     "text": [
      "Model and vectorizer saved successfully!\n"
     ]
    }
   ],
   "source": [
    "import os\n",
    "\n",
    "# Ensure the directory exists\n",
    "save_dir = r\"H:\\Semester 7\\EC9640_Artificial Intelligence\\AI Project\\Tamil-SpellGrammar-Checker\\saved_models\"\n",
    "os.makedirs(save_dir, exist_ok=True)\n",
    "\n",
    "# Save the model and vectorizer\n",
    "joblib.dump(model, os.path.join(save_dir, \"tamil_grammar_model.pkl\"))\n",
    "joblib.dump(vectorizer, os.path.join(save_dir, \"tamil_vectorizer.pkl\"))\n",
    "\n",
    "print(\"Model and vectorizer saved successfully!\")\n"
   ]
  },
  {
   "cell_type": "markdown",
   "metadata": {},
   "source": [
    "        Step 5: Validate the Model"
   ]
  },
  {
   "cell_type": "code",
   "execution_count": 11,
   "metadata": {},
   "outputs": [
    {
     "name": "stdout",
     "output_type": "stream",
     "text": [
      "Validation Performance:\n",
      "              precision    recall  f1-score   support\n",
      "\n",
      "           0       0.99      1.00      0.99        72\n",
      "           1       0.92      0.73      0.81        15\n",
      "           3       0.94      0.97      0.95        63\n",
      "\n",
      "    accuracy                           0.96       150\n",
      "   macro avg       0.95      0.90      0.92       150\n",
      "weighted avg       0.96      0.96      0.96       150\n",
      "\n"
     ]
    }
   ],
   "source": [
    "# Validation Set Evaluation\n",
    "y_val_pred = model.predict(X_val_vec)\n",
    "print(\"Validation Performance:\")\n",
    "print(classification_report(y_val, y_val_pred))\n"
   ]
  },
  {
   "cell_type": "code",
   "execution_count": 12,
   "metadata": {},
   "outputs": [
    {
     "data": {
      "text/plain": [
       "<sklearn.metrics._plot.confusion_matrix.ConfusionMatrixDisplay at 0x16afcf7ce00>"
      ]
     },
     "execution_count": 12,
     "metadata": {},
     "output_type": "execute_result"
    },
    {
     "data": {
      "image/png": "[encoded data removed]",
      "text/plain": [
       "<Figure size 640x480 with 2 Axes>"
      ]
     },
     "metadata": {},
     "output_type": "display_data"
    }
   ],
   "source": [
    "from sklearn.metrics import ConfusionMatrixDisplay\n",
    "\n",
    "ConfusionMatrixDisplay.from_estimator(model, X_val_vec, y_val)\n"
   ]
  },
  {
   "cell_type": "markdown",
   "metadata": {},
   "source": [
    "        Step 6: Test the Model"
   ]
  },
  {
   "cell_type": "code",
   "execution_count": 13,
   "metadata": {},
   "outputs": [
    {
     "name": "stdout",
     "output_type": "stream",
     "text": [
      "Test Performance:\n",
      "              precision    recall  f1-score   support\n",
      "\n",
      "           0       0.99      1.00      0.99        84\n",
      "           1       0.72      0.72      0.72        18\n",
      "           2       0.00      0.00      0.00         1\n",
      "           3       0.89      0.89      0.89        47\n",
      "\n",
      "    accuracy                           0.93       150\n",
      "   macro avg       0.65      0.65      0.65       150\n",
      "weighted avg       0.92      0.93      0.92       150\n",
      "\n"
     ]
    },
    {
     "name": "stderr",
     "output_type": "stream",
     "text": [
      "c:\\Users\\DELL\\anaconda3\\Lib\\site-packages\\sklearn\\metrics\\_classification.py:1531: UndefinedMetricWarning: Precision is ill-defined and being set to 0.0 in labels with no predicted samples. Use `zero_division` parameter to control this behavior.\n",
      "  _warn_prf(average, modifier, f\"{metric.capitalize()} is\", len(result))\n",
      "c:\\Users\\DELL\\anaconda3\\Lib\\site-packages\\sklearn\\metrics\\_classification.py:1531: UndefinedMetricWarning: Precision is ill-defined and being set to 0.0 in labels with no predicted samples. Use `zero_division` parameter to control this behavior.\n",
      "  _warn_prf(average, modifier, f\"{metric.capitalize()} is\", len(result))\n",
      "c:\\Users\\DELL\\anaconda3\\Lib\\site-packages\\sklearn\\metrics\\_classification.py:1531: UndefinedMetricWarning: Precision is ill-defined and being set to 0.0 in labels with no predicted samples. Use `zero_division` parameter to control this behavior.\n",
      "  _warn_prf(average, modifier, f\"{metric.capitalize()} is\", len(result))\n"
     ]
    },
    {
     "data": {
      "text/plain": [
       "<sklearn.metrics._plot.confusion_matrix.ConfusionMatrixDisplay at 0x16afdff0950>"
      ]
     },
     "execution_count": 13,
     "metadata": {},
     "output_type": "execute_result"
    },
    {
     "data": {
      "image/png": "[encoded data removed]",
      "text/plain": [
       "<Figure size 640x480 with 2 Axes>"
      ]
     },
     "metadata": {},
     "output_type": "display_data"
    }
   ],
   "source": [
    "# Test Set Evaluation\n",
    "y_test_pred = model.predict(X_test_vec)\n",
    "print(\"Test Performance:\")\n",
    "print(classification_report(y_test, y_test_pred))\n",
    "\n",
    "# Confusion Matrix for Test Set\n",
    "ConfusionMatrixDisplay.from_estimator(model, X_test_vec, y_test)\n"
   ]
  },
  {
   "cell_type": "markdown",
   "metadata": {},
   "source": [
    "        Step 7: Predict on New Sentences"
   ]
  },
  {
   "cell_type": "code",
   "execution_count": 15,
   "metadata": {},
   "outputs": [
    {
     "name": "stdout",
     "output_type": "stream",
     "text": [
      "Sentence: அவர்கள் விளையாட்டு விளையாடுகிறேன் | Predicted Error Type: Subject-Verb Agreement\n"
     ]
    }
   ],
   "source": [
    "# Load the trained model and vectorizer\n",
    "model = joblib.load(r\"H:\\Semester 7\\EC9640_Artificial Intelligence\\AI Project\\Tamil-SpellGrammar-Checker\\saved_models\\tamil_grammar_model.pkl\")\n",
    "vectorizer = joblib.load(r\"H:\\Semester 7\\EC9640_Artificial Intelligence\\AI Project\\Tamil-SpellGrammar-Checker\\saved_models\\tamil_vectorizer.pkl\")\n",
    "\n",
    "# Predict on new sentences\n",
    "new_sentences = [\"அவர்கள் விளையாட்டு விளையாடுகிறேன்\"]\n",
    "new_sentences_vec = vectorizer.transform(new_sentences)\n",
    "predictions = model.predict(new_sentences_vec)\n",
    "\n",
    "# Decode predictions\n",
    "decoded_predictions = [pd.factorize(df[\"Error Type\"])[1][p] for p in predictions]\n",
    "for sentence, prediction in zip(new_sentences, decoded_predictions):\n",
    "    print(f\"Sentence: {sentence} | Predicted Error Type: {prediction}\")\n"
   ]
  },
  {
   "cell_type": "markdown",
   "metadata": {},
   "source": [
    "        Step 8: Accuracy on 5 Paragraphs"
   ]
  },
  {
   "cell_type": "code",
   "execution_count": 18,
   "metadata": {},
   "outputs": [],
   "source": [
    "paragraphs = [\n",
    "    \"நான் தினமும் இணையத்தில் ஆராய்ச்சி செய்தேன். நீ தினமும் காரில் பயணம் செய்தாய்.\",\n",
    "    \"அவள் தினமும் பள்ளியில் பாடம் நடத்தினாள். நாங்கள் மழையிலும் விளையாடுகிறோம்.\",\n",
    "    \"அவன் புத்தகத்தை படிக்கிறார்கள். அவன் பள்ளியில் எழுதுகிறான்.\",\n",
    "    \"நாங்கள் உணவு சாப்பிடுகிறான். அவர்கள் நகரத்தில் பாடுகிறார்கள்.\",\n",
    "    \"நான் வீட்டில் வேலை செய்கிறார்கள். அவன் தினமும் ஓய்வு நேரத்தில் வாசிக்கிறான்.\"\n",
    "]\n"
   ]
  },
  {
   "cell_type": "code",
   "execution_count": 21,
   "metadata": {},
   "outputs": [
    {
     "name": "stdout",
     "output_type": "stream",
     "text": [
      "Paragraph 1: நான் தினமும் இணையத்தில் ஆராய்ச்சி செய்தேன். நீ தினமும் காரில் பயணம் செய்தாய்.\n",
      "  Sentence 1: நான் தினமும் இணையத்தில் ஆராய்ச்சி செய்தேன்\n",
      "    Predicted Error Type: 1\n",
      "    Expected Error Type: Habitual Error\n",
      "    Suggested Correction: நான் தினமும் இணையத்தில் ஆராய்ச்சி செய்வேன்.\n",
      "    Match: ❌\n",
      "  Sentence 2: நீ தினமும் காரில் பயணம் செய்தாய்.\n",
      "    Predicted Error Type: 1\n",
      "    Expected Error Type: Habitual Error\n",
      "    Suggested Correction: நீ தினமும் காரில் பயணம் செய்வாய்.\n",
      "    Match: ❌\n",
      "Paragraph 1 Accuracy: 0.00\n",
      "--------------------------------------------------\n",
      "Paragraph 2: அவள் தினமும் பள்ளியில் பாடம் நடத்தினாள். நாங்கள் மழையிலும் விளையாடுகிறோம்.\n",
      "  Sentence 1: அவள் தினமும் பள்ளியில் பாடம் நடத்தினாள்\n",
      "    Predicted Error Type: 1\n",
      "    Expected Error Type: Habitual Error\n",
      "    Suggested Correction: அவள் தினமும் பள்ளியில் பாடம் நடத்துவாள்.\n",
      "    Match: ❌\n",
      "  Sentence 2: நாங்கள் மழையிலும் விளையாடுகிறோம்.\n",
      "    Predicted Error Type: 3\n",
      "    Expected Error Type: No Error\n",
      "    Suggested Correction: நாங்கள் மழையிலும் விளையாடுகிறோம்.\n",
      "    Match: ❌\n",
      "Paragraph 2 Accuracy: 0.00\n",
      "--------------------------------------------------\n",
      "Paragraph 3: அவன் புத்தகத்தை படிக்கிறார்கள். அவன் பள்ளியில் எழுதுகிறான்.\n",
      "  Sentence 1: அவன் புத்தகத்தை படிக்கிறார்கள்\n",
      "    Predicted Error Type: 0\n",
      "    Expected Error Type: Subject-Verb Agreement\n",
      "    Suggested Correction: அவன் புத்தகத்தை படிக்கிறான்.\n",
      "    Match: ❌\n",
      "  Sentence 2: அவன் பள்ளியில் எழுதுகிறான்.\n",
      "    Predicted Error Type: 3\n",
      "    Expected Error Type: No Error\n",
      "    Suggested Correction: அவன் பள்ளியில் எழுதுகிறான்.\n",
      "    Match: ❌\n",
      "Paragraph 3 Accuracy: 0.00\n",
      "--------------------------------------------------\n",
      "Paragraph 4: நாங்கள் உணவு சாப்பிடுகிறான். அவர்கள் நகரத்தில் பாடுகிறார்கள்.\n",
      "  Sentence 1: நாங்கள் உணவு சாப்பிடுகிறான்\n",
      "    Predicted Error Type: 0\n",
      "    Expected Error Type: Subject-Verb Agreement\n",
      "    Suggested Correction: நாங்கள் நேரம் பழகுகிறோம்.\n",
      "    Match: ❌\n",
      "  Sentence 2: அவர்கள் நகரத்தில் பாடுகிறார்கள்.\n",
      "    Predicted Error Type: 3\n",
      "    Expected Error Type: No Error\n",
      "    Suggested Correction: அவர்கள் விளையாட்டு விளையாடுகிறார்கள்.\n",
      "    Match: ❌\n",
      "Paragraph 4 Accuracy: 0.00\n",
      "--------------------------------------------------\n",
      "Paragraph 5: நான் வீட்டில் வேலை செய்கிறார்கள். அவன் தினமும் ஓய்வு நேரத்தில் வாசிக்கிறான்.\n",
      "  Sentence 1: நான் வீட்டில் வேலை செய்கிறார்கள்\n",
      "    Predicted Error Type: 0\n",
      "    Expected Error Type: No Error\n",
      "    Suggested Correction: அவன் தினமும் ஓய்வு நேரத்தில் வாசிக்கிறான்.\n",
      "    Match: ❌\n",
      "  Sentence 2: அவன் தினமும் ஓய்வு நேரத்தில் வாசிக்கிறான்.\n",
      "    Predicted Error Type: 3\n",
      "    Expected Error Type: Subject-Verb Agreement\n",
      "    Suggested Correction: நான் வீட்டில் வேலை செய்கிறேன்.\n",
      "    Match: ❌\n",
      "Paragraph 5 Accuracy: 0.00\n",
      "--------------------------------------------------\n",
      "Overall Error Detection Accuracy: 0.00\n"
     ]
    }
   ],
   "source": [
    "# Expected results for comparison\n",
    "expected_results = [\n",
    "    {\"errors\": [\"Habitual Error\", \"Habitual Error\"], \"corrections\": [\"நான் தினமும் இணையத்தில் ஆராய்ச்சி செய்வேன்.\", \"நீ தினமும் காரில் பயணம் செய்வாய்.\"]},\n",
    "    {\"errors\": [\"Habitual Error\", \"No Error\"], \"corrections\": [\"அவள் தினமும் பள்ளியில் பாடம் நடத்துவாள்.\", \"நாங்கள் மழையிலும் விளையாடுகிறோம்.\"]},\n",
    "    {\"errors\": [\"Subject-Verb Agreement\", \"No Error\"], \"corrections\": [\"அவன் புத்தகத்தை படிக்கிறான்.\", \"அவன் பள்ளியில் எழுதுகிறான்.\"]},\n",
    "    {\"errors\": [\"Subject-Verb Agreement\", \"No Error\"], \"corrections\": [\"நாங்கள் நேரம் பழகுகிறோம்.\", \"அவர்கள் விளையாட்டு விளையாடுகிறார்கள்.\"]},\n",
    "    {\"errors\": [\"No Error\", \"Subject-Verb Agreement\"], \"corrections\": [\"அவன் தினமும் ஓய்வு நேரத்தில் வாசிக்கிறான்.\", \"நான் வீட்டில் வேலை செய்கிறேன்.\"]}\n",
    "]\n",
    "\n",
    "# Initialize counters\n",
    "total_sentences = 0\n",
    "total_correct = 0\n",
    "\n",
    "# Process each paragraph\n",
    "for i, paragraph in enumerate(paragraphs):\n",
    "    sentences = paragraph.split(\". \")  # Split into sentences\n",
    "    sentence_vecs = vectorizer.transform(sentences)  # Vectorize sentences\n",
    "    predictions = model.predict(sentence_vecs)  # Predict error types\n",
    "    \n",
    "    paragraph_correct = 0\n",
    "    paragraph_total = len(sentences)\n",
    "    \n",
    "    print(f\"Paragraph {i + 1}: {paragraph}\")\n",
    "    for j, sentence in enumerate(sentences):\n",
    "        predicted_error = predictions[j]\n",
    "        expected_error = expected_results[i][\"errors\"][j]\n",
    "        correction = expected_results[i][\"corrections\"][j]\n",
    "        \n",
    "        # Compare prediction with expected result\n",
    "        if predicted_error == expected_error:\n",
    "            paragraph_correct += 1\n",
    "        \n",
    "        print(f\"  Sentence {j + 1}: {sentence}\")\n",
    "        print(f\"    Predicted Error Type: {predicted_error}\")\n",
    "        print(f\"    Expected Error Type: {expected_error}\")\n",
    "        print(f\"    Suggested Correction: {correction}\")\n",
    "        print(f\"    Match: {'✅' if predicted_error == expected_error else '❌'}\")\n",
    "    \n",
    "    # Calculate paragraph accuracy\n",
    "    paragraph_accuracy = paragraph_correct / paragraph_total\n",
    "    total_sentences += paragraph_total\n",
    "    total_correct += paragraph_correct\n",
    "    \n",
    "    print(f\"Paragraph {i + 1} Accuracy: {paragraph_accuracy:.2f}\")\n",
    "    print(\"-\" * 50)\n",
    "\n",
    "# Calculate overall accuracy\n",
    "overall_accuracy = total_correct / total_sentences\n",
    "print(f\"Overall Error Detection Accuracy: {overall_accuracy:.2f}\")"
   ]
  },
  {
   "cell_type": "code",
   "execution_count": 22,
   "metadata": {},
   "outputs": [
    {
     "name": "stdout",
     "output_type": "stream",
     "text": [
      "Raw Predictions: [0 3]\n"
     ]
    }
   ],
   "source": [
    "predictions = model.predict(sentence_vecs)\n",
    "print(f\"Raw Predictions: {predictions}\")\n"
   ]
  },
  {
   "cell_type": "code",
   "execution_count": 24,
   "metadata": {},
   "outputs": [],
   "source": [
    "error_mapping = {\n",
    "    0: \"No Error\",\n",
    "    1: \"Habitual Error\",\n",
    "    2: \"Subject-Verb Agreement\",\n",
    "    3: \"Tense Error\"  # Add the missing key\n",
    "}\n",
    "\n",
    "# Apply the mapping\n",
    "try:\n",
    "    predictions = [error_mapping[pred] for pred in predictions]\n",
    "except KeyError as e:\n",
    "    print(f\"Unexpected prediction value: {e}\")\n",
    "    predictions = [\"Unknown Error\" for pred in predictions]  # Handle unmapped values gracefully\n"
   ]
  },
  {
   "cell_type": "code",
   "execution_count": 25,
   "metadata": {},
   "outputs": [
    {
     "name": "stdout",
     "output_type": "stream",
     "text": [
      "Unique Prediction Values: {'No Error', 'Tense Error'}\n"
     ]
    }
   ],
   "source": [
    "print(f\"Unique Prediction Values: {set(predictions)}\")\n"
   ]
  },
  {
   "cell_type": "code",
   "execution_count": null,
   "metadata": {},
   "outputs": [],
   "source": []
  },
  {
   "cell_type": "code",
   "execution_count": 20,
   "metadata": {},
   "outputs": [
    {
     "name": "stdout",
     "output_type": "stream",
     "text": [
      "Debugging Log:\n",
      "\n",
      "\n",
      "Paragraph 1: நான் தினமும் இணையத்தில் ஆராய்ச்சி செய்தேன். நீ தினமும் காரில் பயணம் செய்தாய்.\n",
      "  Sentence 1: நான் தினமும் இணையத்தில் ஆராய்ச்சி செய்தேன்\n",
      "    Predicted Error Type: 1\n",
      "    Expected Error Type: Subject-Verb Agreement\n",
      "    Suggested Correction: நான் தினமும் இணையத்தில் ஆராய்ச்சி செய்வேன்.\n",
      "    Match: ❌\n",
      "  Sentence 2: நீ தினமும் காரில் பயணம் செய்தாய்.\n",
      "    Predicted Error Type: 1\n",
      "    Expected Error Type: Habitual Error\n",
      "    Suggested Correction: நீ தினமும் காரில் பயணம் செய்வாய்.\n",
      "    Match: ❌\n",
      "--------------------------------------------------\n",
      "\n",
      "Paragraph 2: அவள் தினமும் பள்ளியில் பாடம் நடத்தினாள். நாங்கள் மழையிலும் விளையாடுகிறோம்.\n",
      "  Sentence 1: அவள் தினமும் பள்ளியில் பாடம் நடத்தினாள்\n",
      "    Predicted Error Type: 1\n",
      "    Expected Error Type: Habitual Error\n",
      "    Suggested Correction: அவள் தினமும் பள்ளியில் பாடம் நடத்துவாள்.\n",
      "    Match: ❌\n",
      "  Sentence 2: நாங்கள் மழையிலும் விளையாடுகிறோம்.\n",
      "    Predicted Error Type: 3\n",
      "    Expected Error Type: No Error\n",
      "    Suggested Correction: நாங்கள் மழையிலும் விளையாடுகிறோம்.\n",
      "    Match: ❌\n",
      "--------------------------------------------------\n",
      "\n",
      "Paragraph 3: அவன் புத்தகத்தை படிக்கிறார்கள். அவன் பள்ளியில் எழுதுகிறான்.\n",
      "  Sentence 1: அவன் புத்தகத்தை படிக்கிறார்கள்\n",
      "    Predicted Error Type: 0\n",
      "    Expected Error Type: Subject-Verb Agreement\n",
      "    Suggested Correction: அவன் புத்தகத்தை படிக்கிறான்.\n",
      "    Match: ❌\n",
      "  Sentence 2: அவன் பள்ளியில் எழுதுகிறான்.\n",
      "    Predicted Error Type: 3\n",
      "    Expected Error Type: No Error\n",
      "    Suggested Correction: அவன் பள்ளியில் எழுதுகிறான்.\n",
      "    Match: ❌\n",
      "--------------------------------------------------\n",
      "\n",
      "Paragraph 4: நாங்கள் உணவு சாப்பிடுகிறான். அவர்கள் நகரத்தில் பாடுகிறார்கள்.\n",
      "  Sentence 1: நாங்கள் உணவு சாப்பிடுகிறான்\n",
      "    Predicted Error Type: 0\n",
      "    Expected Error Type: Subject-Verb Agreement\n",
      "    Suggested Correction: நாங்கள் உணவு சாப்பிடுகிறோம்.\n",
      "    Match: ❌\n",
      "  Sentence 2: அவர்கள் நகரத்தில் பாடுகிறார்கள்.\n",
      "    Predicted Error Type: 3\n",
      "    Expected Error Type: No Error\n",
      "    Suggested Correction: அவர்கள் நகரத்தில் பாடுகிறார்கள்.\n",
      "    Match: ❌\n",
      "--------------------------------------------------\n",
      "\n",
      "Paragraph 5: நான் வீட்டில் வேலை செய்கிறார்கள். அவன் தினமும் ஓய்வு நேரத்தில் வாசிக்கிறான்.\n",
      "  Sentence 1: நான் வீட்டில் வேலை செய்கிறார்கள்\n",
      "    Predicted Error Type: 0\n",
      "    Expected Error Type: Subject-Verb Agreement\n",
      "    Suggested Correction: நான் வீட்டில் வேலை செய்கிறேன்.\n",
      "    Match: ❌\n",
      "  Sentence 2: அவன் தினமும் ஓய்வு நேரத்தில் வாசிக்கிறான்.\n",
      "    Predicted Error Type: 3\n",
      "    Expected Error Type: No Error\n",
      "    Suggested Correction: அவன் தினமும் ஓய்வு நேரத்தில் வாசிக்கிறான்.\n",
      "    Match: ❌\n",
      "--------------------------------------------------\n",
      "\n",
      "Final Debugging Summary:\n",
      "Total Sentences: 10\n",
      "Correct Predictions: 0\n",
      "Incorrect Predictions: 10\n",
      "Error Detection Accuracy: 0.00\n"
     ]
    }
   ],
   "source": [
    "# Initialize counters\n",
    "total_sentences = 0\n",
    "correct_predictions = 0\n",
    "incorrect_predictions = 0\n",
    "\n",
    "# Log details for debugging\n",
    "print(\"Debugging Log:\\n\")\n",
    "\n",
    "# Process paragraphs\n",
    "for i, paragraph in enumerate(paragraphs):\n",
    "    sentences = paragraph.split(\". \")  # Split paragraph into sentences\n",
    "    sentence_vecs = vectorizer.transform(sentences)  # Vectorize sentences\n",
    "    predictions = model.predict(sentence_vecs)  # Predict error types\n",
    "    \n",
    "    print(f\"\\nParagraph {i + 1}: {paragraph}\")\n",
    "    for j, sentence in enumerate(sentences):\n",
    "        # Check alignment\n",
    "        print(f\"  Sentence {j + 1}: {sentence}\")\n",
    "        \n",
    "        # Predicted error type\n",
    "        predicted_error = predictions[j]\n",
    "        print(f\"    Predicted Error Type: {predicted_error}\")\n",
    "        \n",
    "        # Expected error type and correction\n",
    "        expected_error = expected_results[i][\"errors\"][j]\n",
    "        correction = expected_results[i][\"corrections\"][j]\n",
    "        print(f\"    Expected Error Type: {expected_error}\")\n",
    "        print(f\"    Suggested Correction: {correction}\")\n",
    "        \n",
    "        # Debugging: Compare predicted and expected error types\n",
    "        if predicted_error == expected_error:\n",
    "            correct_predictions += 1\n",
    "            print(\"    Match: ✅\")\n",
    "        else:\n",
    "            incorrect_predictions += 1\n",
    "            print(\"    Match: ❌\")\n",
    "\n",
    "    print(\"-\" * 50)\n",
    "\n",
    "# Accuracy Metrics\n",
    "total_sentences = sum(len(paragraph.split(\". \")) for paragraph in paragraphs)\n",
    "detection_accuracy = correct_predictions / total_sentences if total_sentences > 0 else 0\n",
    "\n",
    "# Final Debugging Summary\n",
    "print(\"\\nFinal Debugging Summary:\")\n",
    "print(f\"Total Sentences: {total_sentences}\")\n",
    "print(f\"Correct Predictions: {correct_predictions}\")\n",
    "print(f\"Incorrect Predictions: {incorrect_predictions}\")\n",
    "print(f\"Error Detection Accuracy: {detection_accuracy:.2f}\")\n"
   ]
  },
  {
   "cell_type": "code",
   "execution_count": 26,
   "metadata": {},
   "outputs": [
    {
     "name": "stdout",
     "output_type": "stream",
     "text": [
      "Paragraph 1: நான் தினமும் இணையத்தில் ஆராய்ச்சி செய்தேன். நீ தினமும் காரில் பயணம் செய்தாய்.\n",
      "  Sentence 1: நான் தினமும் இணையத்தில் ஆராய்ச்சி செய்தேன்\n",
      "    Predicted Error Type: Subject-Verb Agreement\n",
      "    Expected Error Type: Habitual Error\n",
      "    Suggested Correction: நான் தினமும் இணையத்தில் ஆராய்ச்சி செய்வேன்.\n",
      "  Sentence 2: நீ தினமும் காரில் பயணம் செய்தாய்.\n",
      "    Predicted Error Type: Subject-Verb Agreement\n",
      "    Expected Error Type: Habitual Error\n",
      "    Suggested Correction: நீ தினமும் காரில் பயணம் செய்வாய்.\n",
      "--------------------------------------------------\n",
      "Paragraph 2: அவள் தினமும் பள்ளியில் பாடம் நடத்தினாள். நாங்கள் மழையிலும் விளையாடுகிறோம்.\n",
      "  Sentence 1: அவள் தினமும் பள்ளியில் பாடம் நடத்தினாள்\n",
      "    Predicted Error Type: Subject-Verb Agreement\n",
      "    Expected Error Type: Habitual Error\n",
      "    Suggested Correction: அவள் தினமும் பள்ளியில் பாடம் நடத்துவாள்.\n",
      "  Sentence 2: நாங்கள் மழையிலும் விளையாடுகிறோம்.\n",
      "    Predicted Error Type: Habitual Error\n",
      "    Expected Error Type: No Error\n",
      "    Suggested Correction: நாங்கள் மழையிலும் விளையாடுகிறோம்.\n",
      "--------------------------------------------------\n",
      "Paragraph 3: அவன் புத்தகத்தை படிக்கிறார்கள். அவன் பள்ளியில் எழுதுகிறான்.\n",
      "  Sentence 1: அவன் புத்தகத்தை படிக்கிறார்கள்\n",
      "    Predicted Error Type: Spelling Error\n",
      "    Expected Error Type: Subject-Verb Agreement\n",
      "    Suggested Correction: அவன் புத்தகத்தை படிக்கிறான்.\n",
      "  Sentence 2: அவன் பள்ளியில் எழுதுகிறான்.\n",
      "    Predicted Error Type: Habitual Error\n",
      "    Expected Error Type: No Error\n",
      "    Suggested Correction: அவன் பள்ளியில் எழுதுகிறான்.\n",
      "--------------------------------------------------\n",
      "Paragraph 4: நாங்கள் உணவு சாப்பிடுகிறான். அவர்கள் நகரத்தில் பாடுகிறார்கள்.\n",
      "  Sentence 1: நாங்கள் உணவு சாப்பிடுகிறான்\n",
      "    Predicted Error Type: Spelling Error\n",
      "    Expected Error Type: Subject-Verb Agreement\n",
      "    Suggested Correction: நாங்கள் நேரம் பழகுகிறோம்.\n",
      "  Sentence 2: அவர்கள் நகரத்தில் பாடுகிறார்கள்.\n",
      "    Predicted Error Type: Habitual Error\n",
      "    Expected Error Type: No Error\n",
      "    Suggested Correction: அவர்கள் விளையாட்டு விளையாடுகிறார்கள்.\n",
      "--------------------------------------------------\n",
      "Paragraph 5: நான் வீட்டில் வேலை செய்கிறார்கள். அவன் தினமும் ஓய்வு நேரத்தில் வாசிக்கிறான்.\n",
      "  Sentence 1: நான் வீட்டில் வேலை செய்கிறார்கள்\n",
      "    Predicted Error Type: Spelling Error\n",
      "    Expected Error Type: No Error\n",
      "    Suggested Correction: அவன் தினமும் ஓய்வு நேரத்தில் வாசிக்கிறான்.\n",
      "  Sentence 2: அவன் தினமும் ஓய்வு நேரத்தில் வாசிக்கிறான்.\n",
      "    Predicted Error Type: Habitual Error\n",
      "    Expected Error Type: Subject-Verb Agreement\n",
      "    Suggested Correction: நான் வீட்டில் வேலை செய்கிறேன்.\n",
      "--------------------------------------------------\n",
      "Error Detection Accuracy: 0.00\n"
     ]
    }
   ],
   "source": [
    "# Error Type Mapping\n",
    "error_type_map = {0: \"Spelling Error\", 1: \"Subject-Verb Agreement\", 2: \"No Error\", 3: \"Habitual Error\", 4: \"Other\"}\n",
    "\n",
    "# Process Paragraphs\n",
    "correct_predictions = 0\n",
    "total_sentences = 0\n",
    "\n",
    "for i, paragraph in enumerate(paragraphs):\n",
    "    sentences = paragraph.split(\". \")\n",
    "    sentence_vecs = vectorizer.transform(sentences)\n",
    "    predictions = model.predict(sentence_vecs)\n",
    "    \n",
    "    print(f\"Paragraph {i + 1}: {paragraph}\")\n",
    "    for j, sentence in enumerate(sentences):\n",
    "        predicted_error = predictions[j]\n",
    "        expected_error = expected_results[i][\"errors\"][j]\n",
    "        correction = expected_results[i][\"corrections\"][j]\n",
    "\n",
    "        # Compare with ground truth\n",
    "        if error_type_map[predicted_error] == expected_error:\n",
    "            correct_predictions += 1\n",
    "\n",
    "        print(f\"  Sentence {j + 1}: {sentence}\")\n",
    "        print(f\"    Predicted Error Type: {error_type_map[predicted_error]}\")\n",
    "        print(f\"    Expected Error Type: {expected_error}\")\n",
    "        print(f\"    Suggested Correction: {correction}\")\n",
    "    print(\"-\" * 50)\n",
    "\n",
    "# Calculate and Print Accuracy\n",
    "total_sentences = sum(len(paragraph.split(\". \")) for paragraph in paragraphs)\n",
    "accuracy = correct_predictions / total_sentences\n",
    "print(f\"Error Detection Accuracy: {accuracy:.2f}\")\n"
   ]
  }
 ],
 "metadata": {
  "kernelspec": {
   "display_name": "base",
   "language": "python",
   "name": "python3"
  },
  "language_info": {
   "codemirror_mode": {
    "name": "ipython",
    "version": 3
   },
   "file_extension": ".py",
   "mimetype": "text/x-python",
   "name": "python",
   "nbconvert_exporter": "python",
   "pygments_lexer": "ipython3",
   "version": "3.12.7"
  }
 },
 "nbformat": 4,
 "nbformat_minor": 2
}
