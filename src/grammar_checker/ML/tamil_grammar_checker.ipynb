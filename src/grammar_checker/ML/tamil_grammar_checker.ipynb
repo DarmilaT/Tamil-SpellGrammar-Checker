{
 "cells": [
  {
   "cell_type": "markdown",
   "metadata": {},
   "source": [
    "        Step 1: Import Libraries"
   ]
  },
  {
   "cell_type": "code",
   "execution_count": 34,
   "metadata": {},
   "outputs": [],
   "source": [
    "import pandas as pd\n",
    "from sklearn.feature_extraction.text import TfidfVectorizer\n",
    "from sklearn.model_selection import train_test_split\n",
    "from sklearn.ensemble import RandomForestClassifier\n",
    "from sklearn.metrics import classification_report, confusion_matrix\n",
    "import joblib\n"
   ]
  },
  {
   "cell_type": "markdown",
   "metadata": {},
   "source": [
    "        Step 2: Load and Preprocess Data"
   ]
  },
  {
   "cell_type": "code",
   "execution_count": 60,
   "metadata": {},
   "outputs": [
    {
     "name": "stdout",
     "output_type": "stream",
     "text": [
      "                       Error Sentence              Error Type  \\\n",
      "0           அவள் பாடல்கள் பாடுகிறான்.  Subject-Verb Agreement   \n",
      "1           நாங்கள் நேரம் பழகுகிறேன்.  Subject-Verb Agreement   \n",
      "2     அவன் புத்தகத்தை படிக்கிறார்கள்.  Subject-Verb Agreement   \n",
      "3  அவர்கள் விளையாட்டு விளையாடுகிறேன்.  Subject-Verb Agreement   \n",
      "4   நான் வீட்டில் வேலை செய்கிறார்கள்.  Subject-Verb Agreement   \n",
      "\n",
      "                      Corrected Sentence  \n",
      "0              அவள் பாடல்கள் பாடுகிறாள்.  \n",
      "1              நாங்கள் நேரம் பழகுகிறோம்.  \n",
      "2           அவன் புத்தகத்தை படிக்கிறான்.  \n",
      "3  அவர்கள் விளையாட்டு விளையாடுகிறார்கள்.  \n",
      "4         நான் வீட்டில் வேலை செய்கிறேன்.  \n"
     ]
    }
   ],
   "source": [
    "# Load dataset\n",
    "dataset_path = r\"H:\\Semester 7\\EC9640_Artificial Intelligence\\AI Project\\Tamil-SpellGrammar-Checker\\data\\grammar_checker_dataset\\final_dataset.csv\"\n",
    "df = pd.read_csv(dataset_path)\n",
    "\n",
    "# Display the first few rows\n",
    "print(df.head())\n",
    "\n"
   ]
  },
  {
   "cell_type": "code",
   "execution_count": 61,
   "metadata": {},
   "outputs": [
    {
     "name": "stdout",
     "output_type": "stream",
     "text": [
      "Index(['Error Sentence', 'Error Type', 'Corrected Sentence'], dtype='object')\n"
     ]
    }
   ],
   "source": [
    "print(df.columns)\n"
   ]
  },
  {
   "cell_type": "code",
   "execution_count": 63,
   "metadata": {},
   "outputs": [],
   "source": [
    "# Features and Labels\n",
    "X = df[\"Error Sentence\"]  # input sentences\n",
    "y = df[\"Error Type\"]  # Error types\n",
    "\n",
    "# Encode labels to numeric values\n",
    "y_encoded = pd.factorize(y)[0]\n"
   ]
  },
  {
   "cell_type": "code",
   "execution_count": 64,
   "metadata": {},
   "outputs": [
    {
     "name": "stdout",
     "output_type": "stream",
     "text": [
      "Training Samples: 699, Validation Samples: 150, Test Samples: 150\n"
     ]
    }
   ],
   "source": [
    "# Train-Validation-Test Split\n",
    "X_train, X_temp, y_train, y_temp = train_test_split(X, y_encoded, test_size=0.3, random_state=42)\n",
    "X_val, X_test, y_val, y_test = train_test_split(X_temp, y_temp, test_size=0.5, random_state=42)\n",
    "\n",
    "print(f\"Training Samples: {len(X_train)}, Validation Samples: {len(X_val)}, Test Samples: {len(X_test)}\")\n"
   ]
  },
  {
   "cell_type": "markdown",
   "metadata": {},
   "source": [
    "        Step 3: Convert Sentences to Features"
   ]
  },
  {
   "cell_type": "code",
   "execution_count": 65,
   "metadata": {},
   "outputs": [
    {
     "name": "stdout",
     "output_type": "stream",
     "text": [
      "TF-IDF Vectorized Shape: (699, 1288)\n"
     ]
    }
   ],
   "source": [
    "# TF-IDF Vectorization\n",
    "vectorizer = TfidfVectorizer(analyzer=\"word\", token_pattern=r'\\S+', ngram_range=(1, 2))\n",
    "\n",
    "# Transform Sentences\n",
    "X_train_vec = vectorizer.fit_transform(X_train)\n",
    "X_val_vec = vectorizer.transform(X_val)\n",
    "X_test_vec = vectorizer.transform(X_test)\n",
    "\n",
    "print(f\"TF-IDF Vectorized Shape: {X_train_vec.shape}\")\n"
   ]
  },
  {
   "cell_type": "markdown",
   "metadata": {},
   "source": [
    "        Step 4: Train the Model"
   ]
  },
  {
   "cell_type": "code",
   "execution_count": 66,
   "metadata": {},
   "outputs": [
    {
     "name": "stdout",
     "output_type": "stream",
     "text": [
      "Model training complete.\n"
     ]
    }
   ],
   "source": [
    "# Train Random Forest Model\n",
    "model = RandomForestClassifier(n_estimators=100, random_state=42)\n",
    "model.fit(X_train_vec, y_train)\n",
    "\n",
    "print(\"Model training complete.\")\n"
   ]
  },
  {
   "cell_type": "code",
   "execution_count": 67,
   "metadata": {},
   "outputs": [
    {
     "name": "stdout",
     "output_type": "stream",
     "text": [
      "Model and vectorizer saved successfully!\n"
     ]
    }
   ],
   "source": [
    "import os\n",
    "\n",
    "# Ensure the directory exists\n",
    "save_dir = r\"H:\\Semester 7\\EC9640_Artificial Intelligence\\AI Project\\Tamil-SpellGrammar-Checker\\saved_models\"\n",
    "os.makedirs(save_dir, exist_ok=True)\n",
    "\n",
    "# Save the model and vectorizer\n",
    "joblib.dump(model, os.path.join(save_dir, \"tamil_grammar_model.pkl\"))\n",
    "joblib.dump(vectorizer, os.path.join(save_dir, \"tamil_vectorizer.pkl\"))\n",
    "\n",
    "print(\"Model and vectorizer saved successfully!\")\n"
   ]
  },
  {
   "cell_type": "markdown",
   "metadata": {},
   "source": [
    "        Step 5: Validate the Model"
   ]
  },
  {
   "cell_type": "code",
   "execution_count": 68,
   "metadata": {},
   "outputs": [
    {
     "name": "stdout",
     "output_type": "stream",
     "text": [
      "Validation Performance:\n",
      "              precision    recall  f1-score   support\n",
      "\n",
      "           0       0.99      1.00      0.99        72\n",
      "           1       0.92      0.73      0.81        15\n",
      "           2       0.94      0.97      0.95        63\n",
      "\n",
      "    accuracy                           0.96       150\n",
      "   macro avg       0.95      0.90      0.92       150\n",
      "weighted avg       0.96      0.96      0.96       150\n",
      "\n"
     ]
    }
   ],
   "source": [
    "# Validation Set Evaluation\n",
    "y_val_pred = model.predict(X_val_vec)\n",
    "print(\"Validation Performance:\")\n",
    "print(classification_report(y_val, y_val_pred))\n"
   ]
  },
  {
   "cell_type": "code",
   "execution_count": 69,
   "metadata": {},
   "outputs": [
    {
     "data": {
      "text/plain": [
       "<sklearn.metrics._plot.confusion_matrix.ConfusionMatrixDisplay at 0x2088c92a990>"
      ]
     },
     "execution_count": 69,
     "metadata": {},
     "output_type": "execute_result"
    },
    {
     "data": {
      "image/png": "[encoded data removed]",
      "text/plain": [
       "<Figure size 640x480 with 2 Axes>"
      ]
     },
     "metadata": {},
     "output_type": "display_data"
    }
   ],
   "source": [
    "from sklearn.metrics import ConfusionMatrixDisplay\n",
    "\n",
    "ConfusionMatrixDisplay.from_estimator(model, X_val_vec, y_val)\n"
   ]
  },
  {
   "cell_type": "markdown",
   "metadata": {},
   "source": [
    "        Step 6: Test the Model"
   ]
  },
  {
   "cell_type": "code",
   "execution_count": 70,
   "metadata": {},
   "outputs": [
    {
     "name": "stdout",
     "output_type": "stream",
     "text": [
      "Test Performance:\n",
      "              precision    recall  f1-score   support\n",
      "\n",
      "           0       0.99      1.00      0.99        84\n",
      "           1       0.78      0.74      0.76        19\n",
      "           2       0.89      0.89      0.89        47\n",
      "\n",
      "    accuracy                           0.93       150\n",
      "   macro avg       0.89      0.88      0.88       150\n",
      "weighted avg       0.93      0.93      0.93       150\n",
      "\n"
     ]
    },
    {
     "data": {
      "text/plain": [
       "<sklearn.metrics._plot.confusion_matrix.ConfusionMatrixDisplay at 0x20886f24560>"
      ]
     },
     "execution_count": 70,
     "metadata": {},
     "output_type": "execute_result"
    },
    {
     "data": {
      "image/png": "[encoded data removed]",
      "text/plain": [
       "<Figure size 640x480 with 2 Axes>"
      ]
     },
     "metadata": {},
     "output_type": "display_data"
    }
   ],
   "source": [
    "# Test Set Evaluation\n",
    "y_test_pred = model.predict(X_test_vec)\n",
    "print(\"Test Performance:\")\n",
    "print(classification_report(y_test, y_test_pred))\n",
    "\n",
    "# Confusion Matrix for Test Set\n",
    "ConfusionMatrixDisplay.from_estimator(model, X_test_vec, y_test)\n"
   ]
  },
  {
   "cell_type": "markdown",
   "metadata": {},
   "source": [
    "        Step 7: Predict on New Sentences"
   ]
  },
  {
   "cell_type": "code",
   "execution_count": 71,
   "metadata": {},
   "outputs": [
    {
     "name": "stdout",
     "output_type": "stream",
     "text": [
      "Sentence: அவள் தினமும் பறவை பார்த்தாள் | Predicted Error Type: Habitual Error\n"
     ]
    }
   ],
   "source": [
    "# Load the trained model and vectorizer\n",
    "model = joblib.load(r\"H:\\Semester 7\\EC9640_Artificial Intelligence\\AI Project\\Tamil-SpellGrammar-Checker\\saved_models\\tamil_grammar_model.pkl\")\n",
    "vectorizer = joblib.load(r\"H:\\Semester 7\\EC9640_Artificial Intelligence\\AI Project\\Tamil-SpellGrammar-Checker\\saved_models\\tamil_vectorizer.pkl\")\n",
    "\n",
    "# Predict on new sentences\n",
    "new_sentences = [\"அவள் தினமும் பறவை பார்த்தாள்\"]\n",
    "new_sentences_vec = vectorizer.transform(new_sentences)\n",
    "predictions = model.predict(new_sentences_vec)\n",
    "\n",
    "# Decode predictions\n",
    "decoded_predictions = [pd.factorize(df[\"Error Type\"])[1][p] for p in predictions]\n",
    "for sentence, prediction in zip(new_sentences, decoded_predictions):\n",
    "    print(f\"Sentence: {sentence} | Predicted Error Type: {prediction}\")\n"
   ]
  },
  {
   "cell_type": "markdown",
   "metadata": {},
   "source": [
    "        Step 8: Accuracy on 5 Paragraphs"
   ]
  },
  {
   "cell_type": "code",
   "execution_count": 92,
   "metadata": {},
   "outputs": [],
   "source": [
    "paragraphs = [\n",
    "    \"நான் தினமும் இணையத்தில் ஆராய்ச்சி செய்தேன். நீ தினமும் காரில் பயணம் செய்தாய்.\",\n",
    "    \"அவள் தினமும் பள்ளியில் பாடம் நடத்தினாள். நாங்கள் மழையிலும் விளையாடுகிறோம்.\",\n",
    "    \"அவன் புத்தகத்தை படிக்கிறார்கள். அவன் பள்ளியில் எழுதுகிறான்.\",\n",
    "    \"நாங்கள் உணவு சாப்பிடுகிறான். அவர்கள் நகரத்தில் பாடுகிறார்கள்.\",\n",
    "    \"நான் வீட்டில் வேலை செய்கிறார்கள். அவன் தினமும் ஓய்வு நேரத்தில் வாசிக்கிறான்.\"\n",
    "]\n"
   ]
  },
  {
   "cell_type": "code",
   "execution_count": 73,
   "metadata": {},
   "outputs": [
    {
     "name": "stdout",
     "output_type": "stream",
     "text": [
      "Error Type\n",
      "Subject-Verb Agreement    500\n",
      " No Error                 400\n",
      "Habitual Error             99\n",
      "Name: count, dtype: int64\n"
     ]
    }
   ],
   "source": [
    "print(df[\"Error Type\"].value_counts())\n"
   ]
  },
  {
   "cell_type": "code",
   "execution_count": 74,
   "metadata": {},
   "outputs": [
    {
     "name": "stdout",
     "output_type": "stream",
     "text": [
      "['Subject-Verb Agreement' 'Habitual Error' ' No Error']\n"
     ]
    }
   ],
   "source": [
    "print(df[\"Error Type\"].unique())\n"
   ]
  },
  {
   "cell_type": "code",
   "execution_count": 75,
   "metadata": {},
   "outputs": [
    {
     "name": "stdout",
     "output_type": "stream",
     "text": [
      "Index(['Subject-Verb Agreement', 'Habitual Error', ' No Error'], dtype='object')\n"
     ]
    }
   ],
   "source": [
    "y_encoded, labels = pd.factorize(df[\"Error Type\"])\n",
    "print(labels)  # Expected output: ['Subject-Verb Agreement', 'Habitual Error', 'No Error']\n"
   ]
  },
  {
   "cell_type": "code",
   "execution_count": 76,
   "metadata": {},
   "outputs": [
    {
     "name": "stdout",
     "output_type": "stream",
     "text": [
      "Error Sentence        0\n",
      "Error Type            0\n",
      "Corrected Sentence    0\n",
      "dtype: int64\n",
      "562\n"
     ]
    }
   ],
   "source": [
    "# Check for missing values\n",
    "print(df.isnull().sum())\n",
    "\n",
    "# Check for duplicates\n",
    "print(df.duplicated().sum())\n"
   ]
  },
  {
   "cell_type": "code",
   "execution_count": 77,
   "metadata": {},
   "outputs": [
    {
     "name": "stdout",
     "output_type": "stream",
     "text": [
      "Unique Error Types in Dataset: ['Subject-Verb Agreement' 'Habitual Error' ' No Error']\n",
      "Error Type Mapping: {0: 'Spelling Error', 1: 'Subject-Verb Agreement', 2: 'No Error', 3: 'Habitual Error', 4: 'Other'}\n"
     ]
    }
   ],
   "source": [
    "# Confirm unique error types\n",
    "print(\"Unique Error Types in Dataset:\", df[\"Error Type\"].unique())\n",
    "\n",
    "# Ensure error_type_map covers all unique error types\n",
    "print(\"Error Type Mapping:\", error_type_map)\n"
   ]
  },
  {
   "cell_type": "code",
   "execution_count": 78,
   "metadata": {},
   "outputs": [
    {
     "name": "stdout",
     "output_type": "stream",
     "text": [
      "Cleaned Unique Error Types in Dataset: ['Subject-Verb Agreement' 'Habitual Error' 'No Error']\n"
     ]
    }
   ],
   "source": [
    "# Strip spaces in error types\n",
    "df[\"Error Type\"] = df[\"Error Type\"].str.strip()\n",
    "\n",
    "# Confirm unique values after cleaning\n",
    "print(\"Cleaned Unique Error Types in Dataset:\", df[\"Error Type\"].unique())\n"
   ]
  },
  {
   "cell_type": "code",
   "execution_count": 79,
   "metadata": {},
   "outputs": [
    {
     "name": "stdout",
     "output_type": "stream",
     "text": [
      "Error Type Mapping: {0: 'Subject-Verb Agreement', 1: 'Habitual Error', 2: 'No Error'}\n"
     ]
    }
   ],
   "source": [
    "# Updated error_type_map\n",
    "error_type_map = {\n",
    "    0: \"Subject-Verb Agreement\",\n",
    "    1: \"Habitual Error\",\n",
    "    2: \"No Error\"\n",
    "}\n",
    "\n",
    "print(\"Error Type Mapping:\", error_type_map)\n"
   ]
  },
  {
   "cell_type": "code",
   "execution_count": 80,
   "metadata": {},
   "outputs": [
    {
     "name": "stdout",
     "output_type": "stream",
     "text": [
      "Factorized Unique Error Types: Index(['Subject-Verb Agreement', 'Habitual Error', 'No Error'], dtype='object')\n"
     ]
    }
   ],
   "source": [
    "# Factorize labels again after cleaning\n",
    "y_encoded, uniques = pd.factorize(df[\"Error Type\"])\n",
    "\n",
    "# Print factorized unique values\n",
    "print(\"Factorized Unique Error Types:\", uniques)\n",
    "\n",
    "# Verify mapping coverage\n",
    "for i, error_type in enumerate(uniques):\n",
    "    if error_type not in error_type_map.values():\n",
    "        print(f\"Warning: '{error_type}' is not covered in error_type_map.\")\n"
   ]
  },
  {
   "cell_type": "code",
   "execution_count": 90,
   "metadata": {},
   "outputs": [
    {
     "name": "stdout",
     "output_type": "stream",
     "text": [
      "Paragraph 1: அவன் தினமும் புத்தகங்களை வாசிக்கிறான். அவர்கள் தினமும் கற்றார்.\n",
      "  Sentence 1: அவன் தினமும் புத்தகங்களை வாசிக்கிறான்\n",
      "    Predicted Error Type: Habitual Error\n",
      "    Expected Error Type: No Error\n",
      "  Sentence 2: அவர்கள் தினமும் கற்றார்.\n",
      "    Predicted Error Type: Habitual Error\n",
      "    Expected Error Type: Subject-Verb Agreement\n",
      "--------------------------------------------------\n",
      "Paragraph 2: நாங்கள் தினமும் விளையாட்டுகளை விளையாடினாள். அவள் தினமும் புதிய பாடங்களை கற்றாள்.\n",
      "  Sentence 1: நாங்கள் தினமும் விளையாட்டுகளை விளையாடினாள்\n",
      "    Predicted Error Type: Habitual Error\n",
      "    Expected Error Type: Subject-Verb Agreement\n",
      "  Sentence 2: அவள் தினமும் புதிய பாடங்களை கற்றாள்.\n",
      "    Predicted Error Type: Habitual Error\n",
      "    Expected Error Type: Habitual Error\n",
      "--------------------------------------------------\n",
      "Paragraph 3: நீ தினமும் பள்ளியில் பாடங்களை எழுதினாய். நான் தினமும் பள்ளியில் பாடம் நடத்தினேன்.\n",
      "  Sentence 1: நீ தினமும் பள்ளியில் பாடங்களை எழுதினாய்\n",
      "    Predicted Error Type: Habitual Error\n",
      "    Expected Error Type: Habitual Error\n",
      "  Sentence 2: நான் தினமும் பள்ளியில் பாடம் நடத்தினேன்.\n",
      "    Predicted Error Type: Habitual Error\n",
      "    Expected Error Type: Habitual Error\n",
      "--------------------------------------------------\n",
      "Paragraph 4: அவள் தினமும் வேலை செய்யிறேன். நான் தினமும் பள்ளியில் கற்றேன்.\n",
      "  Sentence 1: அவள் தினமும் வேலை செய்யிறேன்\n",
      "    Predicted Error Type: Habitual Error\n",
      "    Expected Error Type: Subject-Verb Agreement\n",
      "  Sentence 2: நான் தினமும் பள்ளியில் கற்றேன்.\n",
      "    Predicted Error Type: Habitual Error\n",
      "    Expected Error Type: Habitual Error\n",
      "--------------------------------------------------\n",
      "Paragraph 5: அவர்கள் தினமும் பாடங்களை கற்றார்கள். அவன் தினமும் நேரம் பழகினான்.\n",
      "  Sentence 1: அவர்கள் தினமும் பாடங்களை கற்றார்கள்\n",
      "    Predicted Error Type: Habitual Error\n",
      "    Expected Error Type: Habitual Error\n",
      "  Sentence 2: அவன் தினமும் நேரம் பழகினான்.\n",
      "    Predicted Error Type: Habitual Error\n",
      "    Expected Error Type: No Error\n",
      "--------------------------------------------------\n",
      "Custom Paragraph Accuracy: 0.50\n"
     ]
    }
   ],
   "source": [
    "# Load saved model and vectorizer\n",
    "model = joblib.load(os.path.join(save_dir, \"tamil_grammar_model.pkl\"))\n",
    "vectorizer = joblib.load(os.path.join(save_dir, \"tamil_vectorizer.pkl\"))\n",
    "\n",
    "paragraphs = [\n",
    "    \"அவன் தினமும் புத்தகங்களை வாசிக்கிறான். அவர்கள் தினமும் கற்றார்.\",\n",
    "    \"நாங்கள் தினமும் விளையாட்டுகளை விளையாடினாள். அவள் தினமும் புதிய பாடங்களை கற்றாள்.\",\n",
    "    \"நீ தினமும் பள்ளியில் பாடங்களை எழுதினாய். நான் தினமும் பள்ளியில் பாடம் நடத்தினேன்.\",\n",
    "    \"அவள் தினமும் வேலை செய்யிறேன். நான் தினமும் பள்ளியில் கற்றேன்.\",\n",
    "    \"அவர்கள் தினமும் பாடங்களை கற்றார்கள். அவன் தினமும் நேரம் பழகினான்.\"\n",
    "]\n",
    "\n",
    "# Define expected results for each paragraph\n",
    "expected_results = [\n",
    "    {\"errors\": [\"No Error\", \"Subject-Verb Agreement\"], \n",
    "     \"corrections\": [\"அவன் தினமும் புத்தகங்களை வாசிக்கிறான்.\", \"அவர்கள் தினமும் கற்கிறார்கள்.\"]},\n",
    "    {\"errors\": [\"Subject-Verb Agreement\", \"Habitual Error\"], \n",
    "     \"corrections\": [\"நாங்கள் தினமும் விளையாட்டுகளை விளையாடுகிறோம்.\", \"அவள் தினமும் புதிய பாடங்களை கற்கிறாள்.\"]},\n",
    "    {\"errors\": [\"Habitual Error\", \"Habitual Error\"], \n",
    "     \"corrections\": [\"நீ தினமும் பள்ளியில் பாடங்களை எழுதுவாய்.\", \"நான் தினமும் பள்ளியில் பாடம் நடத்துவேன்.\"]},\n",
    "    {\"errors\": [\"Subject-Verb Agreement\", \"Habitual Error\"], \n",
    "     \"corrections\": [\"அவள் தினமும் வேலை செய்கிறாள்.\", \"நான் தினமும் பள்ளியில் கற்கிறேன்.\"]},\n",
    "    {\"errors\": [\"Habitual Error\", \"No Error\"], \n",
    "     \"corrections\": [\"அவர்கள் தினமும் பாடங்களை கற்கிறார்கள்.\", \"அவன் தினமும் நேரம் பழகுகிறான்.\"]}\n",
    "]\n",
    "\n",
    "\n",
    "\n",
    "# Evaluate on paragraphs\n",
    "correct_predictions = 0\n",
    "total_sentences = 0\n",
    "\n",
    "for i, paragraph in enumerate(paragraphs):\n",
    "    sentences = paragraph.split(\". \")\n",
    "    sentence_vecs = vectorizer.transform(sentences)\n",
    "    predictions = model.predict(sentence_vecs)\n",
    "\n",
    "    print(f\"Paragraph {i + 1}: {paragraph}\")\n",
    "    for j, sentence in enumerate(sentences):\n",
    "        predicted_error = error_type_map[predictions[j]]\n",
    "        expected_error = expected_results[i][\"errors\"][j]\n",
    "        \n",
    "        # Compare predictions with expected\n",
    "        if predicted_error == expected_error:\n",
    "            correct_predictions += 1\n",
    "        \n",
    "        print(f\"  Sentence {j + 1}: {sentence}\")\n",
    "        print(f\"    Predicted Error Type: {predicted_error}\")\n",
    "        print(f\"    Expected Error Type: {expected_error}\")\n",
    "\n",
    "    print(\"-\" * 50)\n",
    "\n",
    "# Calculate overall accuracy\n",
    "total_sentences = sum(len(paragraph.split(\". \")) for paragraph in paragraphs)\n",
    "accuracy = correct_predictions / total_sentences\n",
    "print(f\"Custom Paragraph Accuracy: {accuracy:.2f}\")\n"
   ]
  },
  {
   "cell_type": "code",
   "execution_count": 91,
   "metadata": {},
   "outputs": [
    {
     "name": "stdout",
     "output_type": "stream",
     "text": [
      "Paragraph 1: அவன் தினமும் புத்தகங்களை வாசிக்கிறான். அவர்கள் தினமும் கற்றார்.\n",
      "  Sentence 1: அவன் தினமும் புத்தகங்களை வாசிக்கிறான்\n",
      "    Predicted Error Type: Habitual Error\n",
      "    Expected Error Type: No Error\n",
      "    Suggested Correction: அவன் தினமும் புத்தகங்களை வாசிக்கிறான்.\n",
      "  Sentence 2: அவர்கள் தினமும் கற்றார்.\n",
      "    Predicted Error Type: Habitual Error\n",
      "    Expected Error Type: Subject-Verb Agreement\n",
      "    Suggested Correction: அவர்கள் தினமும் கற்கிறார்கள்.\n",
      "--------------------------------------------------\n",
      "Paragraph 2: நாங்கள் தினமும் விளையாட்டுகளை விளையாடினாள். அவள் தினமும் புதிய பாடங்களை கற்றாள்.\n",
      "  Sentence 1: நாங்கள் தினமும் விளையாட்டுகளை விளையாடினாள்\n",
      "    Predicted Error Type: Habitual Error\n",
      "    Expected Error Type: Subject-Verb Agreement\n",
      "    Suggested Correction: நாங்கள் தினமும் விளையாட்டுகளை விளையாடுகிறோம்.\n",
      "  Sentence 2: அவள் தினமும் புதிய பாடங்களை கற்றாள்.\n",
      "    Predicted Error Type: Habitual Error\n",
      "    Expected Error Type: Habitual Error\n",
      "    Suggested Correction: அவள் தினமும் புதிய பாடங்களை கற்கிறாள்.\n",
      "--------------------------------------------------\n",
      "Paragraph 3: நீ தினமும் பள்ளியில் பாடங்களை எழுதினாய். நான் தினமும் பள்ளியில் பாடம் நடத்தினேன்.\n",
      "  Sentence 1: நீ தினமும் பள்ளியில் பாடங்களை எழுதினாய்\n",
      "    Predicted Error Type: Habitual Error\n",
      "    Expected Error Type: Habitual Error\n",
      "    Suggested Correction: நீ தினமும் பள்ளியில் பாடங்களை எழுதுவாய்.\n",
      "  Sentence 2: நான் தினமும் பள்ளியில் பாடம் நடத்தினேன்.\n",
      "    Predicted Error Type: Habitual Error\n",
      "    Expected Error Type: Habitual Error\n",
      "    Suggested Correction: நான் தினமும் பள்ளியில் பாடம் நடத்துவேன்.\n",
      "--------------------------------------------------\n",
      "Paragraph 4: அவள் தினமும் வேலை செய்யிறேன். நான் தினமும் பள்ளியில் கற்றேன்.\n",
      "  Sentence 1: அவள் தினமும் வேலை செய்யிறேன்\n",
      "    Predicted Error Type: Habitual Error\n",
      "    Expected Error Type: Subject-Verb Agreement\n",
      "    Suggested Correction: அவள் தினமும் வேலை செய்கிறாள்.\n",
      "  Sentence 2: நான் தினமும் பள்ளியில் கற்றேன்.\n",
      "    Predicted Error Type: Habitual Error\n",
      "    Expected Error Type: Habitual Error\n",
      "    Suggested Correction: நான் தினமும் பள்ளியில் கற்கிறேன்.\n",
      "--------------------------------------------------\n",
      "Paragraph 5: அவர்கள் தினமும் பாடங்களை கற்றார்கள். அவன் தினமும் நேரம் பழகினான்.\n",
      "  Sentence 1: அவர்கள் தினமும் பாடங்களை கற்றார்கள்\n",
      "    Predicted Error Type: Habitual Error\n",
      "    Expected Error Type: Habitual Error\n",
      "    Suggested Correction: அவர்கள் தினமும் பாடங்களை கற்கிறார்கள்.\n",
      "  Sentence 2: அவன் தினமும் நேரம் பழகினான்.\n",
      "    Predicted Error Type: Habitual Error\n",
      "    Expected Error Type: No Error\n",
      "    Suggested Correction: அவன் தினமும் நேரம் பழகுகிறான்.\n",
      "--------------------------------------------------\n",
      "Error Detection Accuracy: 0.50\n"
     ]
    }
   ],
   "source": [
    "# Error Type Mapping\n",
    "error_type_map = { 0: \"Subject-Verb Agreement\",\n",
    "    1: \"Habitual Error\",\n",
    "    2: \"No Error\"}\n",
    "\n",
    "# New Paragraphs\n",
    "paragraphs = [\n",
    "    \"அவன் தினமும் புத்தகங்களை வாசிக்கிறான். அவர்கள் தினமும் கற்றார்.\",\n",
    "    \"நாங்கள் தினமும் விளையாட்டுகளை விளையாடினாள். அவள் தினமும் புதிய பாடங்களை கற்றாள்.\",\n",
    "    \"நீ தினமும் பள்ளியில் பாடங்களை எழுதினாய். நான் தினமும் பள்ளியில் பாடம் நடத்தினேன்.\",\n",
    "    \"அவள் தினமும் வேலை செய்யிறேன். நான் தினமும் பள்ளியில் கற்றேன்.\",\n",
    "    \"அவர்கள் தினமும் பாடங்களை கற்றார்கள். அவன் தினமும் நேரம் பழகினான்.\"\n",
    "]\n",
    "\n",
    "# Define expected results for each paragraph\n",
    "expected_results = [\n",
    "    {\"errors\": [\"No Error\", \"Subject-Verb Agreement\"], \n",
    "     \"corrections\": [\"அவன் தினமும் புத்தகங்களை வாசிக்கிறான்.\", \"அவர்கள் தினமும் கற்கிறார்கள்.\"]},\n",
    "    {\"errors\": [\"Subject-Verb Agreement\", \"Habitual Error\"], \n",
    "     \"corrections\": [\"நாங்கள் தினமும் விளையாட்டுகளை விளையாடுகிறோம்.\", \"அவள் தினமும் புதிய பாடங்களை கற்கிறாள்.\"]},\n",
    "    {\"errors\": [\"Habitual Error\", \"Habitual Error\"], \n",
    "     \"corrections\": [\"நீ தினமும் பள்ளியில் பாடங்களை எழுதுவாய்.\", \"நான் தினமும் பள்ளியில் பாடம் நடத்துவேன்.\"]},\n",
    "    {\"errors\": [\"Subject-Verb Agreement\", \"Habitual Error\"], \n",
    "     \"corrections\": [\"அவள் தினமும் வேலை செய்கிறாள்.\", \"நான் தினமும் பள்ளியில் கற்கிறேன்.\"]},\n",
    "    {\"errors\": [\"Habitual Error\", \"No Error\"], \n",
    "     \"corrections\": [\"அவர்கள் தினமும் பாடங்களை கற்கிறார்கள்.\", \"அவன் தினமும் நேரம் பழகுகிறான்.\"]}\n",
    "]\n",
    "\n",
    "# Process Paragraphs\n",
    "correct_predictions = 0\n",
    "total_sentences = 0\n",
    "\n",
    "for i, paragraph in enumerate(paragraphs):\n",
    "    sentences = paragraph.split(\". \")\n",
    "    sentence_vecs = vectorizer.transform(sentences)\n",
    "    predictions = model.predict(sentence_vecs)\n",
    "    \n",
    "    print(f\"Paragraph {i + 1}: {paragraph}\")\n",
    "    for j, sentence in enumerate(sentences):\n",
    "        predicted_error = predictions[j]\n",
    "        expected_error = expected_results[i][\"errors\"][j]\n",
    "        correction = expected_results[i][\"corrections\"][j]\n",
    "\n",
    "        # Compare with ground truth\n",
    "        if error_type_map[predicted_error] == expected_error:\n",
    "            correct_predictions += 1\n",
    "\n",
    "        print(f\"  Sentence {j + 1}: {sentence}\")\n",
    "        print(f\"    Predicted Error Type: {error_type_map[predicted_error]}\")\n",
    "        print(f\"    Expected Error Type: {expected_error}\")\n",
    "        print(f\"    Suggested Correction: {correction}\")\n",
    "    print(\"-\" * 50)\n",
    "\n",
    "# Calculate and Print Accuracy\n",
    "total_sentences = sum(len(paragraph.split(\". \")) for paragraph in paragraphs)\n",
    "accuracy = correct_predictions / total_sentences\n",
    "print(f\"Error Detection Accuracy: {accuracy:.2f}\")\n"
   ]
  }
 ],
 "metadata": {
  "kernelspec": {
   "display_name": "base",
   "language": "python",
   "name": "python3"
  },
  "language_info": {
   "codemirror_mode": {
    "name": "ipython",
    "version": 3
   },
   "file_extension": ".py",
   "mimetype": "text/x-python",
   "name": "python",
   "nbconvert_exporter": "python",
   "pygments_lexer": "ipython3",
   "version": "3.12.7"
  }
 },
 "nbformat": 4,
 "nbformat_minor": 2
}
