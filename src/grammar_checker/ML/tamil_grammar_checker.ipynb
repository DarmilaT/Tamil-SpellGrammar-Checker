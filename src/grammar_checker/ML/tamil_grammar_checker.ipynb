{
 "cells": [
  {
   "cell_type": "markdown",
   "metadata": {},
   "source": [
    "        Step 1: Import Libraries"
   ]
  },
  {
   "cell_type": "code",
   "execution_count": 1,
   "metadata": {},
   "outputs": [],
   "source": [
    "import pandas as pd\n",
    "from sklearn.feature_extraction.text import TfidfVectorizer\n",
    "from sklearn.model_selection import train_test_split\n",
    "from sklearn.ensemble import RandomForestClassifier\n",
    "from sklearn.metrics import classification_report, confusion_matrix\n",
    "import joblib\n"
   ]
  },
  {
   "cell_type": "markdown",
   "metadata": {},
   "source": [
    "        Step 2: Load and Preprocess Data"
   ]
  },
  {
   "cell_type": "code",
   "execution_count": 2,
   "metadata": {},
   "outputs": [
    {
     "name": "stdout",
     "output_type": "stream",
     "text": [
      "                          Sentence              Error Type  \\\n",
      "0  அவர்கள் பள்ளிக்கு சாப்பிடுவாள்.          Spelling Error   \n",
      "1     நாம் பாடத்தை படிக்கிறார்கள்.  Subject-Verb Agreement   \n",
      "2     அவன் பள்ளிக்கு சாப்பிடுவாள்.          Spelling Error   \n",
      "3    அவர்கள் பந்து விளையாடுகிறோம்.                No Error   \n",
      "4  நான் புத்தகத்தை விளையாடுகிறான்.  Subject-Verb Agreement   \n",
      "\n",
      "               Corrected Sentence  \n",
      "0  அவர்கள் பள்ளிக்கு படிக்கிறாள்.  \n",
      "1          நாம் பாடத்தை செல்வேன்.  \n",
      "2  அவன் பள்ளிக்கு விளையாடுகிறோம்.  \n",
      "3   அவர்கள் பந்து விளையாடுகிறோம்.  \n",
      "4    நான் புத்தகத்தை படிக்கிறான்.  \n"
     ]
    }
   ],
   "source": [
    "# Load dataset\n",
    "dataset_path = r\"H:\\Semester 7\\EC9640_Artificial Intelligence\\AI Project\\Tamil-SpellGrammar-Checker\\data\\grammar_checker_dataset\\tamil_grammar_large_dataset.csv\"\n",
    "df = pd.read_csv(dataset_path)\n",
    "\n",
    "# Display the first few rows\n",
    "print(df.head())\n",
    "\n"
   ]
  },
  {
   "cell_type": "code",
   "execution_count": 3,
   "metadata": {},
   "outputs": [],
   "source": [
    "# Features and Labels\n",
    "X = df[\"Sentence\"]  # Input sentences\n",
    "y = df[\"Error Type\"]  # Error types\n",
    "\n",
    "# Encode labels to numeric values\n",
    "y_encoded = pd.factorize(y)[0]\n"
   ]
  },
  {
   "cell_type": "code",
   "execution_count": 4,
   "metadata": {},
   "outputs": [
    {
     "name": "stdout",
     "output_type": "stream",
     "text": [
      "Training Samples: 3500, Validation Samples: 750, Test Samples: 750\n"
     ]
    }
   ],
   "source": [
    "# Train-Validation-Test Split\n",
    "X_train, X_temp, y_train, y_temp = train_test_split(X, y_encoded, test_size=0.3, random_state=42)\n",
    "X_val, X_test, y_val, y_test = train_test_split(X_temp, y_temp, test_size=0.5, random_state=42)\n",
    "\n",
    "print(f\"Training Samples: {len(X_train)}, Validation Samples: {len(X_val)}, Test Samples: {len(X_test)}\")\n"
   ]
  },
  {
   "cell_type": "markdown",
   "metadata": {},
   "source": [
    "        Step 3: Convert Sentences to Features"
   ]
  },
  {
   "cell_type": "code",
   "execution_count": 5,
   "metadata": {},
   "outputs": [
    {
     "name": "stdout",
     "output_type": "stream",
     "text": [
      "TF-IDF Vectorized Shape: (3500, 118)\n"
     ]
    }
   ],
   "source": [
    "# TF-IDF Vectorization\n",
    "vectorizer = TfidfVectorizer(analyzer=\"word\", token_pattern=r'\\S+', ngram_range=(1, 2))\n",
    "\n",
    "# Transform Sentences\n",
    "X_train_vec = vectorizer.fit_transform(X_train)\n",
    "X_val_vec = vectorizer.transform(X_val)\n",
    "X_test_vec = vectorizer.transform(X_test)\n",
    "\n",
    "print(f\"TF-IDF Vectorized Shape: {X_train_vec.shape}\")\n"
   ]
  },
  {
   "cell_type": "markdown",
   "metadata": {},
   "source": [
    "        Step 4: Train the Model"
   ]
  },
  {
   "cell_type": "code",
   "execution_count": 6,
   "metadata": {},
   "outputs": [
    {
     "name": "stdout",
     "output_type": "stream",
     "text": [
      "Model training complete.\n"
     ]
    }
   ],
   "source": [
    "# Train Random Forest Model\n",
    "model = RandomForestClassifier(n_estimators=100, random_state=42)\n",
    "model.fit(X_train_vec, y_train)\n",
    "\n",
    "print(\"Model training complete.\")\n"
   ]
  },
  {
   "cell_type": "code",
   "execution_count": 8,
   "metadata": {},
   "outputs": [
    {
     "name": "stdout",
     "output_type": "stream",
     "text": [
      "Model and vectorizer saved successfully!\n"
     ]
    }
   ],
   "source": [
    "import os\n",
    "\n",
    "# Ensure the directory exists\n",
    "save_dir = r\"H:\\Semester 7\\EC9640_Artificial Intelligence\\AI Project\\Tamil-SpellGrammar-Checker\\saved_models\"\n",
    "os.makedirs(save_dir, exist_ok=True)\n",
    "\n",
    "# Save the model and vectorizer\n",
    "joblib.dump(model, os.path.join(save_dir, \"tamil_grammar_model.pkl\"))\n",
    "joblib.dump(vectorizer, os.path.join(save_dir, \"tamil_vectorizer.pkl\"))\n",
    "\n",
    "print(\"Model and vectorizer saved successfully!\")\n"
   ]
  },
  {
   "cell_type": "markdown",
   "metadata": {},
   "source": [
    "        Step 5: Validate the Model"
   ]
  },
  {
   "cell_type": "code",
   "execution_count": 9,
   "metadata": {},
   "outputs": [
    {
     "name": "stdout",
     "output_type": "stream",
     "text": [
      "Validation Performance:\n",
      "              precision    recall  f1-score   support\n",
      "\n",
      "           0       0.24      0.24      0.24        94\n",
      "           1       0.26      0.28      0.27        95\n",
      "           2       1.00      1.00      1.00       383\n",
      "           3       0.18      0.20      0.19        76\n",
      "           4       0.30      0.25      0.27       102\n",
      "\n",
      "    accuracy                           0.63       750\n",
      "   macro avg       0.40      0.39      0.39       750\n",
      "weighted avg       0.63      0.63      0.63       750\n",
      "\n"
     ]
    }
   ],
   "source": [
    "# Validation Set Evaluation\n",
    "y_val_pred = model.predict(X_val_vec)\n",
    "print(\"Validation Performance:\")\n",
    "print(classification_report(y_val, y_val_pred))\n"
   ]
  },
  {
   "cell_type": "code",
   "execution_count": 10,
   "metadata": {},
   "outputs": [
    {
     "data": {
      "text/plain": [
       "<sklearn.metrics._plot.confusion_matrix.ConfusionMatrixDisplay at 0x2c421d23920>"
      ]
     },
     "execution_count": 10,
     "metadata": {},
     "output_type": "execute_result"
    },
    {
     "data": {
      "image/png": "[encoded data removed]",
      "text/plain": [
       "<Figure size 640x480 with 2 Axes>"
      ]
     },
     "metadata": {},
     "output_type": "display_data"
    }
   ],
   "source": [
    "from sklearn.metrics import ConfusionMatrixDisplay\n",
    "\n",
    "ConfusionMatrixDisplay.from_estimator(model, X_val_vec, y_val)\n"
   ]
  },
  {
   "cell_type": "markdown",
   "metadata": {},
   "source": [
    "        Step 6: Test the Model"
   ]
  },
  {
   "cell_type": "code",
   "execution_count": null,
   "metadata": {},
   "outputs": [
    {
     "name": "stdout",
     "output_type": "stream",
     "text": [
      "Test Performance:\n",
      "              precision    recall  f1-score   support\n",
      "\n",
      "           0       0.17      0.20      0.18        92\n",
      "           1       0.27      0.27      0.27       108\n",
      "           2       1.00      1.00      1.00       355\n",
      "           3       0.23      0.23      0.23        98\n",
      "           4       0.26      0.23      0.24        97\n",
      "\n",
      "    accuracy                           0.60       750\n",
      "   macro avg       0.39      0.39      0.39       750\n",
      "weighted avg       0.60      0.60      0.60       750\n",
      "\n"
     ]
    },
    {
     "data": {
      "text/plain": [
       "<sklearn.metrics._plot.confusion_matrix.ConfusionMatrixDisplay at 0x2c422701ac0>"
      ]
     },
     "execution_count": 11,
     "metadata": {},
     "output_type": "execute_result"
    },
    {
     "data": {
      "image/png": "[encoded data removed]",
      "text/plain": [
       "<Figure size 640x480 with 2 Axes>"
      ]
     },
     "metadata": {},
     "output_type": "display_data"
    }
   ],
   "source": [
    "# Test Set Evaluation\n",
    "y_test_pred = model.predict(X_test_vec)\n",
    "print(\"Test Performance:\")\n",
    "print(classification_report(y_test, y_test_pred))\n",
    "\n",
    "# Confusion Matrix for Test Set\n",
    "ConfusionMatrixDisplay.from_estimator(model, X_test_vec, y_test)\n"
   ]
  },
  {
   "cell_type": "markdown",
   "metadata": {},
   "source": [
    "        Step 7: Predict on New Sentences"
   ]
  },
  {
   "cell_type": "code",
   "execution_count": 12,
   "metadata": {},
   "outputs": [
    {
     "name": "stdout",
     "output_type": "stream",
     "text": [
      "Sentence: அவன் பள்ளிக்கு செல்கிறான் | Predicted Error Type: No Error\n",
      "Sentence: அவர்கள் பாடம் படிக்கிறான் | Predicted Error Type: No Error\n"
     ]
    }
   ],
   "source": [
    "# Load the trained model and vectorizer\n",
    "model = joblib.load(r\"H:\\Semester 7\\EC9640_Artificial Intelligence\\AI Project\\Tamil-SpellGrammar-Checker\\saved_models\\tamil_grammar_model.pkl\")\n",
    "vectorizer = joblib.load(r\"H:\\Semester 7\\EC9640_Artificial Intelligence\\AI Project\\Tamil-SpellGrammar-Checker\\saved_models\\tamil_vectorizer.pkl\")\n",
    "\n",
    "# Predict on new sentences\n",
    "new_sentences = [\"அவன் பள்ளிக்கு செல்கிறான்\", \"அவர்கள் பாடம் படிக்கிறான்\"]\n",
    "new_sentences_vec = vectorizer.transform(new_sentences)\n",
    "predictions = model.predict(new_sentences_vec)\n",
    "\n",
    "# Decode predictions\n",
    "decoded_predictions = [pd.factorize(df[\"Error Type\"])[1][p] for p in predictions]\n",
    "for sentence, prediction in zip(new_sentences, decoded_predictions):\n",
    "    print(f\"Sentence: {sentence} | Predicted Error Type: {prediction}\")\n"
   ]
  },
  {
   "cell_type": "markdown",
   "metadata": {},
   "source": [
    "        Step 8: Accuracy on 5 Paragraphs"
   ]
  },
  {
   "cell_type": "code",
   "execution_count": 27,
   "metadata": {},
   "outputs": [],
   "source": [
    "paragraphs = [\n",
    "    \"அவர்கள் பள்ளிக்கு செல்கிறான். அவள் பழத்தை சாப்பிடுகிறாள்.\",\n",
    "    \"அவன் பள்ளிக்கு செல்கிறான். பார்வதி வீட்டில் வேலை செய்கிறாள்.\",\n",
    "    \"நான் பள்ளிக்கு செல்றேன். அவள் குழந்தையை பள்ளிக்கு அழைத்துச் செல்கிறாள்.\",\n",
    "    \"அவன் புத்தகத்தை படிக்கிறான். அவள் பள்ளிக்கு செல்கிறாள்.\",\n",
    "    \"நான் பள்ளிக்கு செல்றேன். அவள் பழத்தை சாப்பிடுகிறாள்.\"\n",
    "]\n"
   ]
  },
  {
   "cell_type": "code",
   "execution_count": 28,
   "metadata": {},
   "outputs": [
    {
     "name": "stdout",
     "output_type": "stream",
     "text": [
      "Paragraph 1: அவர்கள் பள்ளிக்கு செல்கிறான். அவள் பழத்தை சாப்பிடுகிறாள்.\n",
      "  Sentence 1: அவர்கள் பள்ளிக்கு செல்கிறான்\n",
      "    Predicted Error Type: 2\n",
      "    Suggested Correction: அவர்கள் பள்ளிக்கு செல்கிறார்கள்.\n",
      "  Sentence 2: அவள் பழத்தை சாப்பிடுகிறாள்.\n",
      "    Predicted Error Type: 3\n",
      "    Suggested Correction: அவள் பழத்தை சாப்பிடுகிறாள்.\n",
      "--------------------------------------------------\n",
      "Paragraph 2: அவன் பள்ளிக்கு செல்கிறான். பார்வதி வீட்டில் வேலை செய்கிறாள்.\n",
      "  Sentence 1: அவன் பள்ளிக்கு செல்கிறான்\n",
      "    Predicted Error Type: 2\n",
      "    Suggested Correction: அவன் பள்ளிக்கு செல்கிறான்.\n",
      "  Sentence 2: பார்வதி வீட்டில் வேலை செய்கிறாள்.\n",
      "    Predicted Error Type: 1\n",
      "    Suggested Correction: பார்வதி வீட்டில் வேலை செய்கிறாள்.\n",
      "--------------------------------------------------\n",
      "Paragraph 3: நான் பள்ளிக்கு செல்றேன். அவள் குழந்தையை பள்ளிக்கு அழைத்துச் செல்கிறாள்.\n",
      "  Sentence 1: நான் பள்ளிக்கு செல்றேன்\n",
      "    Predicted Error Type: 2\n",
      "    Suggested Correction: நான் பள்ளிக்கு செல்கிறேன்.\n",
      "  Sentence 2: அவள் குழந்தையை பள்ளிக்கு அழைத்துச் செல்கிறாள்.\n",
      "    Predicted Error Type: 2\n",
      "    Suggested Correction: அவள் குழந்தையை பள்ளிக்கு அழைத்துச் செல்கிறாள்.\n",
      "--------------------------------------------------\n",
      "Paragraph 4: அவன் புத்தகத்தை படிக்கிறான். அவள் பள்ளிக்கு செல்கிறாள்.\n",
      "  Sentence 1: அவன் புத்தகத்தை படிக்கிறான்\n",
      "    Predicted Error Type: 2\n",
      "    Suggested Correction: அவன் புத்தகத்தை படிக்கிறான்.\n",
      "  Sentence 2: அவள் பள்ளிக்கு செல்கிறாள்.\n",
      "    Predicted Error Type: 2\n",
      "    Suggested Correction: அவள் பள்ளிக்கு செல்கிறாள்.\n",
      "--------------------------------------------------\n",
      "Paragraph 5: நான் பள்ளிக்கு செல்றேன். அவள் பழத்தை சாப்பிடுகிறாள்.\n",
      "  Sentence 1: நான் பள்ளிக்கு செல்றேன்\n",
      "    Predicted Error Type: 2\n",
      "    Suggested Correction: நான் பள்ளிக்கு செல்கிறேன்.\n",
      "  Sentence 2: அவள் பழத்தை சாப்பிடுகிறாள்.\n",
      "    Predicted Error Type: 3\n",
      "    Suggested Correction: அவள் பழத்தை சாப்பிடுகிறாள்.\n",
      "--------------------------------------------------\n",
      "Error Detection Accuracy: 0.00\n"
     ]
    }
   ],
   "source": [
    "# Initialize counters\n",
    "total_sentences = 0\n",
    "correct_predictions = 0\n",
    "correction_accuracy = 0\n",
    "\n",
    "# Placeholder for expected results (replace with actual ground truth for accuracy computation)\n",
    "expected_results = [\n",
    "    {\"errors\": [\"Subject-Verb Agreement\", \"No Error\"], \"corrections\": [\"அவர்கள் பள்ளிக்கு செல்கிறார்கள்.\", \"அவள் பழத்தை சாப்பிடுகிறாள்.\"]},\n",
    "    {\"errors\": [\"No Error\", \"No Error\"], \"corrections\": [\"அவன் பள்ளிக்கு செல்கிறான்.\", \"பார்வதி வீட்டில் வேலை செய்கிறாள்.\"]},\n",
    "    {\"errors\": [\"Subject-Verb Agreement\", \"No Error\"], \"corrections\": [\"நான் பள்ளிக்கு செல்கிறேன்.\", \"அவள் குழந்தையை பள்ளிக்கு அழைத்துச் செல்கிறாள்.\"]},\n",
    "    {\"errors\": [\"No Error\", \"No Error\"], \"corrections\": [\"அவன் புத்தகத்தை படிக்கிறான்.\", \"அவள் பள்ளிக்கு செல்கிறாள்.\"]},\n",
    "    {\"errors\": [\"Subject-Verb Agreement\", \"No Error\"], \"corrections\": [\"நான் பள்ளிக்கு செல்கிறேன்.\", \"அவள் பழத்தை சாப்பிடுகிறாள்.\"]}\n",
    "]\n",
    "\n",
    "# Process paragraphs\n",
    "for i, paragraph in enumerate(paragraphs):\n",
    "    sentences = paragraph.split(\". \")  # Split paragraph into sentences\n",
    "    sentence_vecs = vectorizer.transform(sentences)  # Vectorize sentences\n",
    "    predictions = model.predict(sentence_vecs)  # Predict error types\n",
    "    \n",
    "    print(f\"Paragraph {i + 1}: {paragraph}\")\n",
    "    for j, sentence in enumerate(sentences):\n",
    "        print(f\"  Sentence {j + 1}: {sentence}\")\n",
    "        predicted_error = predictions[j]\n",
    "        \n",
    "        # Compare predictions with expected results (replace with actual logic)\n",
    "        expected_error = expected_results[i][\"errors\"][j]\n",
    "        correction = expected_results[i][\"corrections\"][j]  # Replace with your correction logic\n",
    "        \n",
    "        # Simulate accuracy computation\n",
    "        if predicted_error == expected_error:\n",
    "            correct_predictions += 1\n",
    "        \n",
    "        print(f\"    Predicted Error Type: {predicted_error}\")\n",
    "        print(f\"    Suggested Correction: {correction}\")\n",
    "    print(\"-\" * 50)\n",
    "\n",
    "# Accuracy Metrics\n",
    "total_sentences = sum(len(paragraph.split(\". \")) for paragraph in paragraphs)\n",
    "detection_accuracy = correct_predictions / total_sentences\n",
    "print(f\"Error Detection Accuracy: {detection_accuracy:.2f}\")\n"
   ]
  },
  {
   "cell_type": "code",
   "execution_count": 29,
   "metadata": {},
   "outputs": [
    {
     "name": "stdout",
     "output_type": "stream",
     "text": [
      "Paragraph 1: அவர்கள் பள்ளிக்கு செல்கிறான். அவள் பழத்தை சாப்பிடுகிறாள்.\n",
      "  Sentence 1: அவர்கள் பள்ளிக்கு செல்கிறான்\n",
      "    Predicted Error Type: No Error\n",
      "    Expected Error Type: Subject-Verb Agreement\n",
      "    Suggested Correction: அவர்கள் பள்ளிக்கு செல்கிறார்கள்.\n",
      "  Sentence 2: அவள் பழத்தை சாப்பிடுகிறாள்.\n",
      "    Predicted Error Type: Habitual Error\n",
      "    Expected Error Type: No Error\n",
      "    Suggested Correction: அவள் பழத்தை சாப்பிடுகிறாள்.\n",
      "--------------------------------------------------\n",
      "Paragraph 2: அவன் பள்ளிக்கு செல்கிறான். பார்வதி வீட்டில் வேலை செய்கிறாள்.\n",
      "  Sentence 1: அவன் பள்ளிக்கு செல்கிறான்\n",
      "    Predicted Error Type: No Error\n",
      "    Expected Error Type: No Error\n",
      "    Suggested Correction: அவன் பள்ளிக்கு செல்கிறான்.\n",
      "  Sentence 2: பார்வதி வீட்டில் வேலை செய்கிறாள்.\n",
      "    Predicted Error Type: Subject-Verb Agreement\n",
      "    Expected Error Type: No Error\n",
      "    Suggested Correction: பார்வதி வீட்டில் வேலை செய்கிறாள்.\n",
      "--------------------------------------------------\n",
      "Paragraph 3: நான் பள்ளிக்கு செல்றேன். அவள் குழந்தையை பள்ளிக்கு அழைத்துச் செல்கிறாள்.\n",
      "  Sentence 1: நான் பள்ளிக்கு செல்றேன்\n",
      "    Predicted Error Type: No Error\n",
      "    Expected Error Type: Subject-Verb Agreement\n",
      "    Suggested Correction: நான் பள்ளிக்கு செல்கிறேன்.\n",
      "  Sentence 2: அவள் குழந்தையை பள்ளிக்கு அழைத்துச் செல்கிறாள்.\n",
      "    Predicted Error Type: No Error\n",
      "    Expected Error Type: No Error\n",
      "    Suggested Correction: அவள் குழந்தையை பள்ளிக்கு அழைத்துச் செல்கிறாள்.\n",
      "--------------------------------------------------\n",
      "Paragraph 4: அவன் புத்தகத்தை படிக்கிறான். அவள் பள்ளிக்கு செல்கிறாள்.\n",
      "  Sentence 1: அவன் புத்தகத்தை படிக்கிறான்\n",
      "    Predicted Error Type: No Error\n",
      "    Expected Error Type: No Error\n",
      "    Suggested Correction: அவன் புத்தகத்தை படிக்கிறான்.\n",
      "  Sentence 2: அவள் பள்ளிக்கு செல்கிறாள்.\n",
      "    Predicted Error Type: No Error\n",
      "    Expected Error Type: No Error\n",
      "    Suggested Correction: அவள் பள்ளிக்கு செல்கிறாள்.\n",
      "--------------------------------------------------\n",
      "Paragraph 5: நான் பள்ளிக்கு செல்றேன். அவள் பழத்தை சாப்பிடுகிறாள்.\n",
      "  Sentence 1: நான் பள்ளிக்கு செல்றேன்\n",
      "    Predicted Error Type: No Error\n",
      "    Expected Error Type: Subject-Verb Agreement\n",
      "    Suggested Correction: நான் பள்ளிக்கு செல்கிறேன்.\n",
      "  Sentence 2: அவள் பழத்தை சாப்பிடுகிறாள்.\n",
      "    Predicted Error Type: Habitual Error\n",
      "    Expected Error Type: No Error\n",
      "    Suggested Correction: அவள் பழத்தை சாப்பிடுகிறாள்.\n",
      "--------------------------------------------------\n",
      "Error Detection Accuracy: 0.40\n"
     ]
    }
   ],
   "source": [
    "# Error Type Mapping\n",
    "error_type_map = {0: \"Spelling Error\", 1: \"Subject-Verb Agreement\", 2: \"No Error\", 3: \"Habitual Error\", 4: \"Other\"}\n",
    "\n",
    "# Process Paragraphs\n",
    "correct_predictions = 0\n",
    "total_sentences = 0\n",
    "\n",
    "for i, paragraph in enumerate(paragraphs):\n",
    "    sentences = paragraph.split(\". \")\n",
    "    sentence_vecs = vectorizer.transform(sentences)\n",
    "    predictions = model.predict(sentence_vecs)\n",
    "    \n",
    "    print(f\"Paragraph {i + 1}: {paragraph}\")\n",
    "    for j, sentence in enumerate(sentences):\n",
    "        predicted_error = predictions[j]\n",
    "        expected_error = expected_results[i][\"errors\"][j]\n",
    "        correction = expected_results[i][\"corrections\"][j]\n",
    "\n",
    "        # Compare with ground truth\n",
    "        if error_type_map[predicted_error] == expected_error:\n",
    "            correct_predictions += 1\n",
    "\n",
    "        print(f\"  Sentence {j + 1}: {sentence}\")\n",
    "        print(f\"    Predicted Error Type: {error_type_map[predicted_error]}\")\n",
    "        print(f\"    Expected Error Type: {expected_error}\")\n",
    "        print(f\"    Suggested Correction: {correction}\")\n",
    "    print(\"-\" * 50)\n",
    "\n",
    "# Calculate and Print Accuracy\n",
    "total_sentences = sum(len(paragraph.split(\". \")) for paragraph in paragraphs)\n",
    "accuracy = correct_predictions / total_sentences\n",
    "print(f\"Error Detection Accuracy: {accuracy:.2f}\")\n"
   ]
  }
 ],
 "metadata": {
  "kernelspec": {
   "display_name": "base",
   "language": "python",
   "name": "python3"
  },
  "language_info": {
   "codemirror_mode": {
    "name": "ipython",
    "version": 3
   },
   "file_extension": ".py",
   "mimetype": "text/x-python",
   "name": "python",
   "nbconvert_exporter": "python",
   "pygments_lexer": "ipython3",
   "version": "3.12.7"
  }
 },
 "nbformat": 4,
 "nbformat_minor": 2
}
